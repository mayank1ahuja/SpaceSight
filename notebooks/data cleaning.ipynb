{
 "cells": [
  {
   "cell_type": "markdown",
   "id": "30becbe4",
   "metadata": {},
   "source": [
    "## Step 0: Loading Dependencies"
   ]
  },
  {
   "cell_type": "code",
   "execution_count": 3,
   "id": "726a08da",
   "metadata": {},
   "outputs": [],
   "source": [
    "import pandas as pd\n",
    "import numpy as np\n",
    "from pathlib import Path\n",
    "from datetime import datetime\n",
    "import re"
   ]
  },
  {
   "cell_type": "markdown",
   "id": "02826a2e",
   "metadata": {},
   "source": [
    "## Step 1: Loading Data"
   ]
  },
  {
   "cell_type": "code",
   "execution_count": null,
   "id": "9de9b671",
   "metadata": {},
   "outputs": [
    {
     "name": "stdout",
     "output_type": "stream",
     "text": [
      "Shape: (7560, 68)\n"
     ]
    }
   ],
   "source": [
    "df = pd.read_excel(\n",
    "    'UCS-Satellite-Database 5-1-2023.xlsx',\n",
    "    engine='openpyxl'  \n",
    ")\n",
    "\n",
    "print(\"Shape:\", df.shape)"
   ]
  },
  {
   "cell_type": "markdown",
   "id": "100e6780",
   "metadata": {},
   "source": [
    "## Step 2: Mapping Columns"
   ]
  },
  {
   "cell_type": "code",
   "execution_count": null,
   "id": "5f1b1ca3",
   "metadata": {},
   "outputs": [],
   "source": [
    "# mapping columns to a minimum quantity\n",
    "col_map = {\n",
    "    'Name of Satellite, Alternate Names' : 'sat_name',\n",
    "    'Current Official Name of Satellite' : 'sat_name_official',\n",
    "    'Country/Org of UN Registry' : 'country_registry',\n",
    "    'Country of Operator/Owner' : 'country_operator',\n",
    "    'Operator/Owner' : 'operator',\n",
    "    'Users' : 'users',\n",
    "    'Purpose' : 'purpose',\n",
    "    'Detailed Purpose' : 'detailed_purpose',\n",
    "    'Class of Orbit' : 'class_of_orbit',\n",
    "    'Type of Orbit' : 'type_of_orbit',\n",
    "    'Perigee(km)' : 'perigee_km',\n",
    "    'Apogee(km)' : 'apogee_km',\n",
    "    'Inclination(degrees)' : 'inclination_deg',\n",
    "    'Date of Launch' : 'date_of_launch',\n",
    "    'Launch Mass(kg)' : 'launch_mass_kg',\n",
    "    'Expected Lifetime(yrs)' : 'expected_lifetime_yrs'\n",
    "}\n",
    "# appling mapping for columns that exist\n",
    "existing_map = {k:v for k, v in col_map.items() if k in df.columns}\n",
    "df = df.rename(columns = existing_map)"
   ]
  },
  {
   "cell_type": "markdown",
   "id": "747f0dc7",
   "metadata": {},
   "source": [
    "## Step 3: Keeping Relevant Columns"
   ]
  },
  {
   "cell_type": "code",
   "execution_count": null,
   "id": "b5e08166",
   "metadata": {},
   "outputs": [],
   "source": [
    "# keeping relevant columns to avoid surprise columns\n",
    "keep = [v for v in existing_map.values()]\n",
    "\n",
    "# keeping raw name and purpose if they exist\n",
    "for c in [\"sat_name\",\"operator\",\"purpose\",\"perigee_km\",\"apogee_km\",\"inclination_deg\",\"date_of_launch\"]:\n",
    "    if c not in df.columns:\n",
    "        df[c] = np.nan"
   ]
  },
  {
   "cell_type": "code",
   "execution_count": 6,
   "id": "c83f5c53",
   "metadata": {},
   "outputs": [
    {
     "data": {
      "text/plain": [
       "sat_name              object\n",
       "sat_name_official     object\n",
       "country_registry      object\n",
       "country_operator      object\n",
       "operator              object\n",
       "                      ...   \n",
       "Unnamed: 66           object\n",
       "Unnamed: 67           object\n",
       "perigee_km           float64\n",
       "apogee_km            float64\n",
       "inclination_deg      float64\n",
       "Length: 71, dtype: object"
      ]
     },
     "execution_count": 6,
     "metadata": {},
     "output_type": "execute_result"
    }
   ],
   "source": [
    "df.dtypes"
   ]
  },
  {
   "cell_type": "markdown",
   "id": "07016faf",
   "metadata": {},
   "source": [
    "## Step 4: Parsing Dates"
   ]
  },
  {
   "cell_type": "code",
   "execution_count": null,
   "id": "99fdd18d",
   "metadata": {},
   "outputs": [],
   "source": [
    "df['date_of_launch'] = pd.to_datetime(df['date_of_launch'], errors = 'coerce')"
   ]
  },
  {
   "cell_type": "markdown",
   "id": "617afd86",
   "metadata": {},
   "source": [
    "## Step 5: Fixing Data Types"
   ]
  },
  {
   "cell_type": "code",
   "execution_count": null,
   "id": "858ed671",
   "metadata": {},
   "outputs": [],
   "source": [
    "df['perigee_km'] = pd.to_numeric(df['perigee_km'], errors = 'coerce')"
   ]
  },
  {
   "cell_type": "code",
   "execution_count": null,
   "id": "c1c05de7",
   "metadata": {},
   "outputs": [],
   "source": [
    "df['apogee_km'] = pd.to_numeric(df['apogee_km'], errors = 'coerce')"
   ]
  },
  {
   "cell_type": "code",
   "execution_count": null,
   "id": "d3b8391e",
   "metadata": {},
   "outputs": [],
   "source": [
    "df['inclination_deg'] = pd.to_numeric(df['inclination_deg'], errors = 'coerce')"
   ]
  },
  {
   "cell_type": "code",
   "execution_count": null,
   "id": "bf2094ad",
   "metadata": {},
   "outputs": [],
   "source": [
    "df['launch_mass_kg'] = pd.to_numeric(df.get('launch_mass_kg'), errors = 'coerce')"
   ]
  },
  {
   "cell_type": "markdown",
   "id": "238c0598",
   "metadata": {},
   "source": [
    "## Step 6: Feature Engineering"
   ]
  },
  {
   "cell_type": "code",
   "execution_count": null,
   "id": "99cefec6",
   "metadata": {},
   "outputs": [],
   "source": [
    "# deriving perigee and apogee\n",
    "df['mean_alt_km'] = df[['perigee_km','apogee_km']].mean(axis = 1)"
   ]
  },
  {
   "cell_type": "code",
   "execution_count": null,
   "id": "71bb9a84",
   "metadata": {},
   "outputs": [],
   "source": [
    "# deriving the year of launch\n",
    "df['launch_year'] = df['date_of_launch'].dt.year"
   ]
  },
  {
   "cell_type": "code",
   "execution_count": null,
   "id": "1a410fcb",
   "metadata": {},
   "outputs": [],
   "source": [
    "# pinning analysis date\n",
    "ANALYSIS_DATE = datetime(2025, 9, 6) "
   ]
  },
  {
   "cell_type": "code",
   "execution_count": null,
   "id": "94f72e58",
   "metadata": {},
   "outputs": [],
   "source": [
    "# creating age feature\n",
    "df['age_years'] = (ANALYSIS_DATE - df['date_of_launch']).dt.days / 365.25"
   ]
  },
  {
   "cell_type": "code",
   "execution_count": null,
   "id": "b0c548a0",
   "metadata": {},
   "outputs": [],
   "source": [
    "# deriving orbit shells\n",
    "def classify_shell(alt, text):\n",
    "    if pd.notna(alt):\n",
    "        if alt < 2000: return 'LEO'\n",
    "        if alt < 35786: return 'MEO'\n",
    "        return 'GEO'\n",
    "    if isinstance(text, str):\n",
    "        s=text.lower()\n",
    "        if 'leo' in s: return 'LEO'\n",
    "        if 'meo' in s: return 'MEO'\n",
    "        if 'geo' in s: return 'GEO'\n",
    "    return 'UNKNOWN'\n",
    "df['orbit_shell'] = df.apply(lambda r: classify_shell(r['mean_alt_km'], r.get('class_of_orbit','')), axis = 1)"
   ]
  },
  {
   "cell_type": "code",
   "execution_count": null,
   "id": "3c03aac7",
   "metadata": {},
   "outputs": [],
   "source": [
    "# bucketing inclination into bands\n",
    "def incl_band(x):\n",
    "    if pd.isna(x): return 'UNKNOWN'\n",
    "    x = float(x)\n",
    "    if x < 30: return 'Equatorial (0-30)'\n",
    "    if x < 60: return 'Low-mid (30-60)'\n",
    "    return 'Polar/high (60-90)'\n",
    "df['inclination_band'] = df['inclination_deg'].apply(incl_band)"
   ]
  },
  {
   "cell_type": "code",
   "execution_count": null,
   "id": "971a6895",
   "metadata": {},
   "outputs": [],
   "source": [
    "# canonicalizing purpose\n",
    "purpose_map = {'comm':'Communication','communicat':'Communication','communication':'Communication',\n",
    "               'earth': 'EO','eo':'EO','remote':'EO','science':'Scientific','scientific':'Scientific',\n",
    "               'milit':'Military','nav':'Navigation','tech':'Technology/Demo'}\n",
    "def canon_purpose(p):\n",
    "    if pd.isna(p): return 'Unknown'\n",
    "    s = str(p).lower()\n",
    "    for k,v in purpose_map.items():\n",
    "        if k in s: return v\n",
    "    return s.title()\n",
    "df['purpose_canonical'] = df['purpose'].apply(canon_purpose)"
   ]
  },
  {
   "cell_type": "code",
   "execution_count": null,
   "id": "adc3221d",
   "metadata": {},
   "outputs": [],
   "source": [
    "# bucketing altitude into 1,000-km bands\n",
    "df['alt_band_1000km'] = (df['mean_alt_km']//1000).fillna(-1).astype(int)*1000"
   ]
  },
  {
   "cell_type": "code",
   "execution_count": null,
   "id": "0b98f967",
   "metadata": {},
   "outputs": [],
   "source": [
    "# flagging aged hardware (10 and 15 year thresholds)\n",
    "df['old_10y'] = df['age_years'] > 10\n",
    "df['old_15y'] = df['age_years'] > 15"
   ]
  },
  {
   "cell_type": "markdown",
   "id": "ed0e4b0d",
   "metadata": {},
   "source": [
    "## Step 7: Exporting Cleaned Data"
   ]
  },
  {
   "cell_type": "code",
   "execution_count": null,
   "id": "888e5a77",
   "metadata": {},
   "outputs": [],
   "source": [
    "df.to_csv('ucs_satellites_cleaned.csv', index = False)"
   ]
  }
 ],
 "metadata": {
  "kernelspec": {
   "display_name": "Python 3",
   "language": "python",
   "name": "python3"
  },
  "language_info": {
   "codemirror_mode": {
    "name": "ipython",
    "version": 3
   },
   "file_extension": ".py",
   "mimetype": "text/x-python",
   "name": "python",
   "nbconvert_exporter": "python",
   "pygments_lexer": "ipython3",
   "version": "3.13.7"
  }
 },
 "nbformat": 4,
 "nbformat_minor": 5
}
