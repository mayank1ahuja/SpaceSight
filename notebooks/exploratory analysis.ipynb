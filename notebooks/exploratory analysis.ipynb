{
 "cells": [
  {
   "cell_type": "code",
   "execution_count": 1,
   "id": "20d16555",
   "metadata": {},
   "outputs": [],
   "source": [
    "import pandas as pd\n",
    "import plotly.express as px\n",
    "from pathlib import Path"
   ]
  },
  {
   "cell_type": "markdown",
   "id": "11ac81b7",
   "metadata": {},
   "source": [
    "## Step 9: Loading Cleaned Data"
   ]
  },
  {
   "cell_type": "code",
   "execution_count": null,
   "id": "86e318f8",
   "metadata": {},
   "outputs": [],
   "source": [
    "df = pd.read_csv('ucs_satellites_derived.csv', parse_dates = ['date_of_launch'])"
   ]
  },
  {
   "cell_type": "code",
   "execution_count": null,
   "id": "ff66e7a4",
   "metadata": {},
   "outputs": [
    {
     "name": "stdout",
     "output_type": "stream",
     "text": [
      "\n",
      "Counts by shell:\n",
      " orbit_shell  count\n",
      "        LEO   6768\n",
      "        GEO    590\n",
      "        MEO    143\n",
      "    UNKNOWN     59\n"
     ]
    }
   ],
   "source": [
    "shell_counts = df['orbit_shell'].value_counts().rename_axis('orbit_shell').reset_index(name = 'count')\n",
    "print(\"\\nCounts by shell:\\n\", shell_counts.to_string(index=False))"
   ]
  },
  {
   "cell_type": "markdown",
   "id": "a691f683",
   "metadata": {},
   "source": [
    "## Step 10: Visualising Data"
   ]
  },
  {
   "cell_type": "code",
   "execution_count": null,
   "id": "edbc07f5",
   "metadata": {},
   "outputs": [
    {
     "data": {
      "application/vnd.plotly.v1+json": {
       "config": {
        "plotlyServerURL": "https://plot.ly"
       },
       "data": [
        {
         "hovertemplate": "orbit_shell=%{x}<br>count=%{y}<extra></extra>",
         "legendgroup": "GEO",
         "marker": {
          "color": "#0d0887",
          "pattern": {
           "shape": ""
          }
         },
         "name": "GEO",
         "orientation": "v",
         "showlegend": true,
         "textposition": "auto",
         "type": "bar",
         "x": [
          "GEO"
         ],
         "xaxis": "x",
         "y": {
          "bdata": "TgI=",
          "dtype": "i2"
         },
         "yaxis": "y"
        },
        {
         "hovertemplate": "orbit_shell=%{x}<br>count=%{y}<extra></extra>",
         "legendgroup": "LEO",
         "marker": {
          "color": "#46039f",
          "pattern": {
           "shape": ""
          }
         },
         "name": "LEO",
         "orientation": "v",
         "showlegend": true,
         "textposition": "auto",
         "type": "bar",
         "x": [
          "LEO"
         ],
         "xaxis": "x",
         "y": {
          "bdata": "cBo=",
          "dtype": "i2"
         },
         "yaxis": "y"
        },
        {
         "hovertemplate": "orbit_shell=%{x}<br>count=%{y}<extra></extra>",
         "legendgroup": "MEO",
         "marker": {
          "color": "#7201a8",
          "pattern": {
           "shape": ""
          }
         },
         "name": "MEO",
         "orientation": "v",
         "showlegend": true,
         "textposition": "auto",
         "type": "bar",
         "x": [
          "MEO"
         ],
         "xaxis": "x",
         "y": {
          "bdata": "jwA=",
          "dtype": "i2"
         },
         "yaxis": "y"
        },
        {
         "hovertemplate": "orbit_shell=%{x}<br>count=%{y}<extra></extra>",
         "legendgroup": "UNKNOWN",
         "marker": {
          "color": "#9c179e",
          "pattern": {
           "shape": ""
          }
         },
         "name": "UNKNOWN",
         "orientation": "v",
         "showlegend": true,
         "textposition": "auto",
         "type": "bar",
         "x": [
          "UNKNOWN"
         ],
         "xaxis": "x",
         "y": {
          "bdata": "Ow==",
          "dtype": "i1"
         },
         "yaxis": "y"
        }
       ],
       "layout": {
        "barmode": "relative",
        "legend": {
         "title": {
          "text": "orbit_shell"
         },
         "tracegroupgap": 0
        },
        "showlegend": false,
        "template": {
         "data": {
          "bar": [
           {
            "error_x": {
             "color": "#2a3f5f"
            },
            "error_y": {
             "color": "#2a3f5f"
            },
            "marker": {
             "line": {
              "color": "white",
              "width": 0.5
             },
             "pattern": {
              "fillmode": "overlay",
              "size": 10,
              "solidity": 0.2
             }
            },
            "type": "bar"
           }
          ],
          "barpolar": [
           {
            "marker": {
             "line": {
              "color": "white",
              "width": 0.5
             },
             "pattern": {
              "fillmode": "overlay",
              "size": 10,
              "solidity": 0.2
             }
            },
            "type": "barpolar"
           }
          ],
          "carpet": [
           {
            "aaxis": {
             "endlinecolor": "#2a3f5f",
             "gridcolor": "#C8D4E3",
             "linecolor": "#C8D4E3",
             "minorgridcolor": "#C8D4E3",
             "startlinecolor": "#2a3f5f"
            },
            "baxis": {
             "endlinecolor": "#2a3f5f",
             "gridcolor": "#C8D4E3",
             "linecolor": "#C8D4E3",
             "minorgridcolor": "#C8D4E3",
             "startlinecolor": "#2a3f5f"
            },
            "type": "carpet"
           }
          ],
          "choropleth": [
           {
            "colorbar": {
             "outlinewidth": 0,
             "ticks": ""
            },
            "type": "choropleth"
           }
          ],
          "contour": [
           {
            "colorbar": {
             "outlinewidth": 0,
             "ticks": ""
            },
            "colorscale": [
             [
              0,
              "#0d0887"
             ],
             [
              0.1111111111111111,
              "#46039f"
             ],
             [
              0.2222222222222222,
              "#7201a8"
             ],
             [
              0.3333333333333333,
              "#9c179e"
             ],
             [
              0.4444444444444444,
              "#bd3786"
             ],
             [
              0.5555555555555556,
              "#d8576b"
             ],
             [
              0.6666666666666666,
              "#ed7953"
             ],
             [
              0.7777777777777778,
              "#fb9f3a"
             ],
             [
              0.8888888888888888,
              "#fdca26"
             ],
             [
              1,
              "#f0f921"
             ]
            ],
            "type": "contour"
           }
          ],
          "contourcarpet": [
           {
            "colorbar": {
             "outlinewidth": 0,
             "ticks": ""
            },
            "type": "contourcarpet"
           }
          ],
          "heatmap": [
           {
            "colorbar": {
             "outlinewidth": 0,
             "ticks": ""
            },
            "colorscale": [
             [
              0,
              "#0d0887"
             ],
             [
              0.1111111111111111,
              "#46039f"
             ],
             [
              0.2222222222222222,
              "#7201a8"
             ],
             [
              0.3333333333333333,
              "#9c179e"
             ],
             [
              0.4444444444444444,
              "#bd3786"
             ],
             [
              0.5555555555555556,
              "#d8576b"
             ],
             [
              0.6666666666666666,
              "#ed7953"
             ],
             [
              0.7777777777777778,
              "#fb9f3a"
             ],
             [
              0.8888888888888888,
              "#fdca26"
             ],
             [
              1,
              "#f0f921"
             ]
            ],
            "type": "heatmap"
           }
          ],
          "histogram": [
           {
            "marker": {
             "pattern": {
              "fillmode": "overlay",
              "size": 10,
              "solidity": 0.2
             }
            },
            "type": "histogram"
           }
          ],
          "histogram2d": [
           {
            "colorbar": {
             "outlinewidth": 0,
             "ticks": ""
            },
            "colorscale": [
             [
              0,
              "#0d0887"
             ],
             [
              0.1111111111111111,
              "#46039f"
             ],
             [
              0.2222222222222222,
              "#7201a8"
             ],
             [
              0.3333333333333333,
              "#9c179e"
             ],
             [
              0.4444444444444444,
              "#bd3786"
             ],
             [
              0.5555555555555556,
              "#d8576b"
             ],
             [
              0.6666666666666666,
              "#ed7953"
             ],
             [
              0.7777777777777778,
              "#fb9f3a"
             ],
             [
              0.8888888888888888,
              "#fdca26"
             ],
             [
              1,
              "#f0f921"
             ]
            ],
            "type": "histogram2d"
           }
          ],
          "histogram2dcontour": [
           {
            "colorbar": {
             "outlinewidth": 0,
             "ticks": ""
            },
            "colorscale": [
             [
              0,
              "#0d0887"
             ],
             [
              0.1111111111111111,
              "#46039f"
             ],
             [
              0.2222222222222222,
              "#7201a8"
             ],
             [
              0.3333333333333333,
              "#9c179e"
             ],
             [
              0.4444444444444444,
              "#bd3786"
             ],
             [
              0.5555555555555556,
              "#d8576b"
             ],
             [
              0.6666666666666666,
              "#ed7953"
             ],
             [
              0.7777777777777778,
              "#fb9f3a"
             ],
             [
              0.8888888888888888,
              "#fdca26"
             ],
             [
              1,
              "#f0f921"
             ]
            ],
            "type": "histogram2dcontour"
           }
          ],
          "mesh3d": [
           {
            "colorbar": {
             "outlinewidth": 0,
             "ticks": ""
            },
            "type": "mesh3d"
           }
          ],
          "parcoords": [
           {
            "line": {
             "colorbar": {
              "outlinewidth": 0,
              "ticks": ""
             }
            },
            "type": "parcoords"
           }
          ],
          "pie": [
           {
            "automargin": true,
            "type": "pie"
           }
          ],
          "scatter": [
           {
            "fillpattern": {
             "fillmode": "overlay",
             "size": 10,
             "solidity": 0.2
            },
            "type": "scatter"
           }
          ],
          "scatter3d": [
           {
            "line": {
             "colorbar": {
              "outlinewidth": 0,
              "ticks": ""
             }
            },
            "marker": {
             "colorbar": {
              "outlinewidth": 0,
              "ticks": ""
             }
            },
            "type": "scatter3d"
           }
          ],
          "scattercarpet": [
           {
            "marker": {
             "colorbar": {
              "outlinewidth": 0,
              "ticks": ""
             }
            },
            "type": "scattercarpet"
           }
          ],
          "scattergeo": [
           {
            "marker": {
             "colorbar": {
              "outlinewidth": 0,
              "ticks": ""
             }
            },
            "type": "scattergeo"
           }
          ],
          "scattergl": [
           {
            "marker": {
             "colorbar": {
              "outlinewidth": 0,
              "ticks": ""
             }
            },
            "type": "scattergl"
           }
          ],
          "scattermap": [
           {
            "marker": {
             "colorbar": {
              "outlinewidth": 0,
              "ticks": ""
             }
            },
            "type": "scattermap"
           }
          ],
          "scattermapbox": [
           {
            "marker": {
             "colorbar": {
              "outlinewidth": 0,
              "ticks": ""
             }
            },
            "type": "scattermapbox"
           }
          ],
          "scatterpolar": [
           {
            "marker": {
             "colorbar": {
              "outlinewidth": 0,
              "ticks": ""
             }
            },
            "type": "scatterpolar"
           }
          ],
          "scatterpolargl": [
           {
            "marker": {
             "colorbar": {
              "outlinewidth": 0,
              "ticks": ""
             }
            },
            "type": "scatterpolargl"
           }
          ],
          "scatterternary": [
           {
            "marker": {
             "colorbar": {
              "outlinewidth": 0,
              "ticks": ""
             }
            },
            "type": "scatterternary"
           }
          ],
          "surface": [
           {
            "colorbar": {
             "outlinewidth": 0,
             "ticks": ""
            },
            "colorscale": [
             [
              0,
              "#0d0887"
             ],
             [
              0.1111111111111111,
              "#46039f"
             ],
             [
              0.2222222222222222,
              "#7201a8"
             ],
             [
              0.3333333333333333,
              "#9c179e"
             ],
             [
              0.4444444444444444,
              "#bd3786"
             ],
             [
              0.5555555555555556,
              "#d8576b"
             ],
             [
              0.6666666666666666,
              "#ed7953"
             ],
             [
              0.7777777777777778,
              "#fb9f3a"
             ],
             [
              0.8888888888888888,
              "#fdca26"
             ],
             [
              1,
              "#f0f921"
             ]
            ],
            "type": "surface"
           }
          ],
          "table": [
           {
            "cells": {
             "fill": {
              "color": "#EBF0F8"
             },
             "line": {
              "color": "white"
             }
            },
            "header": {
             "fill": {
              "color": "#C8D4E3"
             },
             "line": {
              "color": "white"
             }
            },
            "type": "table"
           }
          ]
         },
         "layout": {
          "annotationdefaults": {
           "arrowcolor": "#2a3f5f",
           "arrowhead": 0,
           "arrowwidth": 1
          },
          "autotypenumbers": "strict",
          "coloraxis": {
           "colorbar": {
            "outlinewidth": 0,
            "ticks": ""
           }
          },
          "colorscale": {
           "diverging": [
            [
             0,
             "#8e0152"
            ],
            [
             0.1,
             "#c51b7d"
            ],
            [
             0.2,
             "#de77ae"
            ],
            [
             0.3,
             "#f1b6da"
            ],
            [
             0.4,
             "#fde0ef"
            ],
            [
             0.5,
             "#f7f7f7"
            ],
            [
             0.6,
             "#e6f5d0"
            ],
            [
             0.7,
             "#b8e186"
            ],
            [
             0.8,
             "#7fbc41"
            ],
            [
             0.9,
             "#4d9221"
            ],
            [
             1,
             "#276419"
            ]
           ],
           "sequential": [
            [
             0,
             "#0d0887"
            ],
            [
             0.1111111111111111,
             "#46039f"
            ],
            [
             0.2222222222222222,
             "#7201a8"
            ],
            [
             0.3333333333333333,
             "#9c179e"
            ],
            [
             0.4444444444444444,
             "#bd3786"
            ],
            [
             0.5555555555555556,
             "#d8576b"
            ],
            [
             0.6666666666666666,
             "#ed7953"
            ],
            [
             0.7777777777777778,
             "#fb9f3a"
            ],
            [
             0.8888888888888888,
             "#fdca26"
            ],
            [
             1,
             "#f0f921"
            ]
           ],
           "sequentialminus": [
            [
             0,
             "#0d0887"
            ],
            [
             0.1111111111111111,
             "#46039f"
            ],
            [
             0.2222222222222222,
             "#7201a8"
            ],
            [
             0.3333333333333333,
             "#9c179e"
            ],
            [
             0.4444444444444444,
             "#bd3786"
            ],
            [
             0.5555555555555556,
             "#d8576b"
            ],
            [
             0.6666666666666666,
             "#ed7953"
            ],
            [
             0.7777777777777778,
             "#fb9f3a"
            ],
            [
             0.8888888888888888,
             "#fdca26"
            ],
            [
             1,
             "#f0f921"
            ]
           ]
          },
          "colorway": [
           "#636efa",
           "#EF553B",
           "#00cc96",
           "#ab63fa",
           "#FFA15A",
           "#19d3f3",
           "#FF6692",
           "#B6E880",
           "#FF97FF",
           "#FECB52"
          ],
          "font": {
           "color": "#2a3f5f"
          },
          "geo": {
           "bgcolor": "white",
           "lakecolor": "white",
           "landcolor": "white",
           "showlakes": true,
           "showland": true,
           "subunitcolor": "#C8D4E3"
          },
          "hoverlabel": {
           "align": "left"
          },
          "hovermode": "closest",
          "mapbox": {
           "style": "light"
          },
          "paper_bgcolor": "white",
          "plot_bgcolor": "white",
          "polar": {
           "angularaxis": {
            "gridcolor": "#EBF0F8",
            "linecolor": "#EBF0F8",
            "ticks": ""
           },
           "bgcolor": "white",
           "radialaxis": {
            "gridcolor": "#EBF0F8",
            "linecolor": "#EBF0F8",
            "ticks": ""
           }
          },
          "scene": {
           "xaxis": {
            "backgroundcolor": "white",
            "gridcolor": "#DFE8F3",
            "gridwidth": 2,
            "linecolor": "#EBF0F8",
            "showbackground": true,
            "ticks": "",
            "zerolinecolor": "#EBF0F8"
           },
           "yaxis": {
            "backgroundcolor": "white",
            "gridcolor": "#DFE8F3",
            "gridwidth": 2,
            "linecolor": "#EBF0F8",
            "showbackground": true,
            "ticks": "",
            "zerolinecolor": "#EBF0F8"
           },
           "zaxis": {
            "backgroundcolor": "white",
            "gridcolor": "#DFE8F3",
            "gridwidth": 2,
            "linecolor": "#EBF0F8",
            "showbackground": true,
            "ticks": "",
            "zerolinecolor": "#EBF0F8"
           }
          },
          "shapedefaults": {
           "line": {
            "color": "#2a3f5f"
           }
          },
          "ternary": {
           "aaxis": {
            "gridcolor": "#DFE8F3",
            "linecolor": "#A2B1C6",
            "ticks": ""
           },
           "baxis": {
            "gridcolor": "#DFE8F3",
            "linecolor": "#A2B1C6",
            "ticks": ""
           },
           "bgcolor": "white",
           "caxis": {
            "gridcolor": "#DFE8F3",
            "linecolor": "#A2B1C6",
            "ticks": ""
           }
          },
          "title": {
           "x": 0.05
          },
          "xaxis": {
           "automargin": true,
           "gridcolor": "#EBF0F8",
           "linecolor": "#EBF0F8",
           "ticks": "",
           "title": {
            "standoff": 15
           },
           "zerolinecolor": "#EBF0F8",
           "zerolinewidth": 2
          },
          "yaxis": {
           "automargin": true,
           "gridcolor": "#EBF0F8",
           "linecolor": "#EBF0F8",
           "ticks": "",
           "title": {
            "standoff": 15
           },
           "zerolinecolor": "#EBF0F8",
           "zerolinewidth": 2
          }
         }
        },
        "title": {
         "text": "Total Satellites by Orbit Shell"
        },
        "xaxis": {
         "anchor": "y",
         "categoryarray": [
          "GEO",
          "LEO",
          "MEO",
          "UNKNOWN"
         ],
         "categoryorder": "array",
         "domain": [
          0,
          1
         ],
         "title": {
          "text": "Orbit Shell"
         }
        },
        "yaxis": {
         "anchor": "x",
         "domain": [
          0,
          1
         ],
         "title": {
          "text": "Satellite Count"
         }
        }
       }
      }
     },
     "metadata": {},
     "output_type": "display_data"
    }
   ],
   "source": [
    "# Chart 1: Total Satellites by Orbit Shell\n",
    "shell_counts = df.groupby('orbit_shell').size().reset_index(name = 'count')\n",
    "\n",
    "fig1 = px.bar(\n",
    "    shell_counts,\n",
    "    x = 'orbit_shell',\n",
    "    y = 'count',\n",
    "    title = 'Total Satellites by Orbit Shell',\n",
    "    color = 'orbit_shell', \n",
    "    color_discrete_sequence = px.colors.sequential.Plasma\n",
    ")\n",
    "fig1.update_layout(\n",
    "    xaxis_title = 'Orbit Shell',\n",
    "    yaxis_title = 'Satellite Count',\n",
    "    showlegend = False,\n",
    "    template = 'plotly_white'\n",
    ")\n",
    "fig1.show()\n"
   ]
  },
  {
   "cell_type": "code",
   "execution_count": 92,
   "id": "159ec8a6",
   "metadata": {},
   "outputs": [
    {
     "data": {
      "application/vnd.plotly.v1+json": {
       "config": {
        "plotlyServerURL": "https://plot.ly"
       },
       "data": [
        {
         "hovertemplate": "orbit_shell=LEO<br>launch_year=%{x}<br>count=%{y}<extra></extra>",
         "legendgroup": "LEO",
         "line": {
          "color": "rgb(228,26,28)",
          "dash": "solid"
         },
         "marker": {
          "symbol": "circle"
         },
         "mode": "lines+markers",
         "name": "LEO",
         "orientation": "v",
         "showlegend": true,
         "type": "scatter",
         "x": {
          "bdata": "AAAAAADYnkAAAAAAABifQAAAAAAAJJ9AAAAAAAA0n0AAAAAAADifQAAAAAAAPJ9AAAAAAABAn0AAAAAAAESfQAAAAAAASJ9AAAAAAABMn0AAAAAAAFCfQAAAAAAAVJ9AAAAAAABYn0AAAAAAAFyfQAAAAAAAYJ9AAAAAAABkn0AAAAAAAGifQAAAAAAAbJ9AAAAAAABwn0AAAAAAAHSfQAAAAAAAeJ9AAAAAAAB8n0AAAAAAAICfQAAAAAAAhJ9AAAAAAACIn0AAAAAAAIyfQAAAAAAAkJ9AAAAAAACUn0AAAAAAAJifQAAAAAAAnJ9A",
          "dtype": "f8"
         },
         "xaxis": "x",
         "y": {
          "bdata": "AQABAAEACgANAAoAAQAHAAcACwAPAAoADwAdABUAGQAfACwAIQA+AEIATgA8ALAA9wDfAAIEFQYpCIAD",
          "dtype": "i2"
         },
         "yaxis": "y"
        },
        {
         "hovertemplate": "orbit_shell=GEO<br>launch_year=%{x}<br>count=%{y}<extra></extra>",
         "legendgroup": "GEO",
         "line": {
          "color": "rgb(55,126,184)",
          "dash": "solid"
         },
         "marker": {
          "symbol": "circle"
         },
         "mode": "lines+markers",
         "name": "GEO",
         "orientation": "v",
         "showlegend": true,
         "type": "scatter",
         "x": {
          "bdata": "AAAAAAAQn0AAAAAAABSfQAAAAAAAGJ9AAAAAAAAcn0AAAAAAACSfQAAAAAAAKJ9AAAAAAAAsn0AAAAAAADCfQAAAAAAANJ9AAAAAAAA4n0AAAAAAADyfQAAAAAAAQJ9AAAAAAABEn0AAAAAAAEifQAAAAAAATJ9AAAAAAABQn0AAAAAAAFSfQAAAAAAAWJ9AAAAAAABcn0AAAAAAAGCfQAAAAAAAZJ9AAAAAAABon0AAAAAAAGyfQAAAAAAAcJ9AAAAAAAB0n0AAAAAAAHifQAAAAAAAfJ9AAAAAAACAn0AAAAAAAISfQAAAAAAAiJ9AAAAAAACMn0AAAAAAAJCfQAAAAAAAlJ9AAAAAAACYn0AAAAAAAJyfQA==",
          "dtype": "f8"
         },
         "xaxis": "x",
         "y": {
          "bdata": "AQEBAQICBAIFBAQOCBAMBxASDxkbHR4lGiEmJSQgHBQbFAw=",
          "dtype": "i1"
         },
         "yaxis": "y"
        },
        {
         "hovertemplate": "orbit_shell=UNKNOWN<br>launch_year=%{x}<br>count=%{y}<extra></extra>",
         "legendgroup": "UNKNOWN",
         "line": {
          "color": "rgb(77,175,74)",
          "dash": "solid"
         },
         "marker": {
          "symbol": "circle"
         },
         "mode": "lines+markers",
         "name": "UNKNOWN",
         "orientation": "v",
         "showlegend": true,
         "type": "scatter",
         "x": {
          "bdata": "AAAAAAAgn0AAAAAAADCfQAAAAAAANJ9AAAAAAAA8n0AAAAAAAECfQAAAAAAASJ9AAAAAAABQn0AAAAAAAFifQAAAAAAAXJ9AAAAAAABgn0AAAAAAAGSfQAAAAAAAaJ9AAAAAAABsn0AAAAAAAHCfQAAAAAAAdJ9AAAAAAAB4n0AAAAAAAHyfQAAAAAAAgJ9AAAAAAACEn0AAAAAAAIifQAAAAAAAjJ9AAAAAAACQn0AAAAAAAJSfQAAAAAAAmJ9A",
          "dtype": "f8"
         },
         "xaxis": "x",
         "y": {
          "bdata": "AQEBAgcBAQEEAgIBAwMBBAUBAgIHAwMB",
          "dtype": "i1"
         },
         "yaxis": "y"
        },
        {
         "hovertemplate": "orbit_shell=MEO<br>launch_year=%{x}<br>count=%{y}<extra></extra>",
         "legendgroup": "MEO",
         "line": {
          "color": "rgb(152,78,163)",
          "dash": "solid"
         },
         "marker": {
          "symbol": "circle"
         },
         "mode": "lines+markers",
         "name": "MEO",
         "orientation": "v",
         "showlegend": true,
         "type": "scatter",
         "x": {
          "bdata": "AAAAAAA0n0AAAAAAADyfQAAAAAAAQJ9AAAAAAABEn0AAAAAAAEyfQAAAAAAAUJ9AAAAAAABUn0AAAAAAAFifQAAAAAAAXJ9AAAAAAABgn0AAAAAAAGSfQAAAAAAAaJ9AAAAAAABsn0AAAAAAAHCfQAAAAAAAdJ9AAAAAAAB4n0AAAAAAAHyfQAAAAAAAgJ9AAAAAAACEn0AAAAAAAIifQAAAAAAAjJ9AAAAAAACQn0AAAAAAAJSfQAAAAAAAmJ9AAAAAAACcn0A=",
          "dtype": "f8"
         },
         "xaxis": "x",
         "y": {
          "bdata": "AQEDAQICAQQGAQMFBwYGDgsJBxsOBQMDAQ==",
          "dtype": "i1"
         },
         "yaxis": "y"
        }
       ],
       "layout": {
        "legend": {
         "title": {
          "text": "orbit_shell"
         },
         "tracegroupgap": 0
        },
        "template": {
         "data": {
          "bar": [
           {
            "error_x": {
             "color": "#2a3f5f"
            },
            "error_y": {
             "color": "#2a3f5f"
            },
            "marker": {
             "line": {
              "color": "white",
              "width": 0.5
             },
             "pattern": {
              "fillmode": "overlay",
              "size": 10,
              "solidity": 0.2
             }
            },
            "type": "bar"
           }
          ],
          "barpolar": [
           {
            "marker": {
             "line": {
              "color": "white",
              "width": 0.5
             },
             "pattern": {
              "fillmode": "overlay",
              "size": 10,
              "solidity": 0.2
             }
            },
            "type": "barpolar"
           }
          ],
          "carpet": [
           {
            "aaxis": {
             "endlinecolor": "#2a3f5f",
             "gridcolor": "#C8D4E3",
             "linecolor": "#C8D4E3",
             "minorgridcolor": "#C8D4E3",
             "startlinecolor": "#2a3f5f"
            },
            "baxis": {
             "endlinecolor": "#2a3f5f",
             "gridcolor": "#C8D4E3",
             "linecolor": "#C8D4E3",
             "minorgridcolor": "#C8D4E3",
             "startlinecolor": "#2a3f5f"
            },
            "type": "carpet"
           }
          ],
          "choropleth": [
           {
            "colorbar": {
             "outlinewidth": 0,
             "ticks": ""
            },
            "type": "choropleth"
           }
          ],
          "contour": [
           {
            "colorbar": {
             "outlinewidth": 0,
             "ticks": ""
            },
            "colorscale": [
             [
              0,
              "#0d0887"
             ],
             [
              0.1111111111111111,
              "#46039f"
             ],
             [
              0.2222222222222222,
              "#7201a8"
             ],
             [
              0.3333333333333333,
              "#9c179e"
             ],
             [
              0.4444444444444444,
              "#bd3786"
             ],
             [
              0.5555555555555556,
              "#d8576b"
             ],
             [
              0.6666666666666666,
              "#ed7953"
             ],
             [
              0.7777777777777778,
              "#fb9f3a"
             ],
             [
              0.8888888888888888,
              "#fdca26"
             ],
             [
              1,
              "#f0f921"
             ]
            ],
            "type": "contour"
           }
          ],
          "contourcarpet": [
           {
            "colorbar": {
             "outlinewidth": 0,
             "ticks": ""
            },
            "type": "contourcarpet"
           }
          ],
          "heatmap": [
           {
            "colorbar": {
             "outlinewidth": 0,
             "ticks": ""
            },
            "colorscale": [
             [
              0,
              "#0d0887"
             ],
             [
              0.1111111111111111,
              "#46039f"
             ],
             [
              0.2222222222222222,
              "#7201a8"
             ],
             [
              0.3333333333333333,
              "#9c179e"
             ],
             [
              0.4444444444444444,
              "#bd3786"
             ],
             [
              0.5555555555555556,
              "#d8576b"
             ],
             [
              0.6666666666666666,
              "#ed7953"
             ],
             [
              0.7777777777777778,
              "#fb9f3a"
             ],
             [
              0.8888888888888888,
              "#fdca26"
             ],
             [
              1,
              "#f0f921"
             ]
            ],
            "type": "heatmap"
           }
          ],
          "histogram": [
           {
            "marker": {
             "pattern": {
              "fillmode": "overlay",
              "size": 10,
              "solidity": 0.2
             }
            },
            "type": "histogram"
           }
          ],
          "histogram2d": [
           {
            "colorbar": {
             "outlinewidth": 0,
             "ticks": ""
            },
            "colorscale": [
             [
              0,
              "#0d0887"
             ],
             [
              0.1111111111111111,
              "#46039f"
             ],
             [
              0.2222222222222222,
              "#7201a8"
             ],
             [
              0.3333333333333333,
              "#9c179e"
             ],
             [
              0.4444444444444444,
              "#bd3786"
             ],
             [
              0.5555555555555556,
              "#d8576b"
             ],
             [
              0.6666666666666666,
              "#ed7953"
             ],
             [
              0.7777777777777778,
              "#fb9f3a"
             ],
             [
              0.8888888888888888,
              "#fdca26"
             ],
             [
              1,
              "#f0f921"
             ]
            ],
            "type": "histogram2d"
           }
          ],
          "histogram2dcontour": [
           {
            "colorbar": {
             "outlinewidth": 0,
             "ticks": ""
            },
            "colorscale": [
             [
              0,
              "#0d0887"
             ],
             [
              0.1111111111111111,
              "#46039f"
             ],
             [
              0.2222222222222222,
              "#7201a8"
             ],
             [
              0.3333333333333333,
              "#9c179e"
             ],
             [
              0.4444444444444444,
              "#bd3786"
             ],
             [
              0.5555555555555556,
              "#d8576b"
             ],
             [
              0.6666666666666666,
              "#ed7953"
             ],
             [
              0.7777777777777778,
              "#fb9f3a"
             ],
             [
              0.8888888888888888,
              "#fdca26"
             ],
             [
              1,
              "#f0f921"
             ]
            ],
            "type": "histogram2dcontour"
           }
          ],
          "mesh3d": [
           {
            "colorbar": {
             "outlinewidth": 0,
             "ticks": ""
            },
            "type": "mesh3d"
           }
          ],
          "parcoords": [
           {
            "line": {
             "colorbar": {
              "outlinewidth": 0,
              "ticks": ""
             }
            },
            "type": "parcoords"
           }
          ],
          "pie": [
           {
            "automargin": true,
            "type": "pie"
           }
          ],
          "scatter": [
           {
            "fillpattern": {
             "fillmode": "overlay",
             "size": 10,
             "solidity": 0.2
            },
            "type": "scatter"
           }
          ],
          "scatter3d": [
           {
            "line": {
             "colorbar": {
              "outlinewidth": 0,
              "ticks": ""
             }
            },
            "marker": {
             "colorbar": {
              "outlinewidth": 0,
              "ticks": ""
             }
            },
            "type": "scatter3d"
           }
          ],
          "scattercarpet": [
           {
            "marker": {
             "colorbar": {
              "outlinewidth": 0,
              "ticks": ""
             }
            },
            "type": "scattercarpet"
           }
          ],
          "scattergeo": [
           {
            "marker": {
             "colorbar": {
              "outlinewidth": 0,
              "ticks": ""
             }
            },
            "type": "scattergeo"
           }
          ],
          "scattergl": [
           {
            "marker": {
             "colorbar": {
              "outlinewidth": 0,
              "ticks": ""
             }
            },
            "type": "scattergl"
           }
          ],
          "scattermap": [
           {
            "marker": {
             "colorbar": {
              "outlinewidth": 0,
              "ticks": ""
             }
            },
            "type": "scattermap"
           }
          ],
          "scattermapbox": [
           {
            "marker": {
             "colorbar": {
              "outlinewidth": 0,
              "ticks": ""
             }
            },
            "type": "scattermapbox"
           }
          ],
          "scatterpolar": [
           {
            "marker": {
             "colorbar": {
              "outlinewidth": 0,
              "ticks": ""
             }
            },
            "type": "scatterpolar"
           }
          ],
          "scatterpolargl": [
           {
            "marker": {
             "colorbar": {
              "outlinewidth": 0,
              "ticks": ""
             }
            },
            "type": "scatterpolargl"
           }
          ],
          "scatterternary": [
           {
            "marker": {
             "colorbar": {
              "outlinewidth": 0,
              "ticks": ""
             }
            },
            "type": "scatterternary"
           }
          ],
          "surface": [
           {
            "colorbar": {
             "outlinewidth": 0,
             "ticks": ""
            },
            "colorscale": [
             [
              0,
              "#0d0887"
             ],
             [
              0.1111111111111111,
              "#46039f"
             ],
             [
              0.2222222222222222,
              "#7201a8"
             ],
             [
              0.3333333333333333,
              "#9c179e"
             ],
             [
              0.4444444444444444,
              "#bd3786"
             ],
             [
              0.5555555555555556,
              "#d8576b"
             ],
             [
              0.6666666666666666,
              "#ed7953"
             ],
             [
              0.7777777777777778,
              "#fb9f3a"
             ],
             [
              0.8888888888888888,
              "#fdca26"
             ],
             [
              1,
              "#f0f921"
             ]
            ],
            "type": "surface"
           }
          ],
          "table": [
           {
            "cells": {
             "fill": {
              "color": "#EBF0F8"
             },
             "line": {
              "color": "white"
             }
            },
            "header": {
             "fill": {
              "color": "#C8D4E3"
             },
             "line": {
              "color": "white"
             }
            },
            "type": "table"
           }
          ]
         },
         "layout": {
          "annotationdefaults": {
           "arrowcolor": "#2a3f5f",
           "arrowhead": 0,
           "arrowwidth": 1
          },
          "autotypenumbers": "strict",
          "coloraxis": {
           "colorbar": {
            "outlinewidth": 0,
            "ticks": ""
           }
          },
          "colorscale": {
           "diverging": [
            [
             0,
             "#8e0152"
            ],
            [
             0.1,
             "#c51b7d"
            ],
            [
             0.2,
             "#de77ae"
            ],
            [
             0.3,
             "#f1b6da"
            ],
            [
             0.4,
             "#fde0ef"
            ],
            [
             0.5,
             "#f7f7f7"
            ],
            [
             0.6,
             "#e6f5d0"
            ],
            [
             0.7,
             "#b8e186"
            ],
            [
             0.8,
             "#7fbc41"
            ],
            [
             0.9,
             "#4d9221"
            ],
            [
             1,
             "#276419"
            ]
           ],
           "sequential": [
            [
             0,
             "#0d0887"
            ],
            [
             0.1111111111111111,
             "#46039f"
            ],
            [
             0.2222222222222222,
             "#7201a8"
            ],
            [
             0.3333333333333333,
             "#9c179e"
            ],
            [
             0.4444444444444444,
             "#bd3786"
            ],
            [
             0.5555555555555556,
             "#d8576b"
            ],
            [
             0.6666666666666666,
             "#ed7953"
            ],
            [
             0.7777777777777778,
             "#fb9f3a"
            ],
            [
             0.8888888888888888,
             "#fdca26"
            ],
            [
             1,
             "#f0f921"
            ]
           ],
           "sequentialminus": [
            [
             0,
             "#0d0887"
            ],
            [
             0.1111111111111111,
             "#46039f"
            ],
            [
             0.2222222222222222,
             "#7201a8"
            ],
            [
             0.3333333333333333,
             "#9c179e"
            ],
            [
             0.4444444444444444,
             "#bd3786"
            ],
            [
             0.5555555555555556,
             "#d8576b"
            ],
            [
             0.6666666666666666,
             "#ed7953"
            ],
            [
             0.7777777777777778,
             "#fb9f3a"
            ],
            [
             0.8888888888888888,
             "#fdca26"
            ],
            [
             1,
             "#f0f921"
            ]
           ]
          },
          "colorway": [
           "#636efa",
           "#EF553B",
           "#00cc96",
           "#ab63fa",
           "#FFA15A",
           "#19d3f3",
           "#FF6692",
           "#B6E880",
           "#FF97FF",
           "#FECB52"
          ],
          "font": {
           "color": "#2a3f5f"
          },
          "geo": {
           "bgcolor": "white",
           "lakecolor": "white",
           "landcolor": "white",
           "showlakes": true,
           "showland": true,
           "subunitcolor": "#C8D4E3"
          },
          "hoverlabel": {
           "align": "left"
          },
          "hovermode": "closest",
          "mapbox": {
           "style": "light"
          },
          "paper_bgcolor": "white",
          "plot_bgcolor": "white",
          "polar": {
           "angularaxis": {
            "gridcolor": "#EBF0F8",
            "linecolor": "#EBF0F8",
            "ticks": ""
           },
           "bgcolor": "white",
           "radialaxis": {
            "gridcolor": "#EBF0F8",
            "linecolor": "#EBF0F8",
            "ticks": ""
           }
          },
          "scene": {
           "xaxis": {
            "backgroundcolor": "white",
            "gridcolor": "#DFE8F3",
            "gridwidth": 2,
            "linecolor": "#EBF0F8",
            "showbackground": true,
            "ticks": "",
            "zerolinecolor": "#EBF0F8"
           },
           "yaxis": {
            "backgroundcolor": "white",
            "gridcolor": "#DFE8F3",
            "gridwidth": 2,
            "linecolor": "#EBF0F8",
            "showbackground": true,
            "ticks": "",
            "zerolinecolor": "#EBF0F8"
           },
           "zaxis": {
            "backgroundcolor": "white",
            "gridcolor": "#DFE8F3",
            "gridwidth": 2,
            "linecolor": "#EBF0F8",
            "showbackground": true,
            "ticks": "",
            "zerolinecolor": "#EBF0F8"
           }
          },
          "shapedefaults": {
           "line": {
            "color": "#2a3f5f"
           }
          },
          "ternary": {
           "aaxis": {
            "gridcolor": "#DFE8F3",
            "linecolor": "#A2B1C6",
            "ticks": ""
           },
           "baxis": {
            "gridcolor": "#DFE8F3",
            "linecolor": "#A2B1C6",
            "ticks": ""
           },
           "bgcolor": "white",
           "caxis": {
            "gridcolor": "#DFE8F3",
            "linecolor": "#A2B1C6",
            "ticks": ""
           }
          },
          "title": {
           "x": 0.05
          },
          "xaxis": {
           "automargin": true,
           "gridcolor": "#EBF0F8",
           "linecolor": "#EBF0F8",
           "ticks": "",
           "title": {
            "standoff": 15
           },
           "zerolinecolor": "#EBF0F8",
           "zerolinewidth": 2
          },
          "yaxis": {
           "automargin": true,
           "gridcolor": "#EBF0F8",
           "linecolor": "#EBF0F8",
           "ticks": "",
           "title": {
            "standoff": 15
           },
           "zerolinecolor": "#EBF0F8",
           "zerolinewidth": 2
          }
         }
        },
        "title": {
         "text": "Satellite Launches per Year by Orbit Shell"
        },
        "xaxis": {
         "anchor": "y",
         "domain": [
          0,
          1
         ],
         "title": {
          "text": "Year"
         }
        },
        "yaxis": {
         "anchor": "x",
         "domain": [
          0,
          1
         ],
         "title": {
          "text": "Launches"
         }
        }
       }
      }
     },
     "metadata": {},
     "output_type": "display_data"
    }
   ],
   "source": [
    "# Chart 2: Launches per Year by Orbit Shell\n",
    "ts = df.dropna(subset = ['launch_year']).groupby(['launch_year','orbit_shell']).size().reset_index(name = 'count')\n",
    "\n",
    "fig2 = px.line(\n",
    "    ts,\n",
    "    x = 'launch_year',\n",
    "    y = 'count',\n",
    "    color = 'orbit_shell',\n",
    "    title = 'Satellite Launches per Year by Orbit Shell',\n",
    "    markers = True,\n",
    "    color_discrete_sequence = px.colors.qualitative.Set1\n",
    ")\n",
    "fig2.update_layout(\n",
    "    xaxis_title = 'Year',\n",
    "    yaxis_title = 'Launches',\n",
    "    template = 'plotly_white'\n",
    ")\n",
    "fig2.show()\n"
   ]
  },
  {
   "cell_type": "code",
   "execution_count": 87,
   "id": "30db1fbe",
   "metadata": {},
   "outputs": [
    {
     "data": {
      "application/vnd.plotly.v1+json": {
       "config": {
        "plotlyServerURL": "https://plot.ly"
       },
       "data": [
        {
         "hovertemplate": "operator=%{x}<br>count=%{text}<extra></extra>",
         "legendgroup": "SpaceX",
         "marker": {
          "color": "rgb(0,0,255)",
          "pattern": {
           "shape": ""
          }
         },
         "name": "SpaceX",
         "orientation": "v",
         "showlegend": true,
         "text": {
          "bdata": "AAAAAADcrkA=",
          "dtype": "f8"
         },
         "textposition": "auto",
         "type": "bar",
         "x": [
          "SpaceX"
         ],
         "xaxis": "x",
         "y": {
          "bdata": "bg8=",
          "dtype": "i2"
         },
         "yaxis": "y"
        },
        {
         "hovertemplate": "operator=%{x}<br>count=%{text}<extra></extra>",
         "legendgroup": "OneWeb Satellites",
         "marker": {
          "color": "rgb(255,0,0)",
          "pattern": {
           "shape": ""
          }
         },
         "name": "OneWeb Satellites",
         "orientation": "v",
         "showlegend": true,
         "text": {
          "bdata": "AAAAAABogkA=",
          "dtype": "f8"
         },
         "textposition": "auto",
         "type": "bar",
         "x": [
          "OneWeb Satellites"
         ],
         "xaxis": "x",
         "y": {
          "bdata": "TQI=",
          "dtype": "i2"
         },
         "yaxis": "y"
        },
        {
         "hovertemplate": "operator=%{x}<br>count=%{text}<extra></extra>",
         "legendgroup": "Planet Labs, Inc.",
         "marker": {
          "color": "rgb(0,0,255)",
          "pattern": {
           "shape": ""
          }
         },
         "name": "Planet Labs, Inc.",
         "orientation": "v",
         "showlegend": true,
         "text": {
          "bdata": "AAAAAACAa0A=",
          "dtype": "f8"
         },
         "textposition": "auto",
         "type": "bar",
         "x": [
          "Planet Labs, Inc."
         ],
         "xaxis": "x",
         "y": {
          "bdata": "3AA=",
          "dtype": "i2"
         },
         "yaxis": "y"
        },
        {
         "hovertemplate": "operator=%{x}<br>count=%{text}<extra></extra>",
         "legendgroup": "Chinese Ministry of National Defense",
         "marker": {
          "color": "rgb(255,0,0)",
          "pattern": {
           "shape": ""
          }
         },
         "name": "Chinese Ministry of National Defense",
         "orientation": "v",
         "showlegend": true,
         "text": {
          "bdata": "AAAAAACgYkA=",
          "dtype": "f8"
         },
         "textposition": "auto",
         "type": "bar",
         "x": [
          "Chinese Ministry of National Defense"
         ],
         "xaxis": "x",
         "y": {
          "bdata": "lQA=",
          "dtype": "i2"
         },
         "yaxis": "y"
        },
        {
         "hovertemplate": "operator=%{x}<br>count=%{text}<extra></extra>",
         "legendgroup": "Spire Global Inc.",
         "marker": {
          "color": "rgb(0,0,255)",
          "pattern": {
           "shape": ""
          }
         },
         "name": "Spire Global Inc.",
         "orientation": "v",
         "showlegend": true,
         "text": {
          "bdata": "AAAAAADgYEA=",
          "dtype": "f8"
         },
         "textposition": "auto",
         "type": "bar",
         "x": [
          "Spire Global Inc."
         ],
         "xaxis": "x",
         "y": {
          "bdata": "hwA=",
          "dtype": "i2"
         },
         "yaxis": "y"
        },
        {
         "hovertemplate": "operator=%{x}<br>count=%{text}<extra></extra>",
         "legendgroup": "Ministry of Defense",
         "marker": {
          "color": "rgb(255,0,0)",
          "pattern": {
           "shape": ""
          }
         },
         "name": "Ministry of Defense",
         "orientation": "v",
         "showlegend": true,
         "text": {
          "bdata": "AAAAAABAXUA=",
          "dtype": "f8"
         },
         "textposition": "auto",
         "type": "bar",
         "x": [
          "Ministry of Defense"
         ],
         "xaxis": "x",
         "y": {
          "bdata": "dQ==",
          "dtype": "i1"
         },
         "yaxis": "y"
        },
        {
         "hovertemplate": "operator=%{x}<br>count=%{text}<extra></extra>",
         "legendgroup": "Swarm Technologies",
         "marker": {
          "color": "rgb(0,0,255)",
          "pattern": {
           "shape": ""
          }
         },
         "name": "Swarm Technologies",
         "orientation": "v",
         "showlegend": true,
         "text": {
          "bdata": "AAAAAACAVkA=",
          "dtype": "f8"
         },
         "textposition": "auto",
         "type": "bar",
         "x": [
          "Swarm Technologies"
         ],
         "xaxis": "x",
         "y": {
          "bdata": "Wg==",
          "dtype": "i1"
         },
         "yaxis": "y"
        },
        {
         "hovertemplate": "operator=%{x}<br>count=%{text}<extra></extra>",
         "legendgroup": "Iridium Communications, Inc.",
         "marker": {
          "color": "rgb(255,0,0)",
          "pattern": {
           "shape": ""
          }
         },
         "name": "Iridium Communications, Inc.",
         "orientation": "v",
         "showlegend": true,
         "text": {
          "bdata": "AAAAAADAUkA=",
          "dtype": "f8"
         },
         "textposition": "auto",
         "type": "bar",
         "x": [
          "Iridium Communications, Inc."
         ],
         "xaxis": "x",
         "y": {
          "bdata": "Sw==",
          "dtype": "i1"
         },
         "yaxis": "y"
        },
        {
         "hovertemplate": "operator=%{x}<br>count=%{text}<extra></extra>",
         "legendgroup": "Chang Guang Satellite Technology Co. Ltd.",
         "marker": {
          "color": "rgb(0,0,255)",
          "pattern": {
           "shape": ""
          }
         },
         "name": "Chang Guang Satellite Technology Co. Ltd.",
         "orientation": "v",
         "showlegend": true,
         "text": {
          "bdata": "AAAAAAAATkA=",
          "dtype": "f8"
         },
         "textposition": "auto",
         "type": "bar",
         "x": [
          "Chang Guang Satellite Technology Co. Ltd."
         ],
         "xaxis": "x",
         "y": {
          "bdata": "PA==",
          "dtype": "i1"
         },
         "yaxis": "y"
        },
        {
         "hovertemplate": "operator=%{x}<br>count=%{text}<extra></extra>",
         "legendgroup": "China Academy of Space Technology (CAST)",
         "marker": {
          "color": "rgb(255,0,0)",
          "pattern": {
           "shape": ""
          }
         },
         "name": "China Academy of Space Technology (CAST)",
         "orientation": "v",
         "showlegend": true,
         "text": {
          "bdata": "AAAAAACASEA=",
          "dtype": "f8"
         },
         "textposition": "auto",
         "type": "bar",
         "x": [
          "China Academy of Space Technology (CAST)"
         ],
         "xaxis": "x",
         "y": {
          "bdata": "MQ==",
          "dtype": "i1"
         },
         "yaxis": "y"
        }
       ],
       "layout": {
        "barmode": "relative",
        "legend": {
         "title": {
          "text": "operator"
         },
         "tracegroupgap": 0
        },
        "showlegend": false,
        "template": {
         "data": {
          "bar": [
           {
            "error_x": {
             "color": "#2a3f5f"
            },
            "error_y": {
             "color": "#2a3f5f"
            },
            "marker": {
             "line": {
              "color": "white",
              "width": 0.5
             },
             "pattern": {
              "fillmode": "overlay",
              "size": 10,
              "solidity": 0.2
             }
            },
            "type": "bar"
           }
          ],
          "barpolar": [
           {
            "marker": {
             "line": {
              "color": "white",
              "width": 0.5
             },
             "pattern": {
              "fillmode": "overlay",
              "size": 10,
              "solidity": 0.2
             }
            },
            "type": "barpolar"
           }
          ],
          "carpet": [
           {
            "aaxis": {
             "endlinecolor": "#2a3f5f",
             "gridcolor": "#C8D4E3",
             "linecolor": "#C8D4E3",
             "minorgridcolor": "#C8D4E3",
             "startlinecolor": "#2a3f5f"
            },
            "baxis": {
             "endlinecolor": "#2a3f5f",
             "gridcolor": "#C8D4E3",
             "linecolor": "#C8D4E3",
             "minorgridcolor": "#C8D4E3",
             "startlinecolor": "#2a3f5f"
            },
            "type": "carpet"
           }
          ],
          "choropleth": [
           {
            "colorbar": {
             "outlinewidth": 0,
             "ticks": ""
            },
            "type": "choropleth"
           }
          ],
          "contour": [
           {
            "colorbar": {
             "outlinewidth": 0,
             "ticks": ""
            },
            "colorscale": [
             [
              0,
              "#0d0887"
             ],
             [
              0.1111111111111111,
              "#46039f"
             ],
             [
              0.2222222222222222,
              "#7201a8"
             ],
             [
              0.3333333333333333,
              "#9c179e"
             ],
             [
              0.4444444444444444,
              "#bd3786"
             ],
             [
              0.5555555555555556,
              "#d8576b"
             ],
             [
              0.6666666666666666,
              "#ed7953"
             ],
             [
              0.7777777777777778,
              "#fb9f3a"
             ],
             [
              0.8888888888888888,
              "#fdca26"
             ],
             [
              1,
              "#f0f921"
             ]
            ],
            "type": "contour"
           }
          ],
          "contourcarpet": [
           {
            "colorbar": {
             "outlinewidth": 0,
             "ticks": ""
            },
            "type": "contourcarpet"
           }
          ],
          "heatmap": [
           {
            "colorbar": {
             "outlinewidth": 0,
             "ticks": ""
            },
            "colorscale": [
             [
              0,
              "#0d0887"
             ],
             [
              0.1111111111111111,
              "#46039f"
             ],
             [
              0.2222222222222222,
              "#7201a8"
             ],
             [
              0.3333333333333333,
              "#9c179e"
             ],
             [
              0.4444444444444444,
              "#bd3786"
             ],
             [
              0.5555555555555556,
              "#d8576b"
             ],
             [
              0.6666666666666666,
              "#ed7953"
             ],
             [
              0.7777777777777778,
              "#fb9f3a"
             ],
             [
              0.8888888888888888,
              "#fdca26"
             ],
             [
              1,
              "#f0f921"
             ]
            ],
            "type": "heatmap"
           }
          ],
          "histogram": [
           {
            "marker": {
             "pattern": {
              "fillmode": "overlay",
              "size": 10,
              "solidity": 0.2
             }
            },
            "type": "histogram"
           }
          ],
          "histogram2d": [
           {
            "colorbar": {
             "outlinewidth": 0,
             "ticks": ""
            },
            "colorscale": [
             [
              0,
              "#0d0887"
             ],
             [
              0.1111111111111111,
              "#46039f"
             ],
             [
              0.2222222222222222,
              "#7201a8"
             ],
             [
              0.3333333333333333,
              "#9c179e"
             ],
             [
              0.4444444444444444,
              "#bd3786"
             ],
             [
              0.5555555555555556,
              "#d8576b"
             ],
             [
              0.6666666666666666,
              "#ed7953"
             ],
             [
              0.7777777777777778,
              "#fb9f3a"
             ],
             [
              0.8888888888888888,
              "#fdca26"
             ],
             [
              1,
              "#f0f921"
             ]
            ],
            "type": "histogram2d"
           }
          ],
          "histogram2dcontour": [
           {
            "colorbar": {
             "outlinewidth": 0,
             "ticks": ""
            },
            "colorscale": [
             [
              0,
              "#0d0887"
             ],
             [
              0.1111111111111111,
              "#46039f"
             ],
             [
              0.2222222222222222,
              "#7201a8"
             ],
             [
              0.3333333333333333,
              "#9c179e"
             ],
             [
              0.4444444444444444,
              "#bd3786"
             ],
             [
              0.5555555555555556,
              "#d8576b"
             ],
             [
              0.6666666666666666,
              "#ed7953"
             ],
             [
              0.7777777777777778,
              "#fb9f3a"
             ],
             [
              0.8888888888888888,
              "#fdca26"
             ],
             [
              1,
              "#f0f921"
             ]
            ],
            "type": "histogram2dcontour"
           }
          ],
          "mesh3d": [
           {
            "colorbar": {
             "outlinewidth": 0,
             "ticks": ""
            },
            "type": "mesh3d"
           }
          ],
          "parcoords": [
           {
            "line": {
             "colorbar": {
              "outlinewidth": 0,
              "ticks": ""
             }
            },
            "type": "parcoords"
           }
          ],
          "pie": [
           {
            "automargin": true,
            "type": "pie"
           }
          ],
          "scatter": [
           {
            "fillpattern": {
             "fillmode": "overlay",
             "size": 10,
             "solidity": 0.2
            },
            "type": "scatter"
           }
          ],
          "scatter3d": [
           {
            "line": {
             "colorbar": {
              "outlinewidth": 0,
              "ticks": ""
             }
            },
            "marker": {
             "colorbar": {
              "outlinewidth": 0,
              "ticks": ""
             }
            },
            "type": "scatter3d"
           }
          ],
          "scattercarpet": [
           {
            "marker": {
             "colorbar": {
              "outlinewidth": 0,
              "ticks": ""
             }
            },
            "type": "scattercarpet"
           }
          ],
          "scattergeo": [
           {
            "marker": {
             "colorbar": {
              "outlinewidth": 0,
              "ticks": ""
             }
            },
            "type": "scattergeo"
           }
          ],
          "scattergl": [
           {
            "marker": {
             "colorbar": {
              "outlinewidth": 0,
              "ticks": ""
             }
            },
            "type": "scattergl"
           }
          ],
          "scattermap": [
           {
            "marker": {
             "colorbar": {
              "outlinewidth": 0,
              "ticks": ""
             }
            },
            "type": "scattermap"
           }
          ],
          "scattermapbox": [
           {
            "marker": {
             "colorbar": {
              "outlinewidth": 0,
              "ticks": ""
             }
            },
            "type": "scattermapbox"
           }
          ],
          "scatterpolar": [
           {
            "marker": {
             "colorbar": {
              "outlinewidth": 0,
              "ticks": ""
             }
            },
            "type": "scatterpolar"
           }
          ],
          "scatterpolargl": [
           {
            "marker": {
             "colorbar": {
              "outlinewidth": 0,
              "ticks": ""
             }
            },
            "type": "scatterpolargl"
           }
          ],
          "scatterternary": [
           {
            "marker": {
             "colorbar": {
              "outlinewidth": 0,
              "ticks": ""
             }
            },
            "type": "scatterternary"
           }
          ],
          "surface": [
           {
            "colorbar": {
             "outlinewidth": 0,
             "ticks": ""
            },
            "colorscale": [
             [
              0,
              "#0d0887"
             ],
             [
              0.1111111111111111,
              "#46039f"
             ],
             [
              0.2222222222222222,
              "#7201a8"
             ],
             [
              0.3333333333333333,
              "#9c179e"
             ],
             [
              0.4444444444444444,
              "#bd3786"
             ],
             [
              0.5555555555555556,
              "#d8576b"
             ],
             [
              0.6666666666666666,
              "#ed7953"
             ],
             [
              0.7777777777777778,
              "#fb9f3a"
             ],
             [
              0.8888888888888888,
              "#fdca26"
             ],
             [
              1,
              "#f0f921"
             ]
            ],
            "type": "surface"
           }
          ],
          "table": [
           {
            "cells": {
             "fill": {
              "color": "#EBF0F8"
             },
             "line": {
              "color": "white"
             }
            },
            "header": {
             "fill": {
              "color": "#C8D4E3"
             },
             "line": {
              "color": "white"
             }
            },
            "type": "table"
           }
          ]
         },
         "layout": {
          "annotationdefaults": {
           "arrowcolor": "#2a3f5f",
           "arrowhead": 0,
           "arrowwidth": 1
          },
          "autotypenumbers": "strict",
          "coloraxis": {
           "colorbar": {
            "outlinewidth": 0,
            "ticks": ""
           }
          },
          "colorscale": {
           "diverging": [
            [
             0,
             "#8e0152"
            ],
            [
             0.1,
             "#c51b7d"
            ],
            [
             0.2,
             "#de77ae"
            ],
            [
             0.3,
             "#f1b6da"
            ],
            [
             0.4,
             "#fde0ef"
            ],
            [
             0.5,
             "#f7f7f7"
            ],
            [
             0.6,
             "#e6f5d0"
            ],
            [
             0.7,
             "#b8e186"
            ],
            [
             0.8,
             "#7fbc41"
            ],
            [
             0.9,
             "#4d9221"
            ],
            [
             1,
             "#276419"
            ]
           ],
           "sequential": [
            [
             0,
             "#0d0887"
            ],
            [
             0.1111111111111111,
             "#46039f"
            ],
            [
             0.2222222222222222,
             "#7201a8"
            ],
            [
             0.3333333333333333,
             "#9c179e"
            ],
            [
             0.4444444444444444,
             "#bd3786"
            ],
            [
             0.5555555555555556,
             "#d8576b"
            ],
            [
             0.6666666666666666,
             "#ed7953"
            ],
            [
             0.7777777777777778,
             "#fb9f3a"
            ],
            [
             0.8888888888888888,
             "#fdca26"
            ],
            [
             1,
             "#f0f921"
            ]
           ],
           "sequentialminus": [
            [
             0,
             "#0d0887"
            ],
            [
             0.1111111111111111,
             "#46039f"
            ],
            [
             0.2222222222222222,
             "#7201a8"
            ],
            [
             0.3333333333333333,
             "#9c179e"
            ],
            [
             0.4444444444444444,
             "#bd3786"
            ],
            [
             0.5555555555555556,
             "#d8576b"
            ],
            [
             0.6666666666666666,
             "#ed7953"
            ],
            [
             0.7777777777777778,
             "#fb9f3a"
            ],
            [
             0.8888888888888888,
             "#fdca26"
            ],
            [
             1,
             "#f0f921"
            ]
           ]
          },
          "colorway": [
           "#636efa",
           "#EF553B",
           "#00cc96",
           "#ab63fa",
           "#FFA15A",
           "#19d3f3",
           "#FF6692",
           "#B6E880",
           "#FF97FF",
           "#FECB52"
          ],
          "font": {
           "color": "#2a3f5f"
          },
          "geo": {
           "bgcolor": "white",
           "lakecolor": "white",
           "landcolor": "white",
           "showlakes": true,
           "showland": true,
           "subunitcolor": "#C8D4E3"
          },
          "hoverlabel": {
           "align": "left"
          },
          "hovermode": "closest",
          "mapbox": {
           "style": "light"
          },
          "paper_bgcolor": "white",
          "plot_bgcolor": "white",
          "polar": {
           "angularaxis": {
            "gridcolor": "#EBF0F8",
            "linecolor": "#EBF0F8",
            "ticks": ""
           },
           "bgcolor": "white",
           "radialaxis": {
            "gridcolor": "#EBF0F8",
            "linecolor": "#EBF0F8",
            "ticks": ""
           }
          },
          "scene": {
           "xaxis": {
            "backgroundcolor": "white",
            "gridcolor": "#DFE8F3",
            "gridwidth": 2,
            "linecolor": "#EBF0F8",
            "showbackground": true,
            "ticks": "",
            "zerolinecolor": "#EBF0F8"
           },
           "yaxis": {
            "backgroundcolor": "white",
            "gridcolor": "#DFE8F3",
            "gridwidth": 2,
            "linecolor": "#EBF0F8",
            "showbackground": true,
            "ticks": "",
            "zerolinecolor": "#EBF0F8"
           },
           "zaxis": {
            "backgroundcolor": "white",
            "gridcolor": "#DFE8F3",
            "gridwidth": 2,
            "linecolor": "#EBF0F8",
            "showbackground": true,
            "ticks": "",
            "zerolinecolor": "#EBF0F8"
           }
          },
          "shapedefaults": {
           "line": {
            "color": "#2a3f5f"
           }
          },
          "ternary": {
           "aaxis": {
            "gridcolor": "#DFE8F3",
            "linecolor": "#A2B1C6",
            "ticks": ""
           },
           "baxis": {
            "gridcolor": "#DFE8F3",
            "linecolor": "#A2B1C6",
            "ticks": ""
           },
           "bgcolor": "white",
           "caxis": {
            "gridcolor": "#DFE8F3",
            "linecolor": "#A2B1C6",
            "ticks": ""
           }
          },
          "title": {
           "x": 0.05
          },
          "xaxis": {
           "automargin": true,
           "gridcolor": "#EBF0F8",
           "linecolor": "#EBF0F8",
           "ticks": "",
           "title": {
            "standoff": 15
           },
           "zerolinecolor": "#EBF0F8",
           "zerolinewidth": 2
          },
          "yaxis": {
           "automargin": true,
           "gridcolor": "#EBF0F8",
           "linecolor": "#EBF0F8",
           "ticks": "",
           "title": {
            "standoff": 15
           },
           "zerolinecolor": "#EBF0F8",
           "zerolinewidth": 2
          }
         }
        },
        "title": {
         "text": "Top 10 Operators by Number of Satellites"
        },
        "xaxis": {
         "anchor": "y",
         "categoryarray": [
          "SpaceX",
          "OneWeb Satellites",
          "Planet Labs, Inc.",
          "Chinese Ministry of National Defense",
          "Spire Global Inc.",
          "Ministry of Defense",
          "Swarm Technologies",
          "Iridium Communications, Inc.",
          "Chang Guang Satellite Technology Co. Ltd.",
          "China Academy of Space Technology (CAST)"
         ],
         "categoryorder": "array",
         "domain": [
          0,
          1
         ],
         "tickangle": -45,
         "title": {
          "text": "Satellite Count"
         }
        },
        "yaxis": {
         "anchor": "x",
         "domain": [
          0,
          1
         ],
         "title": {
          "text": "Operator"
         }
        }
       }
      }
     },
     "metadata": {},
     "output_type": "display_data"
    }
   ],
   "source": [
    "# Chart 3: Top 10 Operators by Satellite Count\n",
    "top_ops = df['operator'].value_counts().nlargest(10).reset_index()\n",
    "top_ops.columns = ['operator', 'count']\n",
    "\n",
    "\n",
    "fig3 = px.bar(\n",
    "    top_ops, \n",
    "    x = 'operator',\n",
    "    y = 'count', \n",
    "    title = 'Top 10 Operators by Number of Satellites',\n",
    "    color = 'operator',   \n",
    "    color_discrete_sequence = px.colors.sequential.Bluered,\n",
    "    text = 'count'\n",
    ")\n",
    "fig3.update_layout(xaxis_tickangle = -45, \n",
    "    showlegend = False,\n",
    "    xaxis_title = 'Satellite Count',\n",
    "    yaxis_title = 'Operator',\n",
    "    template = 'plotly_white',\n",
    ")\n",
    "\n",
    "fig3.show()\n"
   ]
  },
  {
   "cell_type": "code",
   "execution_count": 82,
   "id": "2a6c289f",
   "metadata": {},
   "outputs": [
    {
     "data": {
      "application/vnd.plotly.v1+json": {
       "config": {
        "plotlyServerURL": "https://plot.ly"
       },
       "data": [
        {
         "alignmentgroup": "True",
         "hovertemplate": "orbit_shell=%{x}<br>sat_age=%{y}<extra></extra>",
         "legendgroup": "LEO",
         "marker": {
          "color": "rgb(179,226,205)"
         },
         "name": "LEO",
         "notched": false,
         "offsetgroup": "LEO",
         "orientation": "v",
         "showlegend": true,
         "type": "box",
         "x": [
          "LEO",
          "LEO",
          "LEO",
          "LEO",
          "LEO",
          "LEO",
          "LEO",
          "LEO",
          "LEO",
          "LEO",
          "LEO",
          "LEO",
          "LEO",
          "LEO",
          "LEO",
          "LEO",
          "LEO",
          "LEO",
          "LEO",
          "LEO",
          "LEO",
          "LEO",
          "LEO",
          "LEO",
          "LEO",
          "LEO",
          "LEO",
          "LEO",
          "LEO",
          "LEO",
          "LEO",
          "LEO",
          "LEO",
          "LEO",
          "LEO",
          "LEO",
          "LEO",
          "LEO",
          "LEO",
          "LEO",
          "LEO",
          "LEO",
          "LEO",
          "LEO",
          "LEO",
          "LEO",
          "LEO",
          "LEO",
          "LEO",
          "LEO",
          "LEO",
          "LEO",
          "LEO",
          "LEO",
          "LEO",
          "LEO",
          "LEO",
          "LEO",
          "LEO",
          "LEO",
          "LEO",
          "LEO",
          "LEO",
          "LEO",
          "LEO",
          "LEO",
          "LEO",
          "LEO",
          "LEO",
          "LEO",
          "LEO",
          "LEO",
          "LEO",
          "LEO",
          "LEO",
          "LEO",
          "LEO",
          "LEO",
          "LEO",
          "LEO",
          "LEO",
          "LEO",
          "LEO",
          "LEO",
          "LEO",
          "LEO",
          "LEO",
          "LEO",
          "LEO",
          "LEO",
          "LEO",
          "LEO",
          "LEO",
          "LEO",
          "LEO",
          "LEO",
          "LEO",
          "LEO",
          "LEO",
          "LEO",
          "LEO",
          "LEO",
          "LEO",
          "LEO",
          "LEO",
          "LEO",
          "LEO",
          "LEO",
          "LEO",
          "LEO",
          "LEO",
          "LEO",
          "LEO",
          "LEO",
          "LEO",
          "LEO",
          "LEO",
          "LEO",
          "LEO",
          "LEO",
          "LEO",
          "LEO",
          "LEO",
          "LEO",
          "LEO",
          "LEO",
          "LEO",
          "LEO",
          "LEO",
          "LEO",
          "LEO",
          "LEO",
          "LEO",
          "LEO",
          "LEO",
          "LEO",
          "LEO",
          "LEO",
          "LEO",
          "LEO",
          "LEO",
          "LEO",
          "LEO",
          "LEO",
          "LEO",
          "LEO",
          "LEO",
          "LEO",
          "LEO",
          "LEO",
          "LEO",
          "LEO",
          "LEO",
          "LEO",
          "LEO",
          "LEO",
          "LEO",
          "LEO",
          "LEO",
          "LEO",
          "LEO",
          "LEO",
          "LEO",
          "LEO",
          "LEO",
          "LEO",
          "LEO",
          "LEO",
          "LEO",
          "LEO",
          "LEO",
          "LEO",
          "LEO",
          "LEO",
          "LEO",
          "LEO",
          "LEO",
          "LEO",
          "LEO",
          "LEO",
          "LEO",
          "LEO",
          "LEO",
          "LEO",
          "LEO",
          "LEO",
          "LEO",
          "LEO",
          "LEO",
          "LEO",
          "LEO",
          "LEO",
          "LEO",
          "LEO",
          "LEO",
          "LEO",
          "LEO",
          "LEO",
          "LEO",
          "LEO",
          "LEO",
          "LEO",
          "LEO",
          "LEO",
          "LEO",
          "LEO",
          "LEO",
          "LEO",
          "LEO",
          "LEO",
          "LEO",
          "LEO",
          "LEO",
          "LEO",
          "LEO",
          "LEO",
          "LEO",
          "LEO",
          "LEO",
          "LEO",
          "LEO",
          "LEO",
          "LEO",
          "LEO",
          "LEO",
          "LEO",
          "LEO",
          "LEO",
          "LEO",
          "LEO",
          "LEO",
          "LEO",
          "LEO",
          "LEO",
          "LEO",
          "LEO",
          "LEO",
          "LEO",
          "LEO",
          "LEO",
          "LEO",
          "LEO",
          "LEO",
          "LEO",
          "LEO",
          "LEO",
          "LEO",
          "LEO",
          "LEO",
          "LEO",
          "LEO",
          "LEO",
          "LEO",
          "LEO",
          "LEO",
          "LEO",
          "LEO",
          "LEO",
          "LEO",
          "LEO",
          "LEO",
          "LEO",
          "LEO",
          "LEO",
          "LEO",
          "LEO",
          "LEO",
          "LEO",
          "LEO",
          "LEO",
          "LEO",
          "LEO",
          "LEO",
          "LEO",
          "LEO",
          "LEO",
          "LEO",
          "LEO",
          "LEO",
          "LEO",
          "LEO",
          "LEO",
          "LEO",
          "LEO",
          "LEO",
          "LEO",
          "LEO",
          "LEO",
          "LEO",
          "LEO",
          "LEO",
          "LEO",
          "LEO",
          "LEO",
          "LEO",
          "LEO",
          "LEO",
          "LEO",
          "LEO",
          "LEO",
          "LEO",
          "LEO",
          "LEO",
          "LEO",
          "LEO",
          "LEO",
          "LEO",
          "LEO",
          "LEO",
          "LEO",
          "LEO",
          "LEO",
          "LEO",
          "LEO",
          "LEO",
          "LEO",
          "LEO",
          "LEO",
          "LEO",
          "LEO",
          "LEO",
          "LEO",
          "LEO",
          "LEO",
          "LEO",
          "LEO",
          "LEO",
          "LEO",
          "LEO",
          "LEO",
          "LEO",
          "LEO",
          "LEO",
          "LEO",
          "LEO",
          "LEO",
          "LEO",
          "LEO",
          "LEO",
          "LEO",
          "LEO",
          "LEO",
          "LEO",
          "LEO",
          "LEO",
          "LEO",
          "LEO",
          "LEO",
          "LEO",
          "LEO",
          "LEO",
          "LEO",
          "LEO",
          "LEO",
          "LEO",
          "LEO",
          "LEO",
          "LEO",
          "LEO",
          "LEO",
          "LEO",
          "LEO",
          "LEO",
          "LEO",
          "LEO",
          "LEO",
          "LEO",
          "LEO",
          "LEO",
          "LEO",
          "LEO",
          "LEO",
          "LEO",
          "LEO",
          "LEO",
          "LEO",
          "LEO",
          "LEO",
          "LEO",
          "LEO",
          "LEO",
          "LEO",
          "LEO",
          "LEO",
          "LEO",
          "LEO",
          "LEO",
          "LEO",
          "LEO",
          "LEO",
          "LEO",
          "LEO",
          "LEO",
          "LEO",
          "LEO",
          "LEO",
          "LEO",
          "LEO",
          "LEO",
          "LEO",
          "LEO",
          "LEO",
          "LEO",
          "LEO",
          "LEO",
          "LEO",
          "LEO",
          "LEO",
          "LEO",
          "LEO",
          "LEO",
          "LEO",
          "LEO",
          "LEO",
          "LEO",
          "LEO",
          "LEO",
          "LEO",
          "LEO",
          "LEO",
          "LEO",
          "LEO",
          "LEO",
          "LEO",
          "LEO",
          "LEO",
          "LEO",
          "LEO",
          "LEO",
          "LEO",
          "LEO",
          "LEO",
          "LEO",
          "LEO",
          "LEO",
          "LEO",
          "LEO",
          "LEO",
          "LEO",
          "LEO",
          "LEO",
          "LEO",
          "LEO",
          "LEO",
          "LEO",
          "LEO",
          "LEO",
          "LEO",
          "LEO",
          "LEO",
          "LEO",
          "LEO",
          "LEO",
          "LEO",
          "LEO",
          "LEO",
          "LEO",
          "LEO",
          "LEO",
          "LEO",
          "LEO",
          "LEO",
          "LEO",
          "LEO",
          "LEO",
          "LEO",
          "LEO",
          "LEO",
          "LEO",
          "LEO",
          "LEO",
          "LEO",
          "LEO",
          "LEO",
          "LEO",
          "LEO",
          "LEO",
          "LEO",
          "LEO",
          "LEO",
          "LEO",
          "LEO",
          "LEO",
          "LEO",
          "LEO",
          "LEO",
          "LEO",
          "LEO",
          "LEO",
          "LEO",
          "LEO",
          "LEO",
          "LEO",
          "LEO",
          "LEO",
          "LEO",
          "LEO",
          "LEO",
          "LEO",
          "LEO",
          "LEO",
          "LEO",
          "LEO",
          "LEO",
          "LEO",
          "LEO",
          "LEO",
          "LEO",
          "LEO",
          "LEO",
          "LEO",
          "LEO",
          "LEO",
          "LEO",
          "LEO",
          "LEO",
          "LEO",
          "LEO",
          "LEO",
          "LEO",
          "LEO",
          "LEO",
          "LEO",
          "LEO",
          "LEO",
          "LEO",
          "LEO",
          "LEO",
          "LEO",
          "LEO",
          "LEO",
          "LEO",
          "LEO",
          "LEO",
          "LEO",
          "LEO",
          "LEO",
          "LEO",
          "LEO",
          "LEO",
          "LEO",
          "LEO",
          "LEO",
          "LEO",
          "LEO",
          "LEO",
          "LEO",
          "LEO",
          "LEO",
          "LEO",
          "LEO",
          "LEO",
          "LEO",
          "LEO",
          "LEO",
          "LEO",
          "LEO",
          "LEO",
          "LEO",
          "LEO",
          "LEO",
          "LEO",
          "LEO",
          "LEO",
          "LEO",
          "LEO",
          "LEO",
          "LEO",
          "LEO",
          "LEO",
          "LEO",
          "LEO",
          "LEO",
          "LEO",
          "LEO",
          "LEO",
          "LEO",
          "LEO",
          "LEO",
          "LEO",
          "LEO",
          "LEO",
          "LEO",
          "LEO",
          "LEO",
          "LEO",
          "LEO",
          "LEO",
          "LEO",
          "LEO",
          "LEO",
          "LEO",
          "LEO",
          "LEO",
          "LEO",
          "LEO",
          "LEO",
          "LEO",
          "LEO",
          "LEO",
          "LEO",
          "LEO",
          "LEO",
          "LEO",
          "LEO",
          "LEO",
          "LEO",
          "LEO",
          "LEO",
          "LEO",
          "LEO",
          "LEO",
          "LEO",
          "LEO",
          "LEO",
          "LEO",
          "LEO",
          "LEO",
          "LEO",
          "LEO",
          "LEO",
          "LEO",
          "LEO",
          "LEO",
          "LEO",
          "LEO",
          "LEO",
          "LEO",
          "LEO",
          "LEO",
          "LEO",
          "LEO",
          "LEO",
          "LEO",
          "LEO",
          "LEO",
          "LEO",
          "LEO",
          "LEO",
          "LEO",
          "LEO",
          "LEO",
          "LEO",
          "LEO",
          "LEO",
          "LEO",
          "LEO",
          "LEO",
          "LEO",
          "LEO",
          "LEO",
          "LEO",
          "LEO",
          "LEO",
          "LEO",
          "LEO",
          "LEO",
          "LEO",
          "LEO",
          "LEO",
          "LEO",
          "LEO",
          "LEO",
          "LEO",
          "LEO",
          "LEO",
          "LEO",
          "LEO",
          "LEO",
          "LEO",
          "LEO",
          "LEO",
          "LEO",
          "LEO",
          "LEO",
          "LEO",
          "LEO",
          "LEO",
          "LEO",
          "LEO",
          "LEO",
          "LEO",
          "LEO",
          "LEO",
          "LEO",
          "LEO",
          "LEO",
          "LEO",
          "LEO",
          "LEO",
          "LEO",
          "LEO",
          "LEO",
          "LEO",
          "LEO",
          "LEO",
          "LEO",
          "LEO",
          "LEO",
          "LEO",
          "LEO",
          "LEO",
          "LEO",
          "LEO",
          "LEO",
          "LEO",
          "LEO",
          "LEO",
          "LEO",
          "LEO",
          "LEO",
          "LEO",
          "LEO",
          "LEO",
          "LEO",
          "LEO",
          "LEO",
          "LEO",
          "LEO",
          "LEO",
          "LEO",
          "LEO",
          "LEO",
          "LEO",
          "LEO",
          "LEO",
          "LEO",
          "LEO",
          "LEO",
          "LEO",
          "LEO",
          "LEO",
          "LEO",
          "LEO",
          "LEO",
          "LEO",
          "LEO",
          "LEO",
          "LEO",
          "LEO",
          "LEO",
          "LEO",
          "LEO",
          "LEO",
          "LEO",
          "LEO",
          "LEO",
          "LEO",
          "LEO",
          "LEO",
          "LEO",
          "LEO",
          "LEO",
          "LEO",
          "LEO",
          "LEO",
          "LEO",
          "LEO",
          "LEO",
          "LEO",
          "LEO",
          "LEO",
          "LEO",
          "LEO",
          "LEO",
          "LEO",
          "LEO",
          "LEO",
          "LEO",
          "LEO",
          "LEO",
          "LEO",
          "LEO",
          "LEO",
          "LEO",
          "LEO",
          "LEO",
          "LEO",
          "LEO",
          "LEO",
          "LEO",
          "LEO",
          "LEO",
          "LEO",
          "LEO",
          "LEO",
          "LEO",
          "LEO",
          "LEO",
          "LEO",
          "LEO",
          "LEO",
          "LEO",
          "LEO",
          "LEO",
          "LEO",
          "LEO",
          "LEO",
          "LEO",
          "LEO",
          "LEO",
          "LEO",
          "LEO",
          "LEO",
          "LEO",
          "LEO",
          "LEO",
          "LEO",
          "LEO",
          "LEO",
          "LEO",
          "LEO",
          "LEO",
          "LEO",
          "LEO",
          "LEO",
          "LEO",
          "LEO",
          "LEO",
          "LEO",
          "LEO",
          "LEO",
          "LEO",
          "LEO",
          "LEO",
          "LEO",
          "LEO",
          "LEO",
          "LEO",
          "LEO",
          "LEO",
          "LEO",
          "LEO",
          "LEO",
          "LEO",
          "LEO",
          "LEO",
          "LEO",
          "LEO",
          "LEO",
          "LEO",
          "LEO",
          "LEO",
          "LEO",
          "LEO",
          "LEO",
          "LEO",
          "LEO",
          "LEO",
          "LEO",
          "LEO",
          "LEO",
          "LEO",
          "LEO",
          "LEO",
          "LEO",
          "LEO",
          "LEO",
          "LEO",
          "LEO",
          "LEO",
          "LEO",
          "LEO",
          "LEO",
          "LEO",
          "LEO",
          "LEO",
          "LEO",
          "LEO",
          "LEO",
          "LEO",
          "LEO",
          "LEO",
          "LEO",
          "LEO",
          "LEO",
          "LEO",
          "LEO",
          "LEO",
          "LEO",
          "LEO",
          "LEO",
          "LEO",
          "LEO",
          "LEO",
          "LEO",
          "LEO",
          "LEO",
          "LEO",
          "LEO",
          "LEO",
          "LEO",
          "LEO",
          "LEO",
          "LEO",
          "LEO",
          "LEO",
          "LEO",
          "LEO",
          "LEO",
          "LEO",
          "LEO",
          "LEO",
          "LEO",
          "LEO",
          "LEO",
          "LEO",
          "LEO",
          "LEO",
          "LEO",
          "LEO",
          "LEO",
          "LEO",
          "LEO",
          "LEO",
          "LEO",
          "LEO",
          "LEO",
          "LEO",
          "LEO",
          "LEO",
          "LEO",
          "LEO",
          "LEO",
          "LEO",
          "LEO",
          "LEO",
          "LEO",
          "LEO",
          "LEO",
          "LEO",
          "LEO",
          "LEO",
          "LEO",
          "LEO",
          "LEO",
          "LEO",
          "LEO",
          "LEO",
          "LEO",
          "LEO",
          "LEO",
          "LEO",
          "LEO",
          "LEO",
          "LEO",
          "LEO",
          "LEO",
          "LEO",
          "LEO",
          "LEO",
          "LEO",
          "LEO",
          "LEO",
          "LEO",
          "LEO",
          "LEO",
          "LEO",
          "LEO",
          "LEO",
          "LEO",
          "LEO",
          "LEO",
          "LEO",
          "LEO",
          "LEO",
          "LEO",
          "LEO",
          "LEO",
          "LEO",
          "LEO",
          "LEO",
          "LEO",
          "LEO",
          "LEO",
          "LEO",
          "LEO",
          "LEO",
          "LEO",
          "LEO",
          "LEO",
          "LEO",
          "LEO",
          "LEO",
          "LEO",
          "LEO",
          "LEO",
          "LEO",
          "LEO",
          "LEO",
          "LEO",
          "LEO",
          "LEO",
          "LEO",
          "LEO",
          "LEO",
          "LEO",
          "LEO",
          "LEO",
          "LEO",
          "LEO",
          "LEO",
          "LEO",
          "LEO",
          "LEO",
          "LEO",
          "LEO",
          "LEO",
          "LEO",
          "LEO",
          "LEO",
          "LEO",
          "LEO",
          "LEO",
          "LEO",
          "LEO",
          "LEO",
          "LEO",
          "LEO",
          "LEO",
          "LEO",
          "LEO",
          "LEO",
          "LEO",
          "LEO",
          "LEO",
          "LEO",
          "LEO",
          "LEO",
          "LEO",
          "LEO",
          "LEO",
          "LEO",
          "LEO",
          "LEO",
          "LEO",
          "LEO",
          "LEO",
          "LEO",
          "LEO",
          "LEO",
          "LEO",
          "LEO",
          "LEO",
          "LEO",
          "LEO",
          "LEO",
          "LEO",
          "LEO",
          "LEO",
          "LEO",
          "LEO",
          "LEO",
          "LEO",
          "LEO",
          "LEO",
          "LEO",
          "LEO",
          "LEO",
          "LEO",
          "LEO",
          "LEO",
          "LEO",
          "LEO",
          "LEO",
          "LEO",
          "LEO",
          "LEO",
          "LEO",
          "LEO",
          "LEO",
          "LEO",
          "LEO",
          "LEO",
          "LEO",
          "LEO",
          "LEO",
          "LEO",
          "LEO",
          "LEO",
          "LEO",
          "LEO",
          "LEO",
          "LEO",
          "LEO",
          "LEO",
          "LEO",
          "LEO",
          "LEO",
          "LEO",
          "LEO",
          "LEO",
          "LEO",
          "LEO",
          "LEO",
          "LEO",
          "LEO",
          "LEO",
          "LEO",
          "LEO",
          "LEO",
          "LEO",
          "LEO",
          "LEO",
          "LEO",
          "LEO",
          "LEO",
          "LEO",
          "LEO",
          "LEO",
          "LEO",
          "LEO",
          "LEO",
          "LEO",
          "LEO",
          "LEO",
          "LEO",
          "LEO",
          "LEO",
          "LEO",
          "LEO",
          "LEO",
          "LEO",
          "LEO",
          "LEO",
          "LEO",
          "LEO",
          "LEO",
          "LEO",
          "LEO",
          "LEO",
          "LEO",
          "LEO",
          "LEO",
          "LEO",
          "LEO",
          "LEO",
          "LEO",
          "LEO",
          "LEO",
          "LEO",
          "LEO",
          "LEO",
          "LEO",
          "LEO",
          "LEO",
          "LEO",
          "LEO",
          "LEO",
          "LEO",
          "LEO",
          "LEO",
          "LEO",
          "LEO",
          "LEO",
          "LEO",
          "LEO",
          "LEO",
          "LEO",
          "LEO",
          "LEO",
          "LEO",
          "LEO",
          "LEO",
          "LEO",
          "LEO",
          "LEO",
          "LEO",
          "LEO",
          "LEO",
          "LEO",
          "LEO",
          "LEO",
          "LEO",
          "LEO",
          "LEO",
          "LEO",
          "LEO",
          "LEO",
          "LEO",
          "LEO",
          "LEO",
          "LEO",
          "LEO",
          "LEO",
          "LEO",
          "LEO",
          "LEO",
          "LEO",
          "LEO",
          "LEO",
          "LEO",
          "LEO",
          "LEO",
          "LEO",
          "LEO",
          "LEO",
          "LEO",
          "LEO",
          "LEO",
          "LEO",
          "LEO",
          "LEO",
          "LEO",
          "LEO",
          "LEO",
          "LEO",
          "LEO",
          "LEO",
          "LEO",
          "LEO",
          "LEO",
          "LEO",
          "LEO",
          "LEO",
          "LEO",
          "LEO",
          "LEO",
          "LEO",
          "LEO",
          "LEO",
          "LEO",
          "LEO",
          "LEO",
          "LEO",
          "LEO",
          "LEO",
          "LEO",
          "LEO",
          "LEO",
          "LEO",
          "LEO",
          "LEO",
          "LEO",
          "LEO",
          "LEO",
          "LEO",
          "LEO",
          "LEO",
          "LEO",
          "LEO",
          "LEO",
          "LEO",
          "LEO",
          "LEO",
          "LEO",
          "LEO",
          "LEO",
          "LEO",
          "LEO",
          "LEO",
          "LEO",
          "LEO",
          "LEO",
          "LEO",
          "LEO",
          "LEO",
          "LEO",
          "LEO",
          "LEO",
          "LEO",
          "LEO",
          "LEO",
          "LEO",
          "LEO",
          "LEO",
          "LEO",
          "LEO",
          "LEO",
          "LEO",
          "LEO",
          "LEO",
          "LEO",
          "LEO",
          "LEO",
          "LEO",
          "LEO",
          "LEO",
          "LEO",
          "LEO",
          "LEO",
          "LEO",
          "LEO",
          "LEO",
          "LEO",
          "LEO",
          "LEO",
          "LEO",
          "LEO",
          "LEO",
          "LEO",
          "LEO",
          "LEO",
          "LEO",
          "LEO",
          "LEO",
          "LEO",
          "LEO",
          "LEO",
          "LEO",
          "LEO",
          "LEO",
          "LEO",
          "LEO",
          "LEO",
          "LEO",
          "LEO",
          "LEO",
          "LEO",
          "LEO",
          "LEO",
          "LEO",
          "LEO",
          "LEO",
          "LEO",
          "LEO",
          "LEO",
          "LEO",
          "LEO",
          "LEO",
          "LEO",
          "LEO",
          "LEO",
          "LEO",
          "LEO",
          "LEO",
          "LEO",
          "LEO",
          "LEO",
          "LEO",
          "LEO",
          "LEO",
          "LEO",
          "LEO",
          "LEO",
          "LEO",
          "LEO",
          "LEO",
          "LEO",
          "LEO",
          "LEO",
          "LEO",
          "LEO",
          "LEO",
          "LEO",
          "LEO",
          "LEO",
          "LEO",
          "LEO",
          "LEO",
          "LEO",
          "LEO",
          "LEO",
          "LEO",
          "LEO",
          "LEO",
          "LEO",
          "LEO",
          "LEO",
          "LEO",
          "LEO",
          "LEO",
          "LEO",
          "LEO",
          "LEO",
          "LEO",
          "LEO",
          "LEO",
          "LEO",
          "LEO",
          "LEO",
          "LEO",
          "LEO",
          "LEO",
          "LEO",
          "LEO",
          "LEO",
          "LEO",
          "LEO",
          "LEO",
          "LEO",
          "LEO",
          "LEO",
          "LEO",
          "LEO",
          "LEO",
          "LEO",
          "LEO",
          "LEO",
          "LEO",
          "LEO",
          "LEO",
          "LEO",
          "LEO",
          "LEO",
          "LEO",
          "LEO",
          "LEO",
          "LEO",
          "LEO",
          "LEO",
          "LEO",
          "LEO",
          "LEO",
          "LEO",
          "LEO",
          "LEO",
          "LEO",
          "LEO",
          "LEO",
          "LEO",
          "LEO",
          "LEO",
          "LEO",
          "LEO",
          "LEO",
          "LEO",
          "LEO",
          "LEO",
          "LEO",
          "LEO",
          "LEO",
          "LEO",
          "LEO",
          "LEO",
          "LEO",
          "LEO",
          "LEO",
          "LEO",
          "LEO",
          "LEO",
          "LEO",
          "LEO",
          "LEO",
          "LEO",
          "LEO",
          "LEO",
          "LEO",
          "LEO",
          "LEO",
          "LEO",
          "LEO",
          "LEO",
          "LEO",
          "LEO",
          "LEO",
          "LEO",
          "LEO",
          "LEO",
          "LEO",
          "LEO",
          "LEO",
          "LEO",
          "LEO",
          "LEO",
          "LEO",
          "LEO",
          "LEO",
          "LEO",
          "LEO",
          "LEO",
          "LEO",
          "LEO",
          "LEO",
          "LEO",
          "LEO",
          "LEO",
          "LEO",
          "LEO",
          "LEO",
          "LEO",
          "LEO",
          "LEO",
          "LEO",
          "LEO",
          "LEO",
          "LEO",
          "LEO",
          "LEO",
          "LEO",
          "LEO",
          "LEO",
          "LEO",
          "LEO",
          "LEO",
          "LEO",
          "LEO",
          "LEO",
          "LEO",
          "LEO",
          "LEO",
          "LEO",
          "LEO",
          "LEO",
          "LEO",
          "LEO",
          "LEO",
          "LEO",
          "LEO",
          "LEO",
          "LEO",
          "LEO",
          "LEO",
          "LEO",
          "LEO",
          "LEO",
          "LEO",
          "LEO",
          "LEO",
          "LEO",
          "LEO",
          "LEO",
          "LEO",
          "LEO",
          "LEO",
          "LEO",
          "LEO",
          "LEO",
          "LEO",
          "LEO",
          "LEO",
          "LEO",
          "LEO",
          "LEO",
          "LEO",
          "LEO",
          "LEO",
          "LEO",
          "LEO",
          "LEO",
          "LEO",
          "LEO",
          "LEO",
          "LEO",
          "LEO",
          "LEO",
          "LEO",
          "LEO",
          "LEO",
          "LEO",
          "LEO",
          "LEO",
          "LEO",
          "LEO",
          "LEO",
          "LEO",
          "LEO",
          "LEO",
          "LEO",
          "LEO",
          "LEO",
          "LEO",
          "LEO",
          "LEO",
          "LEO",
          "LEO",
          "LEO",
          "LEO",
          "LEO",
          "LEO",
          "LEO",
          "LEO",
          "LEO",
          "LEO",
          "LEO",
          "LEO",
          "LEO",
          "LEO",
          "LEO",
          "LEO",
          "LEO",
          "LEO",
          "LEO",
          "LEO",
          "LEO",
          "LEO",
          "LEO",
          "LEO",
          "LEO",
          "LEO",
          "LEO",
          "LEO",
          "LEO",
          "LEO",
          "LEO",
          "LEO",
          "LEO",
          "LEO",
          "LEO",
          "LEO",
          "LEO",
          "LEO",
          "LEO",
          "LEO",
          "LEO",
          "LEO",
          "LEO",
          "LEO",
          "LEO",
          "LEO",
          "LEO",
          "LEO",
          "LEO",
          "LEO",
          "LEO",
          "LEO",
          "LEO",
          "LEO",
          "LEO",
          "LEO",
          "LEO",
          "LEO",
          "LEO",
          "LEO",
          "LEO",
          "LEO",
          "LEO",
          "LEO",
          "LEO",
          "LEO",
          "LEO",
          "LEO",
          "LEO",
          "LEO",
          "LEO",
          "LEO",
          "LEO",
          "LEO",
          "LEO",
          "LEO",
          "LEO",
          "LEO",
          "LEO",
          "LEO",
          "LEO",
          "LEO",
          "LEO",
          "LEO",
          "LEO",
          "LEO",
          "LEO",
          "LEO",
          "LEO",
          "LEO",
          "LEO",
          "LEO",
          "LEO",
          "LEO",
          "LEO",
          "LEO",
          "LEO",
          "LEO",
          "LEO",
          "LEO",
          "LEO",
          "LEO",
          "LEO",
          "LEO",
          "LEO",
          "LEO",
          "LEO",
          "LEO",
          "LEO",
          "LEO",
          "LEO",
          "LEO",
          "LEO",
          "LEO",
          "LEO",
          "LEO",
          "LEO",
          "LEO",
          "LEO",
          "LEO",
          "LEO",
          "LEO",
          "LEO",
          "LEO",
          "LEO",
          "LEO",
          "LEO",
          "LEO",
          "LEO",
          "LEO",
          "LEO",
          "LEO",
          "LEO",
          "LEO",
          "LEO",
          "LEO",
          "LEO",
          "LEO",
          "LEO",
          "LEO",
          "LEO",
          "LEO",
          "LEO",
          "LEO",
          "LEO",
          "LEO",
          "LEO",
          "LEO",
          "LEO",
          "LEO",
          "LEO",
          "LEO",
          "LEO",
          "LEO",
          "LEO",
          "LEO",
          "LEO",
          "LEO",
          "LEO",
          "LEO",
          "LEO",
          "LEO",
          "LEO",
          "LEO",
          "LEO",
          "LEO",
          "LEO",
          "LEO",
          "LEO",
          "LEO",
          "LEO",
          "LEO",
          "LEO",
          "LEO",
          "LEO",
          "LEO",
          "LEO",
          "LEO",
          "LEO",
          "LEO",
          "LEO",
          "LEO",
          "LEO",
          "LEO",
          "LEO",
          "LEO",
          "LEO",
          "LEO",
          "LEO",
          "LEO",
          "LEO",
          "LEO",
          "LEO",
          "LEO",
          "LEO",
          "LEO",
          "LEO",
          "LEO",
          "LEO",
          "LEO",
          "LEO",
          "LEO",
          "LEO",
          "LEO",
          "LEO",
          "LEO",
          "LEO",
          "LEO",
          "LEO",
          "LEO",
          "LEO",
          "LEO",
          "LEO",
          "LEO",
          "LEO",
          "LEO",
          "LEO",
          "LEO",
          "LEO",
          "LEO",
          "LEO",
          "LEO",
          "LEO",
          "LEO",
          "LEO",
          "LEO",
          "LEO",
          "LEO",
          "LEO",
          "LEO",
          "LEO",
          "LEO",
          "LEO",
          "LEO",
          "LEO",
          "LEO",
          "LEO",
          "LEO",
          "LEO",
          "LEO",
          "LEO",
          "LEO",
          "LEO",
          "LEO",
          "LEO",
          "LEO",
          "LEO",
          "LEO",
          "LEO",
          "LEO",
          "LEO",
          "LEO",
          "LEO",
          "LEO",
          "LEO",
          "LEO",
          "LEO",
          "LEO",
          "LEO",
          "LEO",
          "LEO",
          "LEO",
          "LEO",
          "LEO",
          "LEO",
          "LEO",
          "LEO",
          "LEO",
          "LEO",
          "LEO",
          "LEO",
          "LEO",
          "LEO",
          "LEO",
          "LEO",
          "LEO",
          "LEO",
          "LEO",
          "LEO",
          "LEO",
          "LEO",
          "LEO",
          "LEO",
          "LEO",
          "LEO",
          "LEO",
          "LEO",
          "LEO",
          "LEO",
          "LEO",
          "LEO",
          "LEO",
          "LEO",
          "LEO",
          "LEO",
          "LEO",
          "LEO",
          "LEO",
          "LEO",
          "LEO",
          "LEO",
          "LEO",
          "LEO",
          "LEO",
          "LEO",
          "LEO",
          "LEO",
          "LEO",
          "LEO",
          "LEO",
          "LEO",
          "LEO",
          "LEO",
          "LEO",
          "LEO",
          "LEO",
          "LEO",
          "LEO",
          "LEO",
          "LEO",
          "LEO",
          "LEO",
          "LEO",
          "LEO",
          "LEO",
          "LEO",
          "LEO",
          "LEO",
          "LEO",
          "LEO",
          "LEO",
          "LEO",
          "LEO",
          "LEO",
          "LEO",
          "LEO",
          "LEO",
          "LEO",
          "LEO",
          "LEO",
          "LEO",
          "LEO",
          "LEO",
          "LEO",
          "LEO",
          "LEO",
          "LEO",
          "LEO",
          "LEO",
          "LEO",
          "LEO",
          "LEO",
          "LEO",
          "LEO",
          "LEO",
          "LEO",
          "LEO",
          "LEO",
          "LEO",
          "LEO",
          "LEO",
          "LEO",
          "LEO",
          "LEO",
          "LEO",
          "LEO",
          "LEO",
          "LEO",
          "LEO",
          "LEO",
          "LEO",
          "LEO",
          "LEO",
          "LEO",
          "LEO",
          "LEO",
          "LEO",
          "LEO",
          "LEO",
          "LEO",
          "LEO",
          "LEO",
          "LEO",
          "LEO",
          "LEO",
          "LEO",
          "LEO",
          "LEO",
          "LEO",
          "LEO",
          "LEO",
          "LEO",
          "LEO",
          "LEO",
          "LEO",
          "LEO",
          "LEO",
          "LEO",
          "LEO",
          "LEO",
          "LEO",
          "LEO",
          "LEO",
          "LEO",
          "LEO",
          "LEO",
          "LEO",
          "LEO",
          "LEO",
          "LEO",
          "LEO",
          "LEO",
          "LEO",
          "LEO",
          "LEO",
          "LEO",
          "LEO",
          "LEO",
          "LEO",
          "LEO",
          "LEO",
          "LEO",
          "LEO",
          "LEO",
          "LEO",
          "LEO",
          "LEO",
          "LEO",
          "LEO",
          "LEO",
          "LEO",
          "LEO",
          "LEO",
          "LEO",
          "LEO",
          "LEO",
          "LEO",
          "LEO",
          "LEO",
          "LEO",
          "LEO",
          "LEO",
          "LEO",
          "LEO",
          "LEO",
          "LEO",
          "LEO",
          "LEO",
          "LEO",
          "LEO",
          "LEO",
          "LEO",
          "LEO",
          "LEO",
          "LEO",
          "LEO",
          "LEO",
          "LEO",
          "LEO",
          "LEO",
          "LEO",
          "LEO",
          "LEO",
          "LEO",
          "LEO",
          "LEO",
          "LEO",
          "LEO",
          "LEO",
          "LEO",
          "LEO",
          "LEO",
          "LEO",
          "LEO",
          "LEO",
          "LEO",
          "LEO",
          "LEO",
          "LEO",
          "LEO",
          "LEO",
          "LEO",
          "LEO",
          "LEO",
          "LEO",
          "LEO",
          "LEO",
          "LEO",
          "LEO",
          "LEO",
          "LEO",
          "LEO",
          "LEO",
          "LEO",
          "LEO",
          "LEO",
          "LEO",
          "LEO",
          "LEO",
          "LEO",
          "LEO",
          "LEO",
          "LEO",
          "LEO",
          "LEO",
          "LEO",
          "LEO",
          "LEO",
          "LEO",
          "LEO",
          "LEO",
          "LEO",
          "LEO",
          "LEO",
          "LEO",
          "LEO",
          "LEO",
          "LEO",
          "LEO",
          "LEO",
          "LEO",
          "LEO",
          "LEO",
          "LEO",
          "LEO",
          "LEO",
          "LEO",
          "LEO",
          "LEO",
          "LEO",
          "LEO",
          "LEO",
          "LEO",
          "LEO",
          "LEO",
          "LEO",
          "LEO",
          "LEO",
          "LEO",
          "LEO",
          "LEO",
          "LEO",
          "LEO",
          "LEO",
          "LEO",
          "LEO",
          "LEO",
          "LEO",
          "LEO",
          "LEO",
          "LEO",
          "LEO",
          "LEO",
          "LEO",
          "LEO",
          "LEO",
          "LEO",
          "LEO",
          "LEO",
          "LEO",
          "LEO",
          "LEO",
          "LEO",
          "LEO",
          "LEO",
          "LEO",
          "LEO",
          "LEO",
          "LEO",
          "LEO",
          "LEO",
          "LEO",
          "LEO",
          "LEO",
          "LEO",
          "LEO",
          "LEO",
          "LEO",
          "LEO",
          "LEO",
          "LEO",
          "LEO",
          "LEO",
          "LEO",
          "LEO",
          "LEO",
          "LEO",
          "LEO",
          "LEO",
          "LEO",
          "LEO",
          "LEO",
          "LEO",
          "LEO",
          "LEO",
          "LEO",
          "LEO",
          "LEO",
          "LEO",
          "LEO",
          "LEO",
          "LEO",
          "LEO",
          "LEO",
          "LEO",
          "LEO",
          "LEO",
          "LEO",
          "LEO",
          "LEO",
          "LEO",
          "LEO",
          "LEO",
          "LEO",
          "LEO",
          "LEO",
          "LEO",
          "LEO",
          "LEO",
          "LEO",
          "LEO",
          "LEO",
          "LEO",
          "LEO",
          "LEO",
          "LEO",
          "LEO",
          "LEO",
          "LEO",
          "LEO",
          "LEO",
          "LEO",
          "LEO",
          "LEO",
          "LEO",
          "LEO",
          "LEO",
          "LEO",
          "LEO",
          "LEO",
          "LEO",
          "LEO",
          "LEO",
          "LEO",
          "LEO",
          "LEO",
          "LEO",
          "LEO",
          "LEO",
          "LEO",
          "LEO",
          "LEO",
          "LEO",
          "LEO",
          "LEO",
          "LEO",
          "LEO",
          "LEO",
          "LEO",
          "LEO",
          "LEO",
          "LEO",
          "LEO",
          "LEO",
          "LEO",
          "LEO",
          "LEO",
          "LEO",
          "LEO",
          "LEO",
          "LEO",
          "LEO",
          "LEO",
          "LEO",
          "LEO",
          "LEO",
          "LEO",
          "LEO",
          "LEO",
          "LEO",
          "LEO",
          "LEO",
          "LEO",
          "LEO",
          "LEO",
          "LEO",
          "LEO",
          "LEO",
          "LEO",
          "LEO",
          "LEO",
          "LEO",
          "LEO",
          "LEO",
          "LEO",
          "LEO",
          "LEO",
          "LEO",
          "LEO",
          "LEO",
          "LEO",
          "LEO",
          "LEO",
          "LEO",
          "LEO",
          "LEO",
          "LEO",
          "LEO",
          "LEO",
          "LEO",
          "LEO",
          "LEO",
          "LEO",
          "LEO",
          "LEO",
          "LEO",
          "LEO",
          "LEO",
          "LEO",
          "LEO",
          "LEO",
          "LEO",
          "LEO",
          "LEO",
          "LEO",
          "LEO",
          "LEO",
          "LEO",
          "LEO",
          "LEO",
          "LEO",
          "LEO",
          "LEO",
          "LEO",
          "LEO",
          "LEO",
          "LEO",
          "LEO",
          "LEO",
          "LEO",
          "LEO",
          "LEO",
          "LEO",
          "LEO",
          "LEO",
          "LEO",
          "LEO",
          "LEO",
          "LEO",
          "LEO",
          "LEO",
          "LEO",
          "LEO",
          "LEO",
          "LEO",
          "LEO",
          "LEO",
          "LEO",
          "LEO",
          "LEO",
          "LEO",
          "LEO",
          "LEO",
          "LEO",
          "LEO",
          "LEO",
          "LEO",
          "LEO",
          "LEO",
          "LEO",
          "LEO",
          "LEO",
          "LEO",
          "LEO",
          "LEO",
          "LEO",
          "LEO",
          "LEO",
          "LEO",
          "LEO",
          "LEO",
          "LEO",
          "LEO",
          "LEO",
          "LEO",
          "LEO",
          "LEO",
          "LEO",
          "LEO",
          "LEO",
          "LEO",
          "LEO",
          "LEO",
          "LEO",
          "LEO",
          "LEO",
          "LEO",
          "LEO",
          "LEO",
          "LEO",
          "LEO",
          "LEO",
          "LEO",
          "LEO",
          "LEO",
          "LEO",
          "LEO",
          "LEO",
          "LEO",
          "LEO",
          "LEO",
          "LEO",
          "LEO",
          "LEO",
          "LEO",
          "LEO",
          "LEO",
          "LEO",
          "LEO",
          "LEO",
          "LEO",
          "LEO",
          "LEO",
          "LEO",
          "LEO",
          "LEO",
          "LEO",
          "LEO",
          "LEO",
          "LEO",
          "LEO",
          "LEO",
          "LEO",
          "LEO",
          "LEO",
          "LEO",
          "LEO",
          "LEO",
          "LEO",
          "LEO",
          "LEO",
          "LEO",
          "LEO",
          "LEO",
          "LEO",
          "LEO",
          "LEO",
          "LEO",
          "LEO",
          "LEO",
          "LEO",
          "LEO",
          "LEO",
          "LEO",
          "LEO",
          "LEO",
          "LEO",
          "LEO",
          "LEO",
          "LEO",
          "LEO",
          "LEO",
          "LEO",
          "LEO",
          "LEO",
          "LEO",
          "LEO",
          "LEO",
          "LEO",
          "LEO",
          "LEO",
          "LEO",
          "LEO",
          "LEO",
          "LEO",
          "LEO",
          "LEO",
          "LEO",
          "LEO",
          "LEO",
          "LEO",
          "LEO",
          "LEO",
          "LEO",
          "LEO",
          "LEO",
          "LEO",
          "LEO",
          "LEO",
          "LEO",
          "LEO",
          "LEO",
          "LEO",
          "LEO",
          "LEO",
          "LEO",
          "LEO",
          "LEO",
          "LEO",
          "LEO",
          "LEO",
          "LEO",
          "LEO",
          "LEO",
          "LEO",
          "LEO",
          "LEO",
          "LEO",
          "LEO",
          "LEO",
          "LEO",
          "LEO",
          "LEO",
          "LEO",
          "LEO",
          "LEO",
          "LEO",
          "LEO",
          "LEO",
          "LEO",
          "LEO",
          "LEO",
          "LEO",
          "LEO",
          "LEO",
          "LEO",
          "LEO",
          "LEO",
          "LEO",
          "LEO",
          "LEO",
          "LEO",
          "LEO",
          "LEO",
          "LEO",
          "LEO",
          "LEO",
          "LEO",
          "LEO",
          "LEO",
          "LEO",
          "LEO",
          "LEO",
          "LEO",
          "LEO",
          "LEO",
          "LEO",
          "LEO",
          "LEO",
          "LEO",
          "LEO",
          "LEO",
          "LEO",
          "LEO",
          "LEO",
          "LEO",
          "LEO",
          "LEO",
          "LEO",
          "LEO",
          "LEO",
          "LEO",
          "LEO",
          "LEO",
          "LEO",
          "LEO",
          "LEO",
          "LEO",
          "LEO",
          "LEO",
          "LEO",
          "LEO",
          "LEO",
          "LEO",
          "LEO",
          "LEO",
          "LEO",
          "LEO",
          "LEO",
          "LEO",
          "LEO",
          "LEO",
          "LEO",
          "LEO",
          "LEO",
          "LEO",
          "LEO",
          "LEO",
          "LEO",
          "LEO",
          "LEO",
          "LEO",
          "LEO",
          "LEO",
          "LEO",
          "LEO",
          "LEO",
          "LEO",
          "LEO",
          "LEO",
          "LEO",
          "LEO",
          "LEO",
          "LEO",
          "LEO",
          "LEO",
          "LEO",
          "LEO",
          "LEO",
          "LEO",
          "LEO",
          "LEO",
          "LEO",
          "LEO",
          "LEO",
          "LEO",
          "LEO",
          "LEO",
          "LEO",
          "LEO",
          "LEO",
          "LEO",
          "LEO",
          "LEO",
          "LEO",
          "LEO",
          "LEO",
          "LEO",
          "LEO",
          "LEO",
          "LEO",
          "LEO",
          "LEO",
          "LEO",
          "LEO",
          "LEO",
          "LEO",
          "LEO",
          "LEO",
          "LEO",
          "LEO",
          "LEO",
          "LEO",
          "LEO",
          "LEO",
          "LEO",
          "LEO",
          "LEO",
          "LEO",
          "LEO",
          "LEO",
          "LEO",
          "LEO",
          "LEO",
          "LEO",
          "LEO",
          "LEO",
          "LEO",
          "LEO",
          "LEO",
          "LEO",
          "LEO",
          "LEO",
          "LEO",
          "LEO",
          "LEO",
          "LEO",
          "LEO",
          "LEO",
          "LEO",
          "LEO",
          "LEO",
          "LEO",
          "LEO",
          "LEO",
          "LEO",
          "LEO",
          "LEO",
          "LEO",
          "LEO",
          "LEO",
          "LEO",
          "LEO",
          "LEO",
          "LEO",
          "LEO",
          "LEO",
          "LEO",
          "LEO",
          "LEO",
          "LEO",
          "LEO",
          "LEO",
          "LEO",
          "LEO",
          "LEO",
          "LEO",
          "LEO",
          "LEO",
          "LEO",
          "LEO",
          "LEO",
          "LEO",
          "LEO",
          "LEO",
          "LEO",
          "LEO",
          "LEO",
          "LEO",
          "LEO",
          "LEO",
          "LEO",
          "LEO",
          "LEO",
          "LEO",
          "LEO",
          "LEO",
          "LEO",
          "LEO",
          "LEO",
          "LEO",
          "LEO",
          "LEO",
          "LEO",
          "LEO",
          "LEO",
          "LEO",
          "LEO",
          "LEO",
          "LEO",
          "LEO",
          "LEO",
          "LEO",
          "LEO",
          "LEO",
          "LEO",
          "LEO",
          "LEO",
          "LEO",
          "LEO",
          "LEO",
          "LEO",
          "LEO",
          "LEO",
          "LEO",
          "LEO",
          "LEO",
          "LEO",
          "LEO",
          "LEO",
          "LEO",
          "LEO",
          "LEO",
          "LEO",
          "LEO",
          "LEO",
          "LEO",
          "LEO",
          "LEO",
          "LEO",
          "LEO",
          "LEO",
          "LEO",
          "LEO",
          "LEO",
          "LEO",
          "LEO",
          "LEO",
          "LEO",
          "LEO",
          "LEO",
          "LEO",
          "LEO",
          "LEO",
          "LEO",
          "LEO",
          "LEO",
          "LEO",
          "LEO",
          "LEO",
          "LEO",
          "LEO",
          "LEO",
          "LEO",
          "LEO",
          "LEO",
          "LEO",
          "LEO",
          "LEO",
          "LEO",
          "LEO",
          "LEO",
          "LEO",
          "LEO",
          "LEO",
          "LEO",
          "LEO",
          "LEO",
          "LEO",
          "LEO",
          "LEO",
          "LEO",
          "LEO",
          "LEO",
          "LEO",
          "LEO",
          "LEO",
          "LEO",
          "LEO",
          "LEO",
          "LEO",
          "LEO",
          "LEO",
          "LEO",
          "LEO",
          "LEO",
          "LEO",
          "LEO",
          "LEO",
          "LEO",
          "LEO",
          "LEO",
          "LEO",
          "LEO",
          "LEO",
          "LEO",
          "LEO",
          "LEO",
          "LEO",
          "LEO",
          "LEO",
          "LEO",
          "LEO",
          "LEO",
          "LEO",
          "LEO",
          "LEO",
          "LEO",
          "LEO",
          "LEO",
          "LEO",
          "LEO",
          "LEO",
          "LEO",
          "LEO",
          "LEO",
          "LEO",
          "LEO",
          "LEO",
          "LEO",
          "LEO",
          "LEO",
          "LEO",
          "LEO",
          "LEO",
          "LEO",
          "LEO",
          "LEO",
          "LEO",
          "LEO",
          "LEO",
          "LEO",
          "LEO",
          "LEO",
          "LEO",
          "LEO",
          "LEO",
          "LEO",
          "LEO",
          "LEO",
          "LEO",
          "LEO",
          "LEO",
          "LEO",
          "LEO",
          "LEO",
          "LEO",
          "LEO",
          "LEO",
          "LEO",
          "LEO",
          "LEO",
          "LEO",
          "LEO",
          "LEO",
          "LEO",
          "LEO",
          "LEO",
          "LEO",
          "LEO",
          "LEO",
          "LEO",
          "LEO",
          "LEO",
          "LEO",
          "LEO",
          "LEO",
          "LEO",
          "LEO",
          "LEO",
          "LEO",
          "LEO",
          "LEO",
          "LEO",
          "LEO",
          "LEO",
          "LEO",
          "LEO",
          "LEO",
          "LEO",
          "LEO",
          "LEO",
          "LEO",
          "LEO",
          "LEO",
          "LEO",
          "LEO",
          "LEO",
          "LEO",
          "LEO",
          "LEO",
          "LEO",
          "LEO",
          "LEO",
          "LEO",
          "LEO",
          "LEO",
          "LEO",
          "LEO",
          "LEO",
          "LEO",
          "LEO",
          "LEO",
          "LEO",
          "LEO",
          "LEO",
          "LEO",
          "LEO",
          "LEO",
          "LEO",
          "LEO",
          "LEO",
          "LEO",
          "LEO",
          "LEO",
          "LEO",
          "LEO",
          "LEO",
          "LEO",
          "LEO",
          "LEO",
          "LEO",
          "LEO",
          "LEO",
          "LEO",
          "LEO",
          "LEO",
          "LEO",
          "LEO",
          "LEO",
          "LEO",
          "LEO",
          "LEO",
          "LEO",
          "LEO",
          "LEO",
          "LEO",
          "LEO",
          "LEO",
          "LEO",
          "LEO",
          "LEO",
          "LEO",
          "LEO",
          "LEO",
          "LEO",
          "LEO",
          "LEO",
          "LEO",
          "LEO",
          "LEO",
          "LEO",
          "LEO",
          "LEO",
          "LEO",
          "LEO",
          "LEO",
          "LEO",
          "LEO",
          "LEO",
          "LEO",
          "LEO",
          "LEO",
          "LEO",
          "LEO",
          "LEO",
          "LEO",
          "LEO",
          "LEO",
          "LEO",
          "LEO",
          "LEO",
          "LEO",
          "LEO",
          "LEO",
          "LEO",
          "LEO",
          "LEO",
          "LEO",
          "LEO",
          "LEO",
          "LEO",
          "LEO",
          "LEO",
          "LEO",
          "LEO",
          "LEO",
          "LEO",
          "LEO",
          "LEO",
          "LEO",
          "LEO",
          "LEO",
          "LEO",
          "LEO",
          "LEO",
          "LEO",
          "LEO",
          "LEO",
          "LEO",
          "LEO",
          "LEO",
          "LEO",
          "LEO",
          "LEO",
          "LEO",
          "LEO",
          "LEO",
          "LEO",
          "LEO",
          "LEO",
          "LEO",
          "LEO",
          "LEO",
          "LEO",
          "LEO",
          "LEO",
          "LEO",
          "LEO",
          "LEO",
          "LEO",
          "LEO",
          "LEO",
          "LEO",
          "LEO",
          "LEO",
          "LEO",
          "LEO",
          "LEO",
          "LEO",
          "LEO",
          "LEO",
          "LEO",
          "LEO",
          "LEO",
          "LEO",
          "LEO",
          "LEO",
          "LEO",
          "LEO",
          "LEO",
          "LEO",
          "LEO",
          "LEO",
          "LEO",
          "LEO",
          "LEO",
          "LEO",
          "LEO",
          "LEO",
          "LEO",
          "LEO",
          "LEO",
          "LEO",
          "LEO",
          "LEO",
          "LEO",
          "LEO",
          "LEO",
          "LEO",
          "LEO",
          "LEO",
          "LEO",
          "LEO",
          "LEO",
          "LEO",
          "LEO",
          "LEO",
          "LEO",
          "LEO",
          "LEO",
          "LEO",
          "LEO",
          "LEO",
          "LEO",
          "LEO",
          "LEO",
          "LEO",
          "LEO",
          "LEO",
          "LEO",
          "LEO",
          "LEO",
          "LEO",
          "LEO",
          "LEO",
          "LEO",
          "LEO",
          "LEO",
          "LEO",
          "LEO",
          "LEO",
          "LEO",
          "LEO",
          "LEO",
          "LEO",
          "LEO",
          "LEO",
          "LEO",
          "LEO",
          "LEO",
          "LEO",
          "LEO",
          "LEO",
          "LEO",
          "LEO",
          "LEO",
          "LEO",
          "LEO",
          "LEO",
          "LEO",
          "LEO",
          "LEO",
          "LEO",
          "LEO",
          "LEO",
          "LEO",
          "LEO",
          "LEO",
          "LEO",
          "LEO",
          "LEO",
          "LEO",
          "LEO",
          "LEO",
          "LEO",
          "LEO",
          "LEO",
          "LEO",
          "LEO",
          "LEO",
          "LEO",
          "LEO",
          "LEO",
          "LEO",
          "LEO",
          "LEO",
          "LEO",
          "LEO",
          "LEO",
          "LEO",
          "LEO",
          "LEO",
          "LEO",
          "LEO",
          "LEO",
          "LEO",
          "LEO",
          "LEO",
          "LEO",
          "LEO",
          "LEO",
          "LEO",
          "LEO",
          "LEO",
          "LEO",
          "LEO",
          "LEO",
          "LEO",
          "LEO",
          "LEO",
          "LEO",
          "LEO",
          "LEO",
          "LEO",
          "LEO",
          "LEO",
          "LEO",
          "LEO",
          "LEO",
          "LEO",
          "LEO",
          "LEO",
          "LEO",
          "LEO",
          "LEO",
          "LEO",
          "LEO",
          "LEO",
          "LEO",
          "LEO",
          "LEO",
          "LEO",
          "LEO",
          "LEO",
          "LEO",
          "LEO",
          "LEO",
          "LEO",
          "LEO",
          "LEO",
          "LEO",
          "LEO",
          "LEO",
          "LEO",
          "LEO",
          "LEO",
          "LEO",
          "LEO",
          "LEO",
          "LEO",
          "LEO",
          "LEO",
          "LEO",
          "LEO",
          "LEO",
          "LEO",
          "LEO",
          "LEO",
          "LEO",
          "LEO",
          "LEO",
          "LEO",
          "LEO",
          "LEO",
          "LEO",
          "LEO",
          "LEO",
          "LEO",
          "LEO",
          "LEO",
          "LEO",
          "LEO",
          "LEO",
          "LEO",
          "LEO",
          "LEO",
          "LEO",
          "LEO",
          "LEO",
          "LEO",
          "LEO",
          "LEO",
          "LEO",
          "LEO",
          "LEO",
          "LEO",
          "LEO",
          "LEO",
          "LEO",
          "LEO",
          "LEO",
          "LEO",
          "LEO",
          "LEO",
          "LEO",
          "LEO",
          "LEO",
          "LEO",
          "LEO",
          "LEO",
          "LEO",
          "LEO",
          "LEO",
          "LEO",
          "LEO",
          "LEO",
          "LEO",
          "LEO",
          "LEO",
          "LEO",
          "LEO",
          "LEO",
          "LEO",
          "LEO",
          "LEO",
          "LEO",
          "LEO",
          "LEO",
          "LEO",
          "LEO",
          "LEO",
          "LEO",
          "LEO",
          "LEO",
          "LEO",
          "LEO",
          "LEO",
          "LEO",
          "LEO",
          "LEO",
          "LEO",
          "LEO",
          "LEO",
          "LEO",
          "LEO",
          "LEO",
          "LEO",
          "LEO",
          "LEO",
          "LEO",
          "LEO",
          "LEO",
          "LEO",
          "LEO",
          "LEO",
          "LEO",
          "LEO",
          "LEO",
          "LEO",
          "LEO",
          "LEO",
          "LEO",
          "LEO",
          "LEO",
          "LEO",
          "LEO",
          "LEO",
          "LEO",
          "LEO",
          "LEO",
          "LEO",
          "LEO",
          "LEO",
          "LEO",
          "LEO",
          "LEO",
          "LEO",
          "LEO",
          "LEO",
          "LEO",
          "LEO",
          "LEO",
          "LEO",
          "LEO",
          "LEO",
          "LEO",
          "LEO",
          "LEO",
          "LEO",
          "LEO",
          "LEO",
          "LEO",
          "LEO",
          "LEO",
          "LEO",
          "LEO",
          "LEO",
          "LEO",
          "LEO",
          "LEO",
          "LEO",
          "LEO",
          "LEO",
          "LEO",
          "LEO",
          "LEO",
          "LEO",
          "LEO",
          "LEO",
          "LEO",
          "LEO",
          "LEO",
          "LEO",
          "LEO",
          "LEO",
          "LEO",
          "LEO",
          "LEO",
          "LEO",
          "LEO",
          "LEO",
          "LEO",
          "LEO",
          "LEO",
          "LEO",
          "LEO",
          "LEO",
          "LEO",
          "LEO",
          "LEO",
          "LEO",
          "LEO",
          "LEO",
          "LEO",
          "LEO",
          "LEO",
          "LEO",
          "LEO",
          "LEO",
          "LEO",
          "LEO",
          "LEO",
          "LEO",
          "LEO",
          "LEO",
          "LEO",
          "LEO",
          "LEO",
          "LEO",
          "LEO",
          "LEO",
          "LEO",
          "LEO",
          "LEO",
          "LEO",
          "LEO",
          "LEO",
          "LEO",
          "LEO",
          "LEO",
          "LEO",
          "LEO",
          "LEO",
          "LEO",
          "LEO",
          "LEO",
          "LEO",
          "LEO",
          "LEO",
          "LEO",
          "LEO",
          "LEO",
          "LEO",
          "LEO",
          "LEO",
          "LEO",
          "LEO",
          "LEO",
          "LEO",
          "LEO",
          "LEO",
          "LEO",
          "LEO",
          "LEO",
          "LEO",
          "LEO",
          "LEO",
          "LEO",
          "LEO",
          "LEO",
          "LEO",
          "LEO",
          "LEO",
          "LEO",
          "LEO",
          "LEO",
          "LEO",
          "LEO",
          "LEO",
          "LEO",
          "LEO",
          "LEO",
          "LEO",
          "LEO",
          "LEO",
          "LEO",
          "LEO",
          "LEO",
          "LEO",
          "LEO",
          "LEO",
          "LEO",
          "LEO",
          "LEO",
          "LEO",
          "LEO",
          "LEO",
          "LEO",
          "LEO",
          "LEO",
          "LEO",
          "LEO",
          "LEO",
          "LEO",
          "LEO",
          "LEO",
          "LEO",
          "LEO",
          "LEO",
          "LEO",
          "LEO",
          "LEO",
          "LEO",
          "LEO",
          "LEO",
          "LEO",
          "LEO",
          "LEO",
          "LEO",
          "LEO",
          "LEO",
          "LEO",
          "LEO",
          "LEO",
          "LEO",
          "LEO",
          "LEO",
          "LEO",
          "LEO",
          "LEO",
          "LEO",
          "LEO",
          "LEO",
          "LEO",
          "LEO",
          "LEO",
          "LEO",
          "LEO",
          "LEO",
          "LEO",
          "LEO",
          "LEO",
          "LEO",
          "LEO",
          "LEO",
          "LEO",
          "LEO",
          "LEO",
          "LEO",
          "LEO",
          "LEO",
          "LEO",
          "LEO",
          "LEO",
          "LEO",
          "LEO",
          "LEO",
          "LEO",
          "LEO",
          "LEO",
          "LEO",
          "LEO",
          "LEO",
          "LEO",
          "LEO",
          "LEO",
          "LEO",
          "LEO",
          "LEO",
          "LEO",
          "LEO",
          "LEO",
          "LEO",
          "LEO",
          "LEO",
          "LEO",
          "LEO",
          "LEO",
          "LEO",
          "LEO",
          "LEO",
          "LEO",
          "LEO",
          "LEO",
          "LEO",
          "LEO",
          "LEO",
          "LEO",
          "LEO",
          "LEO",
          "LEO",
          "LEO",
          "LEO",
          "LEO",
          "LEO",
          "LEO",
          "LEO",
          "LEO",
          "LEO",
          "LEO",
          "LEO",
          "LEO",
          "LEO",
          "LEO",
          "LEO",
          "LEO",
          "LEO",
          "LEO",
          "LEO",
          "LEO",
          "LEO",
          "LEO",
          "LEO",
          "LEO",
          "LEO",
          "LEO",
          "LEO",
          "LEO",
          "LEO",
          "LEO",
          "LEO",
          "LEO",
          "LEO",
          "LEO",
          "LEO",
          "LEO",
          "LEO",
          "LEO",
          "LEO",
          "LEO",
          "LEO",
          "LEO",
          "LEO",
          "LEO",
          "LEO",
          "LEO",
          "LEO",
          "LEO",
          "LEO",
          "LEO",
          "LEO",
          "LEO",
          "LEO",
          "LEO",
          "LEO",
          "LEO",
          "LEO",
          "LEO",
          "LEO",
          "LEO",
          "LEO",
          "LEO",
          "LEO",
          "LEO",
          "LEO",
          "LEO",
          "LEO",
          "LEO",
          "LEO",
          "LEO",
          "LEO",
          "LEO",
          "LEO",
          "LEO",
          "LEO",
          "LEO",
          "LEO",
          "LEO",
          "LEO",
          "LEO",
          "LEO",
          "LEO",
          "LEO",
          "LEO",
          "LEO",
          "LEO",
          "LEO",
          "LEO",
          "LEO",
          "LEO",
          "LEO",
          "LEO",
          "LEO",
          "LEO",
          "LEO",
          "LEO",
          "LEO",
          "LEO",
          "LEO",
          "LEO",
          "LEO",
          "LEO",
          "LEO",
          "LEO",
          "LEO",
          "LEO",
          "LEO",
          "LEO",
          "LEO",
          "LEO",
          "LEO",
          "LEO",
          "LEO",
          "LEO",
          "LEO",
          "LEO",
          "LEO",
          "LEO",
          "LEO",
          "LEO",
          "LEO",
          "LEO",
          "LEO",
          "LEO",
          "LEO",
          "LEO",
          "LEO",
          "LEO",
          "LEO",
          "LEO",
          "LEO",
          "LEO",
          "LEO",
          "LEO",
          "LEO",
          "LEO",
          "LEO",
          "LEO",
          "LEO",
          "LEO",
          "LEO",
          "LEO",
          "LEO",
          "LEO",
          "LEO",
          "LEO",
          "LEO",
          "LEO",
          "LEO",
          "LEO",
          "LEO",
          "LEO",
          "LEO",
          "LEO",
          "LEO",
          "LEO",
          "LEO",
          "LEO",
          "LEO",
          "LEO",
          "LEO",
          "LEO",
          "LEO",
          "LEO",
          "LEO",
          "LEO",
          "LEO",
          "LEO",
          "LEO",
          "LEO",
          "LEO",
          "LEO",
          "LEO",
          "LEO",
          "LEO",
          "LEO",
          "LEO",
          "LEO",
          "LEO",
          "LEO",
          "LEO",
          "LEO",
          "LEO",
          "LEO",
          "LEO",
          "LEO",
          "LEO",
          "LEO",
          "LEO",
          "LEO",
          "LEO",
          "LEO",
          "LEO",
          "LEO",
          "LEO",
          "LEO",
          "LEO",
          "LEO",
          "LEO",
          "LEO",
          "LEO",
          "LEO",
          "LEO",
          "LEO",
          "LEO",
          "LEO",
          "LEO",
          "LEO",
          "LEO",
          "LEO",
          "LEO",
          "LEO",
          "LEO",
          "LEO",
          "LEO",
          "LEO",
          "LEO",
          "LEO",
          "LEO",
          "LEO",
          "LEO",
          "LEO",
          "LEO",
          "LEO",
          "LEO",
          "LEO",
          "LEO",
          "LEO",
          "LEO",
          "LEO",
          "LEO",
          "LEO",
          "LEO",
          "LEO",
          "LEO",
          "LEO",
          "LEO",
          "LEO",
          "LEO",
          "LEO",
          "LEO",
          "LEO",
          "LEO",
          "LEO",
          "LEO",
          "LEO",
          "LEO",
          "LEO",
          "LEO",
          "LEO",
          "LEO",
          "LEO",
          "LEO",
          "LEO",
          "LEO",
          "LEO",
          "LEO",
          "LEO",
          "LEO",
          "LEO",
          "LEO",
          "LEO",
          "LEO",
          "LEO",
          "LEO",
          "LEO",
          "LEO",
          "LEO",
          "LEO",
          "LEO",
          "LEO",
          "LEO",
          "LEO",
          "LEO",
          "LEO",
          "LEO",
          "LEO",
          "LEO",
          "LEO",
          "LEO",
          "LEO",
          "LEO",
          "LEO",
          "LEO",
          "LEO",
          "LEO",
          "LEO",
          "LEO",
          "LEO",
          "LEO",
          "LEO",
          "LEO",
          "LEO",
          "LEO",
          "LEO",
          "LEO",
          "LEO",
          "LEO",
          "LEO",
          "LEO",
          "LEO",
          "LEO",
          "LEO",
          "LEO",
          "LEO",
          "LEO",
          "LEO",
          "LEO",
          "LEO",
          "LEO",
          "LEO",
          "LEO",
          "LEO",
          "LEO",
          "LEO",
          "LEO",
          "LEO",
          "LEO",
          "LEO",
          "LEO",
          "LEO",
          "LEO",
          "LEO",
          "LEO",
          "LEO",
          "LEO",
          "LEO",
          "LEO",
          "LEO",
          "LEO",
          "LEO",
          "LEO",
          "LEO",
          "LEO",
          "LEO",
          "LEO",
          "LEO",
          "LEO",
          "LEO",
          "LEO",
          "LEO",
          "LEO",
          "LEO",
          "LEO",
          "LEO",
          "LEO",
          "LEO",
          "LEO",
          "LEO",
          "LEO",
          "LEO",
          "LEO",
          "LEO",
          "LEO",
          "LEO",
          "LEO",
          "LEO",
          "LEO",
          "LEO",
          "LEO",
          "LEO",
          "LEO",
          "LEO",
          "LEO",
          "LEO",
          "LEO",
          "LEO",
          "LEO",
          "LEO",
          "LEO",
          "LEO",
          "LEO",
          "LEO",
          "LEO",
          "LEO",
          "LEO",
          "LEO",
          "LEO",
          "LEO",
          "LEO",
          "LEO",
          "LEO",
          "LEO",
          "LEO",
          "LEO",
          "LEO",
          "LEO",
          "LEO",
          "LEO",
          "LEO",
          "LEO",
          "LEO",
          "LEO",
          "LEO",
          "LEO",
          "LEO",
          "LEO",
          "LEO",
          "LEO",
          "LEO",
          "LEO",
          "LEO",
          "LEO",
          "LEO",
          "LEO",
          "LEO",
          "LEO",
          "LEO",
          "LEO",
          "LEO",
          "LEO",
          "LEO",
          "LEO",
          "LEO",
          "LEO",
          "LEO",
          "LEO",
          "LEO",
          "LEO",
          "LEO",
          "LEO",
          "LEO",
          "LEO",
          "LEO",
          "LEO",
          "LEO",
          "LEO",
          "LEO",
          "LEO",
          "LEO",
          "LEO",
          "LEO",
          "LEO",
          "LEO",
          "LEO",
          "LEO",
          "LEO",
          "LEO",
          "LEO",
          "LEO",
          "LEO",
          "LEO",
          "LEO",
          "LEO",
          "LEO",
          "LEO",
          "LEO",
          "LEO",
          "LEO",
          "LEO",
          "LEO",
          "LEO",
          "LEO",
          "LEO",
          "LEO",
          "LEO",
          "LEO",
          "LEO",
          "LEO",
          "LEO",
          "LEO",
          "LEO",
          "LEO",
          "LEO",
          "LEO",
          "LEO",
          "LEO",
          "LEO",
          "LEO",
          "LEO",
          "LEO",
          "LEO",
          "LEO",
          "LEO",
          "LEO",
          "LEO",
          "LEO",
          "LEO",
          "LEO",
          "LEO",
          "LEO",
          "LEO",
          "LEO",
          "LEO",
          "LEO",
          "LEO",
          "LEO",
          "LEO",
          "LEO",
          "LEO",
          "LEO",
          "LEO",
          "LEO",
          "LEO",
          "LEO",
          "LEO",
          "LEO",
          "LEO",
          "LEO",
          "LEO",
          "LEO",
          "LEO",
          "LEO",
          "LEO",
          "LEO",
          "LEO",
          "LEO",
          "LEO",
          "LEO",
          "LEO",
          "LEO",
          "LEO",
          "LEO",
          "LEO",
          "LEO",
          "LEO",
          "LEO",
          "LEO",
          "LEO",
          "LEO",
          "LEO",
          "LEO",
          "LEO",
          "LEO",
          "LEO",
          "LEO",
          "LEO",
          "LEO",
          "LEO",
          "LEO",
          "LEO",
          "LEO",
          "LEO",
          "LEO",
          "LEO",
          "LEO",
          "LEO",
          "LEO",
          "LEO",
          "LEO",
          "LEO",
          "LEO",
          "LEO",
          "LEO",
          "LEO",
          "LEO",
          "LEO",
          "LEO",
          "LEO",
          "LEO",
          "LEO",
          "LEO",
          "LEO",
          "LEO",
          "LEO",
          "LEO",
          "LEO",
          "LEO",
          "LEO",
          "LEO",
          "LEO",
          "LEO",
          "LEO",
          "LEO",
          "LEO",
          "LEO",
          "LEO",
          "LEO",
          "LEO",
          "LEO",
          "LEO",
          "LEO",
          "LEO",
          "LEO",
          "LEO",
          "LEO",
          "LEO",
          "LEO",
          "LEO",
          "LEO",
          "LEO",
          "LEO",
          "LEO",
          "LEO",
          "LEO",
          "LEO",
          "LEO",
          "LEO",
          "LEO",
          "LEO",
          "LEO",
          "LEO",
          "LEO",
          "LEO",
          "LEO",
          "LEO",
          "LEO",
          "LEO",
          "LEO",
          "LEO",
          "LEO",
          "LEO",
          "LEO",
          "LEO",
          "LEO",
          "LEO",
          "LEO",
          "LEO",
          "LEO",
          "LEO",
          "LEO",
          "LEO",
          "LEO",
          "LEO",
          "LEO",
          "LEO",
          "LEO",
          "LEO",
          "LEO",
          "LEO",
          "LEO",
          "LEO",
          "LEO",
          "LEO",
          "LEO",
          "LEO",
          "LEO",
          "LEO",
          "LEO",
          "LEO",
          "LEO",
          "LEO",
          "LEO",
          "LEO",
          "LEO",
          "LEO",
          "LEO",
          "LEO",
          "LEO",
          "LEO",
          "LEO",
          "LEO",
          "LEO",
          "LEO",
          "LEO",
          "LEO",
          "LEO",
          "LEO",
          "LEO",
          "LEO",
          "LEO",
          "LEO",
          "LEO",
          "LEO",
          "LEO",
          "LEO",
          "LEO",
          "LEO",
          "LEO",
          "LEO",
          "LEO",
          "LEO",
          "LEO",
          "LEO",
          "LEO",
          "LEO",
          "LEO",
          "LEO",
          "LEO",
          "LEO",
          "LEO",
          "LEO",
          "LEO",
          "LEO",
          "LEO",
          "LEO",
          "LEO",
          "LEO",
          "LEO",
          "LEO",
          "LEO",
          "LEO",
          "LEO",
          "LEO",
          "LEO",
          "LEO",
          "LEO",
          "LEO",
          "LEO",
          "LEO",
          "LEO",
          "LEO",
          "LEO",
          "LEO",
          "LEO",
          "LEO",
          "LEO",
          "LEO",
          "LEO",
          "LEO",
          "LEO",
          "LEO",
          "LEO",
          "LEO",
          "LEO",
          "LEO",
          "LEO",
          "LEO",
          "LEO",
          "LEO",
          "LEO",
          "LEO",
          "LEO",
          "LEO",
          "LEO",
          "LEO",
          "LEO",
          "LEO",
          "LEO",
          "LEO",
          "LEO",
          "LEO",
          "LEO",
          "LEO",
          "LEO",
          "LEO",
          "LEO",
          "LEO",
          "LEO",
          "LEO",
          "LEO",
          "LEO",
          "LEO",
          "LEO",
          "LEO",
          "LEO",
          "LEO",
          "LEO",
          "LEO",
          "LEO",
          "LEO",
          "LEO",
          "LEO",
          "LEO",
          "LEO",
          "LEO",
          "LEO",
          "LEO",
          "LEO",
          "LEO",
          "LEO",
          "LEO",
          "LEO",
          "LEO",
          "LEO",
          "LEO",
          "LEO",
          "LEO",
          "LEO",
          "LEO",
          "LEO",
          "LEO",
          "LEO",
          "LEO",
          "LEO",
          "LEO",
          "LEO",
          "LEO",
          "LEO",
          "LEO",
          "LEO",
          "LEO",
          "LEO",
          "LEO",
          "LEO",
          "LEO",
          "LEO",
          "LEO",
          "LEO",
          "LEO",
          "LEO",
          "LEO",
          "LEO",
          "LEO",
          "LEO",
          "LEO",
          "LEO",
          "LEO",
          "LEO",
          "LEO",
          "LEO",
          "LEO",
          "LEO",
          "LEO",
          "LEO",
          "LEO",
          "LEO",
          "LEO",
          "LEO",
          "LEO",
          "LEO",
          "LEO",
          "LEO",
          "LEO",
          "LEO",
          "LEO",
          "LEO",
          "LEO",
          "LEO",
          "LEO",
          "LEO",
          "LEO",
          "LEO",
          "LEO",
          "LEO",
          "LEO",
          "LEO",
          "LEO",
          "LEO",
          "LEO",
          "LEO",
          "LEO",
          "LEO",
          "LEO",
          "LEO",
          "LEO",
          "LEO",
          "LEO",
          "LEO",
          "LEO",
          "LEO",
          "LEO",
          "LEO",
          "LEO",
          "LEO",
          "LEO",
          "LEO",
          "LEO",
          "LEO",
          "LEO",
          "LEO",
          "LEO",
          "LEO",
          "LEO",
          "LEO",
          "LEO",
          "LEO",
          "LEO",
          "LEO",
          "LEO",
          "LEO",
          "LEO",
          "LEO",
          "LEO",
          "LEO",
          "LEO",
          "LEO",
          "LEO",
          "LEO",
          "LEO",
          "LEO",
          "LEO",
          "LEO",
          "LEO",
          "LEO",
          "LEO",
          "LEO",
          "LEO",
          "LEO",
          "LEO",
          "LEO",
          "LEO",
          "LEO",
          "LEO",
          "LEO",
          "LEO",
          "LEO",
          "LEO",
          "LEO",
          "LEO",
          "LEO",
          "LEO",
          "LEO",
          "LEO",
          "LEO",
          "LEO",
          "LEO",
          "LEO",
          "LEO",
          "LEO",
          "LEO",
          "LEO",
          "LEO",
          "LEO",
          "LEO",
          "LEO",
          "LEO",
          "LEO",
          "LEO",
          "LEO",
          "LEO",
          "LEO",
          "LEO",
          "LEO",
          "LEO",
          "LEO",
          "LEO",
          "LEO",
          "LEO",
          "LEO",
          "LEO",
          "LEO",
          "LEO",
          "LEO",
          "LEO",
          "LEO",
          "LEO",
          "LEO",
          "LEO",
          "LEO",
          "LEO",
          "LEO",
          "LEO",
          "LEO",
          "LEO",
          "LEO",
          "LEO",
          "LEO",
          "LEO",
          "LEO",
          "LEO",
          "LEO",
          "LEO",
          "LEO",
          "LEO",
          "LEO",
          "LEO",
          "LEO",
          "LEO",
          "LEO",
          "LEO",
          "LEO",
          "LEO",
          "LEO",
          "LEO",
          "LEO",
          "LEO",
          "LEO",
          "LEO",
          "LEO",
          "LEO",
          "LEO",
          "LEO",
          "LEO",
          "LEO",
          "LEO",
          "LEO",
          "LEO",
          "LEO",
          "LEO",
          "LEO",
          "LEO",
          "LEO",
          "LEO",
          "LEO",
          "LEO",
          "LEO",
          "LEO",
          "LEO",
          "LEO",
          "LEO",
          "LEO",
          "LEO",
          "LEO",
          "LEO",
          "LEO",
          "LEO",
          "LEO",
          "LEO",
          "LEO",
          "LEO",
          "LEO",
          "LEO",
          "LEO",
          "LEO",
          "LEO",
          "LEO",
          "LEO",
          "LEO",
          "LEO",
          "LEO",
          "LEO",
          "LEO",
          "LEO",
          "LEO",
          "LEO",
          "LEO",
          "LEO",
          "LEO",
          "LEO",
          "LEO",
          "LEO",
          "LEO",
          "LEO",
          "LEO",
          "LEO",
          "LEO",
          "LEO",
          "LEO",
          "LEO",
          "LEO",
          "LEO",
          "LEO",
          "LEO",
          "LEO",
          "LEO",
          "LEO",
          "LEO",
          "LEO",
          "LEO",
          "LEO",
          "LEO",
          "LEO",
          "LEO",
          "LEO",
          "LEO",
          "LEO",
          "LEO",
          "LEO",
          "LEO",
          "LEO",
          "LEO",
          "LEO",
          "LEO",
          "LEO",
          "LEO",
          "LEO",
          "LEO",
          "LEO",
          "LEO",
          "LEO",
          "LEO",
          "LEO",
          "LEO",
          "LEO",
          "LEO",
          "LEO",
          "LEO",
          "LEO",
          "LEO",
          "LEO",
          "LEO",
          "LEO",
          "LEO",
          "LEO",
          "LEO",
          "LEO",
          "LEO",
          "LEO",
          "LEO",
          "LEO",
          "LEO",
          "LEO",
          "LEO",
          "LEO",
          "LEO",
          "LEO",
          "LEO",
          "LEO",
          "LEO",
          "LEO",
          "LEO",
          "LEO",
          "LEO",
          "LEO",
          "LEO",
          "LEO",
          "LEO",
          "LEO",
          "LEO",
          "LEO",
          "LEO",
          "LEO",
          "LEO",
          "LEO",
          "LEO",
          "LEO",
          "LEO",
          "LEO",
          "LEO",
          "LEO",
          "LEO",
          "LEO",
          "LEO",
          "LEO",
          "LEO",
          "LEO",
          "LEO",
          "LEO",
          "LEO",
          "LEO",
          "LEO",
          "LEO",
          "LEO",
          "LEO",
          "LEO",
          "LEO",
          "LEO",
          "LEO",
          "LEO",
          "LEO",
          "LEO",
          "LEO",
          "LEO",
          "LEO",
          "LEO",
          "LEO",
          "LEO",
          "LEO",
          "LEO",
          "LEO",
          "LEO",
          "LEO",
          "LEO",
          "LEO",
          "LEO",
          "LEO",
          "LEO",
          "LEO",
          "LEO",
          "LEO",
          "LEO",
          "LEO",
          "LEO",
          "LEO",
          "LEO",
          "LEO",
          "LEO",
          "LEO",
          "LEO",
          "LEO",
          "LEO",
          "LEO",
          "LEO",
          "LEO",
          "LEO",
          "LEO",
          "LEO",
          "LEO",
          "LEO",
          "LEO",
          "LEO",
          "LEO",
          "LEO",
          "LEO",
          "LEO",
          "LEO",
          "LEO",
          "LEO",
          "LEO",
          "LEO",
          "LEO",
          "LEO",
          "LEO",
          "LEO",
          "LEO",
          "LEO",
          "LEO",
          "LEO",
          "LEO",
          "LEO",
          "LEO",
          "LEO",
          "LEO",
          "LEO",
          "LEO",
          "LEO",
          "LEO",
          "LEO",
          "LEO",
          "LEO",
          "LEO",
          "LEO",
          "LEO",
          "LEO",
          "LEO",
          "LEO",
          "LEO",
          "LEO",
          "LEO",
          "LEO",
          "LEO",
          "LEO",
          "LEO",
          "LEO",
          "LEO",
          "LEO",
          "LEO",
          "LEO",
          "LEO",
          "LEO",
          "LEO",
          "LEO",
          "LEO",
          "LEO",
          "LEO",
          "LEO",
          "LEO",
          "LEO",
          "LEO",
          "LEO",
          "LEO",
          "LEO",
          "LEO",
          "LEO",
          "LEO",
          "LEO",
          "LEO",
          "LEO",
          "LEO",
          "LEO",
          "LEO",
          "LEO",
          "LEO",
          "LEO",
          "LEO",
          "LEO",
          "LEO",
          "LEO",
          "LEO",
          "LEO",
          "LEO",
          "LEO",
          "LEO",
          "LEO",
          "LEO",
          "LEO",
          "LEO",
          "LEO",
          "LEO",
          "LEO",
          "LEO",
          "LEO",
          "LEO",
          "LEO",
          "LEO",
          "LEO",
          "LEO",
          "LEO",
          "LEO",
          "LEO",
          "LEO",
          "LEO",
          "LEO",
          "LEO",
          "LEO",
          "LEO",
          "LEO",
          "LEO",
          "LEO",
          "LEO",
          "LEO",
          "LEO",
          "LEO",
          "LEO",
          "LEO",
          "LEO",
          "LEO",
          "LEO",
          "LEO",
          "LEO",
          "LEO",
          "LEO",
          "LEO",
          "LEO",
          "LEO",
          "LEO",
          "LEO",
          "LEO",
          "LEO",
          "LEO",
          "LEO",
          "LEO",
          "LEO",
          "LEO",
          "LEO",
          "LEO",
          "LEO",
          "LEO",
          "LEO",
          "LEO",
          "LEO",
          "LEO",
          "LEO",
          "LEO",
          "LEO",
          "LEO",
          "LEO",
          "LEO",
          "LEO",
          "LEO",
          "LEO",
          "LEO",
          "LEO",
          "LEO",
          "LEO",
          "LEO",
          "LEO",
          "LEO",
          "LEO",
          "LEO",
          "LEO",
          "LEO",
          "LEO",
          "LEO",
          "LEO",
          "LEO",
          "LEO",
          "LEO",
          "LEO",
          "LEO",
          "LEO",
          "LEO",
          "LEO",
          "LEO",
          "LEO",
          "LEO",
          "LEO",
          "LEO",
          "LEO",
          "LEO",
          "LEO",
          "LEO",
          "LEO",
          "LEO",
          "LEO",
          "LEO",
          "LEO",
          "LEO",
          "LEO",
          "LEO",
          "LEO",
          "LEO",
          "LEO",
          "LEO",
          "LEO",
          "LEO",
          "LEO",
          "LEO",
          "LEO",
          "LEO",
          "LEO",
          "LEO",
          "LEO",
          "LEO",
          "LEO",
          "LEO",
          "LEO",
          "LEO",
          "LEO",
          "LEO",
          "LEO",
          "LEO",
          "LEO",
          "LEO",
          "LEO",
          "LEO",
          "LEO",
          "LEO",
          "LEO",
          "LEO",
          "LEO",
          "LEO",
          "LEO",
          "LEO",
          "LEO",
          "LEO",
          "LEO",
          "LEO",
          "LEO",
          "LEO",
          "LEO",
          "LEO",
          "LEO",
          "LEO",
          "LEO",
          "LEO",
          "LEO",
          "LEO",
          "LEO",
          "LEO",
          "LEO",
          "LEO",
          "LEO",
          "LEO",
          "LEO",
          "LEO",
          "LEO",
          "LEO",
          "LEO",
          "LEO",
          "LEO",
          "LEO",
          "LEO",
          "LEO",
          "LEO",
          "LEO",
          "LEO",
          "LEO",
          "LEO",
          "LEO",
          "LEO",
          "LEO",
          "LEO",
          "LEO",
          "LEO",
          "LEO",
          "LEO",
          "LEO",
          "LEO",
          "LEO",
          "LEO",
          "LEO",
          "LEO",
          "LEO",
          "LEO",
          "LEO",
          "LEO",
          "LEO",
          "LEO",
          "LEO",
          "LEO",
          "LEO",
          "LEO",
          "LEO",
          "LEO",
          "LEO",
          "LEO",
          "LEO",
          "LEO",
          "LEO",
          "LEO",
          "LEO",
          "LEO",
          "LEO",
          "LEO",
          "LEO",
          "LEO",
          "LEO",
          "LEO",
          "LEO",
          "LEO",
          "LEO",
          "LEO",
          "LEO",
          "LEO",
          "LEO",
          "LEO",
          "LEO",
          "LEO",
          "LEO",
          "LEO",
          "LEO",
          "LEO",
          "LEO",
          "LEO",
          "LEO",
          "LEO",
          "LEO",
          "LEO",
          "LEO",
          "LEO",
          "LEO",
          "LEO",
          "LEO",
          "LEO",
          "LEO",
          "LEO",
          "LEO",
          "LEO",
          "LEO",
          "LEO",
          "LEO",
          "LEO",
          "LEO",
          "LEO",
          "LEO",
          "LEO",
          "LEO",
          "LEO",
          "LEO",
          "LEO",
          "LEO",
          "LEO",
          "LEO",
          "LEO",
          "LEO",
          "LEO",
          "LEO",
          "LEO",
          "LEO",
          "LEO",
          "LEO",
          "LEO",
          "LEO",
          "LEO",
          "LEO",
          "LEO",
          "LEO",
          "LEO",
          "LEO",
          "LEO",
          "LEO",
          "LEO",
          "LEO",
          "LEO",
          "LEO",
          "LEO",
          "LEO",
          "LEO",
          "LEO",
          "LEO",
          "LEO",
          "LEO",
          "LEO",
          "LEO",
          "LEO",
          "LEO",
          "LEO",
          "LEO",
          "LEO",
          "LEO",
          "LEO",
          "LEO",
          "LEO",
          "LEO",
          "LEO",
          "LEO",
          "LEO",
          "LEO",
          "LEO",
          "LEO",
          "LEO",
          "LEO",
          "LEO",
          "LEO",
          "LEO",
          "LEO",
          "LEO",
          "LEO",
          "LEO",
          "LEO",
          "LEO",
          "LEO",
          "LEO",
          "LEO",
          "LEO",
          "LEO",
          "LEO",
          "LEO",
          "LEO",
          "LEO",
          "LEO",
          "LEO",
          "LEO",
          "LEO",
          "LEO",
          "LEO",
          "LEO",
          "LEO",
          "LEO",
          "LEO",
          "LEO",
          "LEO",
          "LEO",
          "LEO",
          "LEO",
          "LEO",
          "LEO",
          "LEO",
          "LEO",
          "LEO",
          "LEO",
          "LEO",
          "LEO",
          "LEO",
          "LEO",
          "LEO",
          "LEO",
          "LEO",
          "LEO",
          "LEO",
          "LEO",
          "LEO",
          "LEO",
          "LEO",
          "LEO",
          "LEO",
          "LEO",
          "LEO",
          "LEO",
          "LEO",
          "LEO",
          "LEO",
          "LEO",
          "LEO",
          "LEO",
          "LEO",
          "LEO",
          "LEO",
          "LEO",
          "LEO",
          "LEO",
          "LEO",
          "LEO",
          "LEO",
          "LEO",
          "LEO",
          "LEO",
          "LEO",
          "LEO",
          "LEO",
          "LEO",
          "LEO",
          "LEO",
          "LEO",
          "LEO",
          "LEO",
          "LEO",
          "LEO",
          "LEO",
          "LEO",
          "LEO",
          "LEO",
          "LEO",
          "LEO",
          "LEO",
          "LEO",
          "LEO",
          "LEO",
          "LEO",
          "LEO",
          "LEO",
          "LEO",
          "LEO",
          "LEO",
          "LEO",
          "LEO",
          "LEO",
          "LEO",
          "LEO",
          "LEO",
          "LEO",
          "LEO",
          "LEO",
          "LEO",
          "LEO",
          "LEO",
          "LEO",
          "LEO",
          "LEO",
          "LEO",
          "LEO",
          "LEO",
          "LEO",
          "LEO",
          "LEO",
          "LEO",
          "LEO",
          "LEO",
          "LEO",
          "LEO",
          "LEO",
          "LEO",
          "LEO",
          "LEO",
          "LEO",
          "LEO",
          "LEO",
          "LEO",
          "LEO",
          "LEO",
          "LEO",
          "LEO",
          "LEO",
          "LEO",
          "LEO",
          "LEO",
          "LEO",
          "LEO",
          "LEO",
          "LEO",
          "LEO",
          "LEO",
          "LEO",
          "LEO",
          "LEO",
          "LEO",
          "LEO",
          "LEO",
          "LEO",
          "LEO",
          "LEO",
          "LEO",
          "LEO",
          "LEO",
          "LEO",
          "LEO",
          "LEO",
          "LEO",
          "LEO",
          "LEO",
          "LEO",
          "LEO",
          "LEO",
          "LEO",
          "LEO",
          "LEO",
          "LEO",
          "LEO",
          "LEO",
          "LEO",
          "LEO",
          "LEO",
          "LEO",
          "LEO",
          "LEO",
          "LEO",
          "LEO",
          "LEO",
          "LEO",
          "LEO",
          "LEO",
          "LEO",
          "LEO",
          "LEO",
          "LEO",
          "LEO",
          "LEO",
          "LEO",
          "LEO",
          "LEO",
          "LEO",
          "LEO",
          "LEO",
          "LEO",
          "LEO",
          "LEO",
          "LEO",
          "LEO",
          "LEO",
          "LEO",
          "LEO",
          "LEO",
          "LEO",
          "LEO",
          "LEO",
          "LEO",
          "LEO",
          "LEO",
          "LEO",
          "LEO",
          "LEO",
          "LEO",
          "LEO",
          "LEO",
          "LEO",
          "LEO",
          "LEO",
          "LEO",
          "LEO",
          "LEO",
          "LEO",
          "LEO",
          "LEO",
          "LEO",
          "LEO",
          "LEO",
          "LEO",
          "LEO",
          "LEO",
          "LEO",
          "LEO",
          "LEO",
          "LEO",
          "LEO",
          "LEO",
          "LEO",
          "LEO",
          "LEO",
          "LEO",
          "LEO",
          "LEO",
          "LEO",
          "LEO",
          "LEO",
          "LEO",
          "LEO",
          "LEO",
          "LEO",
          "LEO",
          "LEO",
          "LEO",
          "LEO",
          "LEO",
          "LEO",
          "LEO",
          "LEO",
          "LEO",
          "LEO",
          "LEO",
          "LEO",
          "LEO",
          "LEO",
          "LEO",
          "LEO",
          "LEO",
          "LEO",
          "LEO",
          "LEO",
          "LEO",
          "LEO",
          "LEO",
          "LEO",
          "LEO",
          "LEO",
          "LEO",
          "LEO",
          "LEO",
          "LEO",
          "LEO",
          "LEO",
          "LEO",
          "LEO",
          "LEO",
          "LEO",
          "LEO",
          "LEO",
          "LEO",
          "LEO",
          "LEO",
          "LEO",
          "LEO",
          "LEO",
          "LEO",
          "LEO",
          "LEO",
          "LEO",
          "LEO",
          "LEO",
          "LEO",
          "LEO",
          "LEO",
          "LEO",
          "LEO",
          "LEO",
          "LEO",
          "LEO",
          "LEO",
          "LEO",
          "LEO",
          "LEO",
          "LEO",
          "LEO",
          "LEO",
          "LEO",
          "LEO",
          "LEO",
          "LEO",
          "LEO",
          "LEO",
          "LEO",
          "LEO",
          "LEO",
          "LEO",
          "LEO",
          "LEO",
          "LEO",
          "LEO",
          "LEO",
          "LEO",
          "LEO",
          "LEO",
          "LEO",
          "LEO",
          "LEO",
          "LEO",
          "LEO",
          "LEO",
          "LEO",
          "LEO",
          "LEO",
          "LEO",
          "LEO",
          "LEO",
          "LEO",
          "LEO",
          "LEO",
          "LEO",
          "LEO",
          "LEO",
          "LEO",
          "LEO",
          "LEO",
          "LEO",
          "LEO",
          "LEO",
          "LEO",
          "LEO",
          "LEO",
          "LEO",
          "LEO",
          "LEO",
          "LEO",
          "LEO",
          "LEO",
          "LEO",
          "LEO",
          "LEO",
          "LEO",
          "LEO",
          "LEO",
          "LEO",
          "LEO",
          "LEO",
          "LEO",
          "LEO",
          "LEO",
          "LEO",
          "LEO",
          "LEO",
          "LEO",
          "LEO",
          "LEO",
          "LEO",
          "LEO",
          "LEO",
          "LEO",
          "LEO",
          "LEO",
          "LEO",
          "LEO",
          "LEO",
          "LEO",
          "LEO",
          "LEO",
          "LEO",
          "LEO",
          "LEO",
          "LEO",
          "LEO",
          "LEO",
          "LEO",
          "LEO",
          "LEO",
          "LEO",
          "LEO",
          "LEO",
          "LEO",
          "LEO",
          "LEO",
          "LEO",
          "LEO",
          "LEO",
          "LEO",
          "LEO",
          "LEO",
          "LEO",
          "LEO",
          "LEO",
          "LEO",
          "LEO",
          "LEO",
          "LEO",
          "LEO",
          "LEO",
          "LEO",
          "LEO",
          "LEO",
          "LEO",
          "LEO",
          "LEO",
          "LEO",
          "LEO",
          "LEO",
          "LEO",
          "LEO",
          "LEO",
          "LEO",
          "LEO",
          "LEO",
          "LEO",
          "LEO",
          "LEO",
          "LEO",
          "LEO",
          "LEO",
          "LEO",
          "LEO",
          "LEO",
          "LEO",
          "LEO",
          "LEO",
          "LEO",
          "LEO",
          "LEO",
          "LEO",
          "LEO",
          "LEO",
          "LEO",
          "LEO",
          "LEO",
          "LEO",
          "LEO",
          "LEO",
          "LEO",
          "LEO",
          "LEO",
          "LEO",
          "LEO",
          "LEO",
          "LEO",
          "LEO",
          "LEO",
          "LEO",
          "LEO",
          "LEO",
          "LEO",
          "LEO",
          "LEO",
          "LEO",
          "LEO",
          "LEO",
          "LEO",
          "LEO",
          "LEO",
          "LEO",
          "LEO",
          "LEO",
          "LEO",
          "LEO",
          "LEO",
          "LEO",
          "LEO",
          "LEO",
          "LEO",
          "LEO",
          "LEO",
          "LEO",
          "LEO",
          "LEO",
          "LEO",
          "LEO",
          "LEO",
          "LEO",
          "LEO",
          "LEO",
          "LEO",
          "LEO",
          "LEO",
          "LEO",
          "LEO",
          "LEO",
          "LEO",
          "LEO",
          "LEO",
          "LEO",
          "LEO",
          "LEO",
          "LEO",
          "LEO",
          "LEO",
          "LEO",
          "LEO",
          "LEO",
          "LEO",
          "LEO",
          "LEO",
          "LEO",
          "LEO",
          "LEO",
          "LEO",
          "LEO",
          "LEO",
          "LEO",
          "LEO",
          "LEO",
          "LEO",
          "LEO",
          "LEO",
          "LEO",
          "LEO",
          "LEO",
          "LEO",
          "LEO",
          "LEO",
          "LEO",
          "LEO",
          "LEO",
          "LEO",
          "LEO",
          "LEO",
          "LEO",
          "LEO",
          "LEO",
          "LEO",
          "LEO",
          "LEO",
          "LEO",
          "LEO",
          "LEO",
          "LEO",
          "LEO",
          "LEO",
          "LEO",
          "LEO",
          "LEO",
          "LEO",
          "LEO",
          "LEO",
          "LEO",
          "LEO",
          "LEO",
          "LEO",
          "LEO",
          "LEO",
          "LEO",
          "LEO",
          "LEO",
          "LEO",
          "LEO",
          "LEO",
          "LEO",
          "LEO",
          "LEO",
          "LEO",
          "LEO",
          "LEO",
          "LEO",
          "LEO",
          "LEO",
          "LEO",
          "LEO",
          "LEO",
          "LEO",
          "LEO",
          "LEO",
          "LEO",
          "LEO",
          "LEO",
          "LEO",
          "LEO",
          "LEO",
          "LEO",
          "LEO",
          "LEO",
          "LEO",
          "LEO",
          "LEO",
          "LEO",
          "LEO",
          "LEO",
          "LEO",
          "LEO",
          "LEO",
          "LEO",
          "LEO",
          "LEO",
          "LEO",
          "LEO",
          "LEO",
          "LEO",
          "LEO",
          "LEO",
          "LEO",
          "LEO",
          "LEO",
          "LEO",
          "LEO",
          "LEO",
          "LEO",
          "LEO",
          "LEO",
          "LEO",
          "LEO",
          "LEO",
          "LEO",
          "LEO",
          "LEO",
          "LEO",
          "LEO",
          "LEO",
          "LEO",
          "LEO",
          "LEO",
          "LEO",
          "LEO",
          "LEO",
          "LEO",
          "LEO",
          "LEO",
          "LEO",
          "LEO",
          "LEO",
          "LEO",
          "LEO",
          "LEO",
          "LEO",
          "LEO",
          "LEO",
          "LEO",
          "LEO",
          "LEO",
          "LEO",
          "LEO",
          "LEO",
          "LEO",
          "LEO",
          "LEO",
          "LEO",
          "LEO",
          "LEO",
          "LEO",
          "LEO",
          "LEO",
          "LEO",
          "LEO",
          "LEO",
          "LEO",
          "LEO",
          "LEO",
          "LEO",
          "LEO",
          "LEO",
          "LEO",
          "LEO",
          "LEO",
          "LEO",
          "LEO",
          "LEO",
          "LEO",
          "LEO",
          "LEO",
          "LEO",
          "LEO",
          "LEO",
          "LEO",
          "LEO",
          "LEO",
          "LEO",
          "LEO",
          "LEO",
          "LEO",
          "LEO",
          "LEO",
          "LEO",
          "LEO",
          "LEO",
          "LEO",
          "LEO",
          "LEO",
          "LEO",
          "LEO",
          "LEO",
          "LEO",
          "LEO",
          "LEO",
          "LEO",
          "LEO",
          "LEO",
          "LEO",
          "LEO",
          "LEO",
          "LEO",
          "LEO",
          "LEO",
          "LEO",
          "LEO",
          "LEO",
          "LEO",
          "LEO",
          "LEO",
          "LEO",
          "LEO",
          "LEO",
          "LEO",
          "LEO",
          "LEO",
          "LEO",
          "LEO",
          "LEO",
          "LEO",
          "LEO",
          "LEO",
          "LEO",
          "LEO",
          "LEO",
          "LEO",
          "LEO",
          "LEO",
          "LEO",
          "LEO",
          "LEO",
          "LEO",
          "LEO",
          "LEO",
          "LEO",
          "LEO",
          "LEO",
          "LEO",
          "LEO",
          "LEO",
          "LEO",
          "LEO",
          "LEO",
          "LEO",
          "LEO",
          "LEO",
          "LEO",
          "LEO",
          "LEO",
          "LEO",
          "LEO",
          "LEO",
          "LEO",
          "LEO",
          "LEO",
          "LEO",
          "LEO",
          "LEO",
          "LEO",
          "LEO",
          "LEO",
          "LEO",
          "LEO",
          "LEO",
          "LEO",
          "LEO",
          "LEO",
          "LEO",
          "LEO",
          "LEO",
          "LEO",
          "LEO",
          "LEO",
          "LEO",
          "LEO",
          "LEO",
          "LEO",
          "LEO",
          "LEO",
          "LEO",
          "LEO",
          "LEO",
          "LEO",
          "LEO",
          "LEO",
          "LEO",
          "LEO",
          "LEO",
          "LEO",
          "LEO",
          "LEO",
          "LEO",
          "LEO",
          "LEO",
          "LEO",
          "LEO",
          "LEO",
          "LEO",
          "LEO",
          "LEO",
          "LEO",
          "LEO",
          "LEO",
          "LEO",
          "LEO",
          "LEO",
          "LEO",
          "LEO",
          "LEO",
          "LEO",
          "LEO",
          "LEO",
          "LEO",
          "LEO",
          "LEO",
          "LEO",
          "LEO",
          "LEO",
          "LEO",
          "LEO",
          "LEO",
          "LEO",
          "LEO",
          "LEO",
          "LEO",
          "LEO",
          "LEO",
          "LEO",
          "LEO",
          "LEO",
          "LEO",
          "LEO",
          "LEO",
          "LEO",
          "LEO",
          "LEO",
          "LEO",
          "LEO",
          "LEO",
          "LEO",
          "LEO",
          "LEO",
          "LEO",
          "LEO",
          "LEO",
          "LEO",
          "LEO",
          "LEO",
          "LEO",
          "LEO",
          "LEO",
          "LEO",
          "LEO",
          "LEO",
          "LEO",
          "LEO",
          "LEO",
          "LEO",
          "LEO",
          "LEO",
          "LEO",
          "LEO",
          "LEO",
          "LEO",
          "LEO",
          "LEO",
          "LEO",
          "LEO",
          "LEO",
          "LEO",
          "LEO",
          "LEO",
          "LEO",
          "LEO",
          "LEO",
          "LEO",
          "LEO",
          "LEO",
          "LEO",
          "LEO",
          "LEO",
          "LEO",
          "LEO",
          "LEO",
          "LEO",
          "LEO",
          "LEO",
          "LEO",
          "LEO",
          "LEO",
          "LEO",
          "LEO",
          "LEO",
          "LEO",
          "LEO",
          "LEO",
          "LEO",
          "LEO",
          "LEO",
          "LEO",
          "LEO",
          "LEO",
          "LEO",
          "LEO",
          "LEO",
          "LEO",
          "LEO",
          "LEO",
          "LEO",
          "LEO",
          "LEO",
          "LEO",
          "LEO",
          "LEO",
          "LEO",
          "LEO",
          "LEO",
          "LEO",
          "LEO",
          "LEO",
          "LEO",
          "LEO",
          "LEO",
          "LEO",
          "LEO",
          "LEO",
          "LEO",
          "LEO",
          "LEO",
          "LEO",
          "LEO",
          "LEO",
          "LEO",
          "LEO",
          "LEO",
          "LEO",
          "LEO",
          "LEO",
          "LEO",
          "LEO",
          "LEO",
          "LEO",
          "LEO",
          "LEO",
          "LEO",
          "LEO",
          "LEO",
          "LEO",
          "LEO",
          "LEO",
          "LEO",
          "LEO",
          "LEO",
          "LEO",
          "LEO",
          "LEO",
          "LEO",
          "LEO",
          "LEO",
          "LEO",
          "LEO",
          "LEO",
          "LEO",
          "LEO",
          "LEO",
          "LEO",
          "LEO",
          "LEO",
          "LEO",
          "LEO",
          "LEO",
          "LEO",
          "LEO",
          "LEO",
          "LEO",
          "LEO",
          "LEO",
          "LEO",
          "LEO",
          "LEO",
          "LEO",
          "LEO",
          "LEO",
          "LEO",
          "LEO",
          "LEO",
          "LEO",
          "LEO",
          "LEO",
          "LEO",
          "LEO",
          "LEO",
          "LEO",
          "LEO",
          "LEO",
          "LEO",
          "LEO",
          "LEO",
          "LEO",
          "LEO",
          "LEO",
          "LEO",
          "LEO",
          "LEO",
          "LEO",
          "LEO",
          "LEO",
          "LEO",
          "LEO",
          "LEO",
          "LEO",
          "LEO",
          "LEO",
          "LEO",
          "LEO",
          "LEO",
          "LEO",
          "LEO",
          "LEO",
          "LEO",
          "LEO",
          "LEO",
          "LEO",
          "LEO",
          "LEO",
          "LEO",
          "LEO",
          "LEO",
          "LEO",
          "LEO",
          "LEO",
          "LEO",
          "LEO",
          "LEO",
          "LEO",
          "LEO",
          "LEO",
          "LEO",
          "LEO",
          "LEO",
          "LEO",
          "LEO",
          "LEO",
          "LEO",
          "LEO",
          "LEO",
          "LEO",
          "LEO",
          "LEO",
          "LEO",
          "LEO",
          "LEO",
          "LEO",
          "LEO",
          "LEO",
          "LEO",
          "LEO",
          "LEO",
          "LEO",
          "LEO",
          "LEO",
          "LEO",
          "LEO",
          "LEO",
          "LEO",
          "LEO",
          "LEO",
          "LEO",
          "LEO",
          "LEO",
          "LEO",
          "LEO",
          "LEO",
          "LEO",
          "LEO",
          "LEO",
          "LEO",
          "LEO",
          "LEO",
          "LEO",
          "LEO",
          "LEO",
          "LEO",
          "LEO",
          "LEO",
          "LEO",
          "LEO",
          "LEO",
          "LEO",
          "LEO",
          "LEO",
          "LEO",
          "LEO",
          "LEO",
          "LEO",
          "LEO",
          "LEO",
          "LEO",
          "LEO",
          "LEO",
          "LEO",
          "LEO",
          "LEO",
          "LEO",
          "LEO",
          "LEO",
          "LEO",
          "LEO",
          "LEO",
          "LEO",
          "LEO",
          "LEO",
          "LEO",
          "LEO",
          "LEO",
          "LEO",
          "LEO",
          "LEO",
          "LEO",
          "LEO",
          "LEO",
          "LEO",
          "LEO",
          "LEO",
          "LEO",
          "LEO",
          "LEO",
          "LEO",
          "LEO",
          "LEO",
          "LEO",
          "LEO",
          "LEO",
          "LEO",
          "LEO",
          "LEO",
          "LEO",
          "LEO",
          "LEO",
          "LEO",
          "LEO",
          "LEO",
          "LEO",
          "LEO",
          "LEO",
          "LEO",
          "LEO",
          "LEO",
          "LEO",
          "LEO",
          "LEO",
          "LEO",
          "LEO",
          "LEO",
          "LEO",
          "LEO",
          "LEO",
          "LEO",
          "LEO",
          "LEO",
          "LEO",
          "LEO",
          "LEO",
          "LEO",
          "LEO",
          "LEO",
          "LEO",
          "LEO",
          "LEO",
          "LEO",
          "LEO",
          "LEO",
          "LEO",
          "LEO",
          "LEO",
          "LEO",
          "LEO",
          "LEO",
          "LEO",
          "LEO",
          "LEO",
          "LEO",
          "LEO",
          "LEO",
          "LEO",
          "LEO",
          "LEO",
          "LEO",
          "LEO",
          "LEO",
          "LEO",
          "LEO",
          "LEO",
          "LEO",
          "LEO",
          "LEO",
          "LEO",
          "LEO",
          "LEO",
          "LEO",
          "LEO",
          "LEO",
          "LEO",
          "LEO",
          "LEO",
          "LEO",
          "LEO",
          "LEO",
          "LEO",
          "LEO",
          "LEO",
          "LEO",
          "LEO",
          "LEO",
          "LEO",
          "LEO",
          "LEO",
          "LEO",
          "LEO",
          "LEO",
          "LEO",
          "LEO",
          "LEO",
          "LEO",
          "LEO",
          "LEO",
          "LEO",
          "LEO",
          "LEO",
          "LEO",
          "LEO",
          "LEO",
          "LEO",
          "LEO",
          "LEO",
          "LEO",
          "LEO",
          "LEO",
          "LEO",
          "LEO",
          "LEO",
          "LEO",
          "LEO",
          "LEO",
          "LEO",
          "LEO",
          "LEO",
          "LEO",
          "LEO",
          "LEO",
          "LEO",
          "LEO",
          "LEO",
          "LEO",
          "LEO",
          "LEO",
          "LEO",
          "LEO",
          "LEO",
          "LEO",
          "LEO",
          "LEO",
          "LEO",
          "LEO",
          "LEO",
          "LEO",
          "LEO",
          "LEO",
          "LEO",
          "LEO",
          "LEO",
          "LEO",
          "LEO",
          "LEO",
          "LEO",
          "LEO",
          "LEO",
          "LEO",
          "LEO",
          "LEO",
          "LEO",
          "LEO",
          "LEO",
          "LEO",
          "LEO",
          "LEO",
          "LEO",
          "LEO",
          "LEO",
          "LEO",
          "LEO",
          "LEO",
          "LEO",
          "LEO",
          "LEO",
          "LEO",
          "LEO",
          "LEO",
          "LEO",
          "LEO",
          "LEO",
          "LEO",
          "LEO",
          "LEO",
          "LEO",
          "LEO",
          "LEO",
          "LEO",
          "LEO",
          "LEO",
          "LEO",
          "LEO",
          "LEO",
          "LEO",
          "LEO",
          "LEO",
          "LEO",
          "LEO",
          "LEO",
          "LEO",
          "LEO",
          "LEO",
          "LEO",
          "LEO",
          "LEO",
          "LEO",
          "LEO",
          "LEO",
          "LEO",
          "LEO",
          "LEO",
          "LEO",
          "LEO",
          "LEO",
          "LEO",
          "LEO",
          "LEO",
          "LEO",
          "LEO",
          "LEO",
          "LEO",
          "LEO",
          "LEO",
          "LEO",
          "LEO",
          "LEO",
          "LEO",
          "LEO",
          "LEO",
          "LEO",
          "LEO",
          "LEO",
          "LEO",
          "LEO",
          "LEO",
          "LEO",
          "LEO",
          "LEO",
          "LEO",
          "LEO",
          "LEO",
          "LEO",
          "LEO",
          "LEO",
          "LEO",
          "LEO",
          "LEO",
          "LEO",
          "LEO",
          "LEO",
          "LEO",
          "LEO",
          "LEO",
          "LEO",
          "LEO",
          "LEO",
          "LEO",
          "LEO",
          "LEO",
          "LEO",
          "LEO",
          "LEO",
          "LEO",
          "LEO",
          "LEO",
          "LEO",
          "LEO",
          "LEO",
          "LEO",
          "LEO",
          "LEO",
          "LEO",
          "LEO",
          "LEO",
          "LEO",
          "LEO",
          "LEO",
          "LEO",
          "LEO",
          "LEO",
          "LEO",
          "LEO",
          "LEO",
          "LEO",
          "LEO",
          "LEO",
          "LEO",
          "LEO",
          "LEO",
          "LEO",
          "LEO",
          "LEO",
          "LEO",
          "LEO",
          "LEO",
          "LEO",
          "LEO",
          "LEO",
          "LEO",
          "LEO",
          "LEO",
          "LEO",
          "LEO",
          "LEO",
          "LEO",
          "LEO",
          "LEO",
          "LEO",
          "LEO",
          "LEO",
          "LEO",
          "LEO",
          "LEO",
          "LEO",
          "LEO",
          "LEO",
          "LEO",
          "LEO",
          "LEO",
          "LEO",
          "LEO",
          "LEO",
          "LEO",
          "LEO",
          "LEO",
          "LEO",
          "LEO",
          "LEO",
          "LEO",
          "LEO",
          "LEO",
          "LEO",
          "LEO",
          "LEO",
          "LEO",
          "LEO",
          "LEO",
          "LEO",
          "LEO",
          "LEO",
          "LEO",
          "LEO",
          "LEO",
          "LEO",
          "LEO",
          "LEO",
          "LEO",
          "LEO",
          "LEO",
          "LEO",
          "LEO",
          "LEO",
          "LEO",
          "LEO",
          "LEO",
          "LEO",
          "LEO",
          "LEO",
          "LEO",
          "LEO",
          "LEO",
          "LEO",
          "LEO",
          "LEO",
          "LEO",
          "LEO",
          "LEO",
          "LEO",
          "LEO",
          "LEO",
          "LEO",
          "LEO",
          "LEO",
          "LEO",
          "LEO",
          "LEO",
          "LEO",
          "LEO",
          "LEO",
          "LEO",
          "LEO",
          "LEO",
          "LEO",
          "LEO",
          "LEO",
          "LEO",
          "LEO",
          "LEO",
          "LEO",
          "LEO",
          "LEO",
          "LEO",
          "LEO",
          "LEO",
          "LEO",
          "LEO",
          "LEO",
          "LEO",
          "LEO",
          "LEO",
          "LEO",
          "LEO",
          "LEO",
          "LEO",
          "LEO",
          "LEO",
          "LEO",
          "LEO",
          "LEO",
          "LEO",
          "LEO",
          "LEO",
          "LEO",
          "LEO",
          "LEO",
          "LEO",
          "LEO",
          "LEO",
          "LEO",
          "LEO",
          "LEO",
          "LEO",
          "LEO",
          "LEO",
          "LEO",
          "LEO",
          "LEO",
          "LEO",
          "LEO",
          "LEO",
          "LEO",
          "LEO",
          "LEO",
          "LEO",
          "LEO",
          "LEO",
          "LEO",
          "LEO",
          "LEO",
          "LEO",
          "LEO",
          "LEO",
          "LEO",
          "LEO",
          "LEO",
          "LEO",
          "LEO",
          "LEO",
          "LEO",
          "LEO",
          "LEO",
          "LEO",
          "LEO",
          "LEO",
          "LEO",
          "LEO",
          "LEO",
          "LEO",
          "LEO",
          "LEO",
          "LEO",
          "LEO",
          "LEO",
          "LEO",
          "LEO",
          "LEO",
          "LEO",
          "LEO",
          "LEO",
          "LEO",
          "LEO",
          "LEO",
          "LEO",
          "LEO",
          "LEO",
          "LEO",
          "LEO",
          "LEO",
          "LEO",
          "LEO",
          "LEO",
          "LEO",
          "LEO",
          "LEO",
          "LEO",
          "LEO",
          "LEO",
          "LEO",
          "LEO",
          "LEO",
          "LEO",
          "LEO",
          "LEO",
          "LEO",
          "LEO",
          "LEO",
          "LEO",
          "LEO",
          "LEO",
          "LEO",
          "LEO",
          "LEO",
          "LEO",
          "LEO",
          "LEO",
          "LEO",
          "LEO",
          "LEO",
          "LEO",
          "LEO",
          "LEO",
          "LEO",
          "LEO",
          "LEO",
          "LEO",
          "LEO",
          "LEO",
          "LEO",
          "LEO",
          "LEO",
          "LEO",
          "LEO",
          "LEO",
          "LEO",
          "LEO",
          "LEO",
          "LEO",
          "LEO",
          "LEO",
          "LEO",
          "LEO",
          "LEO",
          "LEO",
          "LEO",
          "LEO",
          "LEO",
          "LEO",
          "LEO"
         ],
         "x0": " ",
         "xaxis": "x",
         "y": {
          "bdata": "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",
          "dtype": "f8"
         },
         "y0": " ",
         "yaxis": "y"
        },
        {
         "alignmentgroup": "True",
         "hovertemplate": "orbit_shell=%{x}<br>sat_age=%{y}<extra></extra>",
         "legendgroup": "GEO",
         "marker": {
          "color": "rgb(253,205,172)"
         },
         "name": "GEO",
         "notched": false,
         "offsetgroup": "GEO",
         "orientation": "v",
         "showlegend": true,
         "type": "box",
         "x": [
          "GEO",
          "GEO",
          "GEO",
          "GEO",
          "GEO",
          "GEO",
          "GEO",
          "GEO",
          "GEO",
          "GEO",
          "GEO",
          "GEO",
          "GEO",
          "GEO",
          "GEO",
          "GEO",
          "GEO",
          "GEO",
          "GEO",
          "GEO",
          "GEO",
          "GEO",
          "GEO",
          "GEO",
          "GEO",
          "GEO",
          "GEO",
          "GEO",
          "GEO",
          "GEO",
          "GEO",
          "GEO",
          "GEO",
          "GEO",
          "GEO",
          "GEO",
          "GEO",
          "GEO",
          "GEO",
          "GEO",
          "GEO",
          "GEO",
          "GEO",
          "GEO",
          "GEO",
          "GEO",
          "GEO",
          "GEO",
          "GEO",
          "GEO",
          "GEO",
          "GEO",
          "GEO",
          "GEO",
          "GEO",
          "GEO",
          "GEO",
          "GEO",
          "GEO",
          "GEO",
          "GEO",
          "GEO",
          "GEO",
          "GEO",
          "GEO",
          "GEO",
          "GEO",
          "GEO",
          "GEO",
          "GEO",
          "GEO",
          "GEO",
          "GEO",
          "GEO",
          "GEO",
          "GEO",
          "GEO",
          "GEO",
          "GEO",
          "GEO",
          "GEO",
          "GEO",
          "GEO",
          "GEO",
          "GEO",
          "GEO",
          "GEO",
          "GEO",
          "GEO",
          "GEO",
          "GEO",
          "GEO",
          "GEO",
          "GEO",
          "GEO",
          "GEO",
          "GEO",
          "GEO",
          "GEO",
          "GEO",
          "GEO",
          "GEO",
          "GEO",
          "GEO",
          "GEO",
          "GEO",
          "GEO",
          "GEO",
          "GEO",
          "GEO",
          "GEO",
          "GEO",
          "GEO",
          "GEO",
          "GEO",
          "GEO",
          "GEO",
          "GEO",
          "GEO",
          "GEO",
          "GEO",
          "GEO",
          "GEO",
          "GEO",
          "GEO",
          "GEO",
          "GEO",
          "GEO",
          "GEO",
          "GEO",
          "GEO",
          "GEO",
          "GEO",
          "GEO",
          "GEO",
          "GEO",
          "GEO",
          "GEO",
          "GEO",
          "GEO",
          "GEO",
          "GEO",
          "GEO",
          "GEO",
          "GEO",
          "GEO",
          "GEO",
          "GEO",
          "GEO",
          "GEO",
          "GEO",
          "GEO",
          "GEO",
          "GEO",
          "GEO",
          "GEO",
          "GEO",
          "GEO",
          "GEO",
          "GEO",
          "GEO",
          "GEO",
          "GEO",
          "GEO",
          "GEO",
          "GEO",
          "GEO",
          "GEO",
          "GEO",
          "GEO",
          "GEO",
          "GEO",
          "GEO",
          "GEO",
          "GEO",
          "GEO",
          "GEO",
          "GEO",
          "GEO",
          "GEO",
          "GEO",
          "GEO",
          "GEO",
          "GEO",
          "GEO",
          "GEO",
          "GEO",
          "GEO",
          "GEO",
          "GEO",
          "GEO",
          "GEO",
          "GEO",
          "GEO",
          "GEO",
          "GEO",
          "GEO",
          "GEO",
          "GEO",
          "GEO",
          "GEO",
          "GEO",
          "GEO",
          "GEO",
          "GEO",
          "GEO",
          "GEO",
          "GEO",
          "GEO",
          "GEO",
          "GEO",
          "GEO",
          "GEO",
          "GEO",
          "GEO",
          "GEO",
          "GEO",
          "GEO",
          "GEO",
          "GEO",
          "GEO",
          "GEO",
          "GEO",
          "GEO",
          "GEO",
          "GEO",
          "GEO",
          "GEO",
          "GEO",
          "GEO",
          "GEO",
          "GEO",
          "GEO",
          "GEO",
          "GEO",
          "GEO",
          "GEO",
          "GEO",
          "GEO",
          "GEO",
          "GEO",
          "GEO",
          "GEO",
          "GEO",
          "GEO",
          "GEO",
          "GEO",
          "GEO",
          "GEO",
          "GEO",
          "GEO",
          "GEO",
          "GEO",
          "GEO",
          "GEO",
          "GEO",
          "GEO",
          "GEO",
          "GEO",
          "GEO",
          "GEO",
          "GEO",
          "GEO",
          "GEO",
          "GEO",
          "GEO",
          "GEO",
          "GEO",
          "GEO",
          "GEO",
          "GEO",
          "GEO",
          "GEO",
          "GEO",
          "GEO",
          "GEO",
          "GEO",
          "GEO",
          "GEO",
          "GEO",
          "GEO",
          "GEO",
          "GEO",
          "GEO",
          "GEO",
          "GEO",
          "GEO",
          "GEO",
          "GEO",
          "GEO",
          "GEO",
          "GEO",
          "GEO",
          "GEO",
          "GEO",
          "GEO",
          "GEO",
          "GEO",
          "GEO",
          "GEO",
          "GEO",
          "GEO",
          "GEO",
          "GEO",
          "GEO",
          "GEO",
          "GEO",
          "GEO",
          "GEO",
          "GEO",
          "GEO",
          "GEO",
          "GEO",
          "GEO",
          "GEO",
          "GEO",
          "GEO",
          "GEO",
          "GEO",
          "GEO",
          "GEO",
          "GEO",
          "GEO",
          "GEO",
          "GEO",
          "GEO",
          "GEO",
          "GEO",
          "GEO",
          "GEO",
          "GEO",
          "GEO",
          "GEO",
          "GEO",
          "GEO",
          "GEO",
          "GEO",
          "GEO",
          "GEO",
          "GEO",
          "GEO",
          "GEO",
          "GEO",
          "GEO",
          "GEO",
          "GEO",
          "GEO",
          "GEO",
          "GEO",
          "GEO",
          "GEO",
          "GEO",
          "GEO",
          "GEO",
          "GEO",
          "GEO",
          "GEO",
          "GEO",
          "GEO",
          "GEO",
          "GEO",
          "GEO",
          "GEO",
          "GEO",
          "GEO",
          "GEO",
          "GEO",
          "GEO",
          "GEO",
          "GEO",
          "GEO",
          "GEO",
          "GEO",
          "GEO",
          "GEO",
          "GEO",
          "GEO",
          "GEO",
          "GEO",
          "GEO",
          "GEO",
          "GEO",
          "GEO",
          "GEO",
          "GEO",
          "GEO",
          "GEO",
          "GEO",
          "GEO",
          "GEO",
          "GEO",
          "GEO",
          "GEO",
          "GEO",
          "GEO",
          "GEO",
          "GEO",
          "GEO",
          "GEO",
          "GEO",
          "GEO",
          "GEO",
          "GEO",
          "GEO",
          "GEO",
          "GEO",
          "GEO",
          "GEO",
          "GEO",
          "GEO",
          "GEO",
          "GEO",
          "GEO",
          "GEO",
          "GEO",
          "GEO",
          "GEO",
          "GEO",
          "GEO",
          "GEO",
          "GEO",
          "GEO",
          "GEO",
          "GEO",
          "GEO",
          "GEO",
          "GEO",
          "GEO",
          "GEO",
          "GEO",
          "GEO",
          "GEO",
          "GEO",
          "GEO",
          "GEO",
          "GEO",
          "GEO",
          "GEO",
          "GEO",
          "GEO",
          "GEO",
          "GEO",
          "GEO",
          "GEO",
          "GEO",
          "GEO",
          "GEO",
          "GEO",
          "GEO",
          "GEO",
          "GEO",
          "GEO",
          "GEO",
          "GEO",
          "GEO",
          "GEO",
          "GEO",
          "GEO",
          "GEO",
          "GEO",
          "GEO",
          "GEO",
          "GEO",
          "GEO",
          "GEO",
          "GEO",
          "GEO",
          "GEO",
          "GEO",
          "GEO",
          "GEO",
          "GEO",
          "GEO",
          "GEO",
          "GEO",
          "GEO",
          "GEO",
          "GEO",
          "GEO",
          "GEO",
          "GEO",
          "GEO",
          "GEO",
          "GEO",
          "GEO",
          "GEO",
          "GEO",
          "GEO",
          "GEO",
          "GEO",
          "GEO",
          "GEO",
          "GEO",
          "GEO",
          "GEO",
          "GEO",
          "GEO",
          "GEO",
          "GEO",
          "GEO",
          "GEO",
          "GEO",
          "GEO",
          "GEO",
          "GEO",
          "GEO",
          "GEO",
          "GEO",
          "GEO",
          "GEO",
          "GEO",
          "GEO",
          "GEO",
          "GEO",
          "GEO",
          "GEO",
          "GEO",
          "GEO",
          "GEO",
          "GEO",
          "GEO",
          "GEO",
          "GEO",
          "GEO",
          "GEO",
          "GEO",
          "GEO",
          "GEO",
          "GEO",
          "GEO",
          "GEO",
          "GEO",
          "GEO",
          "GEO",
          "GEO",
          "GEO",
          "GEO",
          "GEO",
          "GEO",
          "GEO",
          "GEO",
          "GEO",
          "GEO",
          "GEO",
          "GEO",
          "GEO",
          "GEO",
          "GEO",
          "GEO",
          "GEO",
          "GEO",
          "GEO",
          "GEO",
          "GEO",
          "GEO",
          "GEO",
          "GEO",
          "GEO",
          "GEO",
          "GEO",
          "GEO",
          "GEO",
          "GEO",
          "GEO",
          "GEO",
          "GEO",
          "GEO",
          "GEO",
          "GEO",
          "GEO",
          "GEO",
          "GEO",
          "GEO",
          "GEO",
          "GEO",
          "GEO",
          "GEO",
          "GEO",
          "GEO",
          "GEO",
          "GEO",
          "GEO",
          "GEO",
          "GEO",
          "GEO",
          "GEO",
          "GEO",
          "GEO",
          "GEO",
          "GEO"
         ],
         "x0": " ",
         "xaxis": "x",
         "y": {
          "bdata": "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",
          "dtype": "f8"
         },
         "y0": " ",
         "yaxis": "y"
        },
        {
         "alignmentgroup": "True",
         "hovertemplate": "orbit_shell=%{x}<br>sat_age=%{y}<extra></extra>",
         "legendgroup": "UNKNOWN",
         "marker": {
          "color": "rgb(203,213,232)"
         },
         "name": "UNKNOWN",
         "notched": false,
         "offsetgroup": "UNKNOWN",
         "orientation": "v",
         "showlegend": true,
         "type": "box",
         "x": [
          "UNKNOWN",
          "UNKNOWN",
          "UNKNOWN",
          "UNKNOWN",
          "UNKNOWN",
          "UNKNOWN",
          "UNKNOWN",
          "UNKNOWN",
          "UNKNOWN",
          "UNKNOWN",
          "UNKNOWN",
          "UNKNOWN",
          "UNKNOWN",
          "UNKNOWN",
          "UNKNOWN",
          "UNKNOWN",
          "UNKNOWN",
          "UNKNOWN",
          "UNKNOWN",
          "UNKNOWN",
          "UNKNOWN",
          "UNKNOWN",
          "UNKNOWN",
          "UNKNOWN",
          "UNKNOWN",
          "UNKNOWN",
          "UNKNOWN",
          "UNKNOWN",
          "UNKNOWN",
          "UNKNOWN",
          "UNKNOWN",
          "UNKNOWN",
          "UNKNOWN",
          "UNKNOWN",
          "UNKNOWN",
          "UNKNOWN",
          "UNKNOWN",
          "UNKNOWN",
          "UNKNOWN",
          "UNKNOWN",
          "UNKNOWN",
          "UNKNOWN",
          "UNKNOWN",
          "UNKNOWN",
          "UNKNOWN",
          "UNKNOWN",
          "UNKNOWN",
          "UNKNOWN",
          "UNKNOWN",
          "UNKNOWN",
          "UNKNOWN",
          "UNKNOWN",
          "UNKNOWN",
          "UNKNOWN",
          "UNKNOWN",
          "UNKNOWN",
          "UNKNOWN",
          "UNKNOWN",
          "UNKNOWN"
         ],
         "x0": " ",
         "xaxis": "x",
         "y": {
          "bdata": "AAAAAAAAEEAAAAAAAAA6QAAAAAAAACRAAAAAAAAAIEAAAAAAAAAYQAAAAAAAABRAAAAAAAAAEEAAAAAAAAAiQAAAAAAAABhAAAAAAAAAJkAAAAAAAAAmQAAAAAAAABxAAAAAAAAAFEAAAAAAAAAQQAAAAAAAgEBAAAAAAAAAKEAAAAAAAAAzQAAAAAAAADFAAAAAAAAAJkAAAAAAAAAgQAAAAAAAADdAAAAAAAAAMUAAAAAAAAAYQAAAAAAAAAhAAAAAAAAALkAAAAAAAAAsQAAAAAAAACpAAAAAAAAAJkAAAAAAAAAYQAAAAAAAABRAAAAAAAAAJEAAAAAAAAAkQAAAAAAAACRAAAAAAAAAJEAAAAAAAAAYQAAAAAAAABhAAAAAAAAAOUAAAAAAAAA5QAAAAAAAADlAAAAAAAAANUAAAAAAAAAyQAAAAAAAADlAAAAAAAAAOUAAAAAAAAA5QAAAAAAAAD1AAAAAAAAALEAAAAAAAAAwQAAAAAAAADBAAAAAAAAALEAAAAAAAAA5QAAAAAAAABhAAAAAAAAAHEAAAAAAAAAyQAAAAAAAADJAAAAAAAAAMkAAAAAAAAA8QAAAAAAAACpAAAAAAAAAKkAAAAAAAAA6QA==",
          "dtype": "f8"
         },
         "y0": " ",
         "yaxis": "y"
        },
        {
         "alignmentgroup": "True",
         "hovertemplate": "orbit_shell=%{x}<br>sat_age=%{y}<extra></extra>",
         "legendgroup": "MEO",
         "marker": {
          "color": "rgb(244,202,228)"
         },
         "name": "MEO",
         "notched": false,
         "offsetgroup": "MEO",
         "orientation": "v",
         "showlegend": true,
         "type": "box",
         "x": [
          "MEO",
          "MEO",
          "MEO",
          "MEO",
          "MEO",
          "MEO",
          "MEO",
          "MEO",
          "MEO",
          "MEO",
          "MEO",
          "MEO",
          "MEO",
          "MEO",
          "MEO",
          "MEO",
          "MEO",
          "MEO",
          "MEO",
          "MEO",
          "MEO",
          "MEO",
          "MEO",
          "MEO",
          "MEO",
          "MEO",
          "MEO",
          "MEO",
          "MEO",
          "MEO",
          "MEO",
          "MEO",
          "MEO",
          "MEO",
          "MEO",
          "MEO",
          "MEO",
          "MEO",
          "MEO",
          "MEO",
          "MEO",
          "MEO",
          "MEO",
          "MEO",
          "MEO",
          "MEO",
          "MEO",
          "MEO",
          "MEO",
          "MEO",
          "MEO",
          "MEO",
          "MEO",
          "MEO",
          "MEO",
          "MEO",
          "MEO",
          "MEO",
          "MEO",
          "MEO",
          "MEO",
          "MEO",
          "MEO",
          "MEO",
          "MEO",
          "MEO",
          "MEO",
          "MEO",
          "MEO",
          "MEO",
          "MEO",
          "MEO",
          "MEO",
          "MEO",
          "MEO",
          "MEO",
          "MEO",
          "MEO",
          "MEO",
          "MEO",
          "MEO",
          "MEO",
          "MEO",
          "MEO",
          "MEO",
          "MEO",
          "MEO",
          "MEO",
          "MEO",
          "MEO",
          "MEO",
          "MEO",
          "MEO",
          "MEO",
          "MEO",
          "MEO",
          "MEO",
          "MEO",
          "MEO",
          "MEO",
          "MEO",
          "MEO",
          "MEO",
          "MEO",
          "MEO",
          "MEO",
          "MEO",
          "MEO",
          "MEO",
          "MEO",
          "MEO",
          "MEO",
          "MEO",
          "MEO",
          "MEO",
          "MEO",
          "MEO",
          "MEO",
          "MEO",
          "MEO",
          "MEO",
          "MEO",
          "MEO",
          "MEO",
          "MEO",
          "MEO",
          "MEO",
          "MEO",
          "MEO",
          "MEO",
          "MEO",
          "MEO",
          "MEO",
          "MEO",
          "MEO",
          "MEO",
          "MEO",
          "MEO",
          "MEO",
          "MEO",
          "MEO",
          "MEO",
          "MEO"
         ],
         "x0": " ",
         "xaxis": "x",
         "y": {
          "bdata": "AAAAAAAAKkAAAAAAAAAqQAAAAAAAACpAAAAAAAAAJEAAAAAAAAAkQAAAAAAAACBAAAAAAAAAGEAAAAAAAAAYQAAAAAAAACBAAAAAAAAAHEAAAAAAAAAcQAAAAAAAABxAAAAAAAAAHEAAAAAAAAAcQAAAAAAAABxAAAAAAAAAHEAAAAAAAAAcQAAAAAAAABxAAAAAAAAAHEAAAAAAAAAcQAAAAAAAABxAAAAAAAAAHEAAAAAAAAAcQAAAAAAAABxAAAAAAAAAHEAAAAAAAAAYQAAAAAAAABhAAAAAAAAAGEAAAAAAAAAYQAAAAAAAABhAAAAAAAAAIkAAAAAAAAAiQAAAAAAAACJAAAAAAAAAIkAAAAAAAAAiQAAAAAAAACBAAAAAAAAAIEAAAAAAAAAgQAAAAAAAACBAAAAAAAAAHEAAAAAAAAAcQAAAAAAAABxAAAAAAAAAHEAAAAAAAAAQQAAAAAAAABBAAAAAAAAAJEAAAAAAAAAkQAAAAAAAACRAAAAAAAAAJEAAAAAAAAAiQAAAAAAAACRAAAAAAAAAJEAAAAAAAAAsQAAAAAAAACxAAAAAAAAAKkAAAAAAAAAqQAAAAAAAAAhAAAAAAAAALEAAAAAAAAAmQAAAAAAAABRAAAAAAAAACEAAAAAAAAAzQAAAAAAAADNAAAAAAAAAMkAAAAAAAAAyQAAAAAAAADJAAAAAAAAAMkAAAAAAAAAwQAAAAAAAAC5AAAAAAAAALkAAAAAAAAAwQAAAAAAAAC5AAAAAAAAALkAAAAAAAAAsQAAAAAAAACxAAAAAAAAALEAAAAAAAAAoQAAAAAAAACJAAAAAAAAAIEAAAAAAAAAiQAAAAAAAACZAAAAAAAAAHEAAAAAAAAAcQAAAAAAAABhAAAAAAAAAGEAAAAAAAAAUQAAAAAAAAC5AAAAAAAAAJEAAAAAAAAAkQAAAAAAAACJAAAAAAAAAKkAAAAAAAAAoQAAAAAAAACZAAAAAAAAAJkAAAAAAAAAmQAAAAAAAACZAAAAAAAAAJEAAAAAAAAAsQAAAAAAAABxAAAAAAAAAGEAAAAAAAAAUQAAAAAAAABRAAAAAAAAAEEAAAAAAAAAAQAAAAAAAADxAAAAAAAAAOkAAAAAAAAA5QAAAAAAAADlAAAAAAAAAOUAAAAAAAAA4QAAAAAAAADZAAAAAAAAANkAAAAAAAAAzQAAAAAAAADNAAAAAAAAAMkAAAAAAAAAyQAAAAAAAADFAAAAAAAAAMEAAAAAAAAA0QAAAAAAAADVAAAAAAAAANUAAAAAAAAAIQAAAAAAAAChAAAAAAAAAJkAAAAAAAAAoQAAAAAAAAChAAAAAAAAAJkAAAAAAAAAmQAAAAAAAACZAAAAAAAAAJkAAAAAAAAAmQAAAAAAAACZAAAAAAAAAJkAAAAAAAAAcQAAAAAAAABxAAAAAAAAAHEAAAAAAAAAcQAAAAAAAABhAAAAAAAAAGEAAAAAAAAAYQAAAAAAAABhAAAAAAAAAKEAAAAAAAAAUQA==",
          "dtype": "f8"
         },
         "y0": " ",
         "yaxis": "y"
        }
       ],
       "layout": {
        "boxmode": "overlay",
        "legend": {
         "title": {
          "text": "orbit_shell"
         },
         "tracegroupgap": 0
        },
        "showlegend": false,
        "template": {
         "data": {
          "bar": [
           {
            "error_x": {
             "color": "#2a3f5f"
            },
            "error_y": {
             "color": "#2a3f5f"
            },
            "marker": {
             "line": {
              "color": "white",
              "width": 0.5
             },
             "pattern": {
              "fillmode": "overlay",
              "size": 10,
              "solidity": 0.2
             }
            },
            "type": "bar"
           }
          ],
          "barpolar": [
           {
            "marker": {
             "line": {
              "color": "white",
              "width": 0.5
             },
             "pattern": {
              "fillmode": "overlay",
              "size": 10,
              "solidity": 0.2
             }
            },
            "type": "barpolar"
           }
          ],
          "carpet": [
           {
            "aaxis": {
             "endlinecolor": "#2a3f5f",
             "gridcolor": "#C8D4E3",
             "linecolor": "#C8D4E3",
             "minorgridcolor": "#C8D4E3",
             "startlinecolor": "#2a3f5f"
            },
            "baxis": {
             "endlinecolor": "#2a3f5f",
             "gridcolor": "#C8D4E3",
             "linecolor": "#C8D4E3",
             "minorgridcolor": "#C8D4E3",
             "startlinecolor": "#2a3f5f"
            },
            "type": "carpet"
           }
          ],
          "choropleth": [
           {
            "colorbar": {
             "outlinewidth": 0,
             "ticks": ""
            },
            "type": "choropleth"
           }
          ],
          "contour": [
           {
            "colorbar": {
             "outlinewidth": 0,
             "ticks": ""
            },
            "colorscale": [
             [
              0,
              "#0d0887"
             ],
             [
              0.1111111111111111,
              "#46039f"
             ],
             [
              0.2222222222222222,
              "#7201a8"
             ],
             [
              0.3333333333333333,
              "#9c179e"
             ],
             [
              0.4444444444444444,
              "#bd3786"
             ],
             [
              0.5555555555555556,
              "#d8576b"
             ],
             [
              0.6666666666666666,
              "#ed7953"
             ],
             [
              0.7777777777777778,
              "#fb9f3a"
             ],
             [
              0.8888888888888888,
              "#fdca26"
             ],
             [
              1,
              "#f0f921"
             ]
            ],
            "type": "contour"
           }
          ],
          "contourcarpet": [
           {
            "colorbar": {
             "outlinewidth": 0,
             "ticks": ""
            },
            "type": "contourcarpet"
           }
          ],
          "heatmap": [
           {
            "colorbar": {
             "outlinewidth": 0,
             "ticks": ""
            },
            "colorscale": [
             [
              0,
              "#0d0887"
             ],
             [
              0.1111111111111111,
              "#46039f"
             ],
             [
              0.2222222222222222,
              "#7201a8"
             ],
             [
              0.3333333333333333,
              "#9c179e"
             ],
             [
              0.4444444444444444,
              "#bd3786"
             ],
             [
              0.5555555555555556,
              "#d8576b"
             ],
             [
              0.6666666666666666,
              "#ed7953"
             ],
             [
              0.7777777777777778,
              "#fb9f3a"
             ],
             [
              0.8888888888888888,
              "#fdca26"
             ],
             [
              1,
              "#f0f921"
             ]
            ],
            "type": "heatmap"
           }
          ],
          "histogram": [
           {
            "marker": {
             "pattern": {
              "fillmode": "overlay",
              "size": 10,
              "solidity": 0.2
             }
            },
            "type": "histogram"
           }
          ],
          "histogram2d": [
           {
            "colorbar": {
             "outlinewidth": 0,
             "ticks": ""
            },
            "colorscale": [
             [
              0,
              "#0d0887"
             ],
             [
              0.1111111111111111,
              "#46039f"
             ],
             [
              0.2222222222222222,
              "#7201a8"
             ],
             [
              0.3333333333333333,
              "#9c179e"
             ],
             [
              0.4444444444444444,
              "#bd3786"
             ],
             [
              0.5555555555555556,
              "#d8576b"
             ],
             [
              0.6666666666666666,
              "#ed7953"
             ],
             [
              0.7777777777777778,
              "#fb9f3a"
             ],
             [
              0.8888888888888888,
              "#fdca26"
             ],
             [
              1,
              "#f0f921"
             ]
            ],
            "type": "histogram2d"
           }
          ],
          "histogram2dcontour": [
           {
            "colorbar": {
             "outlinewidth": 0,
             "ticks": ""
            },
            "colorscale": [
             [
              0,
              "#0d0887"
             ],
             [
              0.1111111111111111,
              "#46039f"
             ],
             [
              0.2222222222222222,
              "#7201a8"
             ],
             [
              0.3333333333333333,
              "#9c179e"
             ],
             [
              0.4444444444444444,
              "#bd3786"
             ],
             [
              0.5555555555555556,
              "#d8576b"
             ],
             [
              0.6666666666666666,
              "#ed7953"
             ],
             [
              0.7777777777777778,
              "#fb9f3a"
             ],
             [
              0.8888888888888888,
              "#fdca26"
             ],
             [
              1,
              "#f0f921"
             ]
            ],
            "type": "histogram2dcontour"
           }
          ],
          "mesh3d": [
           {
            "colorbar": {
             "outlinewidth": 0,
             "ticks": ""
            },
            "type": "mesh3d"
           }
          ],
          "parcoords": [
           {
            "line": {
             "colorbar": {
              "outlinewidth": 0,
              "ticks": ""
             }
            },
            "type": "parcoords"
           }
          ],
          "pie": [
           {
            "automargin": true,
            "type": "pie"
           }
          ],
          "scatter": [
           {
            "fillpattern": {
             "fillmode": "overlay",
             "size": 10,
             "solidity": 0.2
            },
            "type": "scatter"
           }
          ],
          "scatter3d": [
           {
            "line": {
             "colorbar": {
              "outlinewidth": 0,
              "ticks": ""
             }
            },
            "marker": {
             "colorbar": {
              "outlinewidth": 0,
              "ticks": ""
             }
            },
            "type": "scatter3d"
           }
          ],
          "scattercarpet": [
           {
            "marker": {
             "colorbar": {
              "outlinewidth": 0,
              "ticks": ""
             }
            },
            "type": "scattercarpet"
           }
          ],
          "scattergeo": [
           {
            "marker": {
             "colorbar": {
              "outlinewidth": 0,
              "ticks": ""
             }
            },
            "type": "scattergeo"
           }
          ],
          "scattergl": [
           {
            "marker": {
             "colorbar": {
              "outlinewidth": 0,
              "ticks": ""
             }
            },
            "type": "scattergl"
           }
          ],
          "scattermap": [
           {
            "marker": {
             "colorbar": {
              "outlinewidth": 0,
              "ticks": ""
             }
            },
            "type": "scattermap"
           }
          ],
          "scattermapbox": [
           {
            "marker": {
             "colorbar": {
              "outlinewidth": 0,
              "ticks": ""
             }
            },
            "type": "scattermapbox"
           }
          ],
          "scatterpolar": [
           {
            "marker": {
             "colorbar": {
              "outlinewidth": 0,
              "ticks": ""
             }
            },
            "type": "scatterpolar"
           }
          ],
          "scatterpolargl": [
           {
            "marker": {
             "colorbar": {
              "outlinewidth": 0,
              "ticks": ""
             }
            },
            "type": "scatterpolargl"
           }
          ],
          "scatterternary": [
           {
            "marker": {
             "colorbar": {
              "outlinewidth": 0,
              "ticks": ""
             }
            },
            "type": "scatterternary"
           }
          ],
          "surface": [
           {
            "colorbar": {
             "outlinewidth": 0,
             "ticks": ""
            },
            "colorscale": [
             [
              0,
              "#0d0887"
             ],
             [
              0.1111111111111111,
              "#46039f"
             ],
             [
              0.2222222222222222,
              "#7201a8"
             ],
             [
              0.3333333333333333,
              "#9c179e"
             ],
             [
              0.4444444444444444,
              "#bd3786"
             ],
             [
              0.5555555555555556,
              "#d8576b"
             ],
             [
              0.6666666666666666,
              "#ed7953"
             ],
             [
              0.7777777777777778,
              "#fb9f3a"
             ],
             [
              0.8888888888888888,
              "#fdca26"
             ],
             [
              1,
              "#f0f921"
             ]
            ],
            "type": "surface"
           }
          ],
          "table": [
           {
            "cells": {
             "fill": {
              "color": "#EBF0F8"
             },
             "line": {
              "color": "white"
             }
            },
            "header": {
             "fill": {
              "color": "#C8D4E3"
             },
             "line": {
              "color": "white"
             }
            },
            "type": "table"
           }
          ]
         },
         "layout": {
          "annotationdefaults": {
           "arrowcolor": "#2a3f5f",
           "arrowhead": 0,
           "arrowwidth": 1
          },
          "autotypenumbers": "strict",
          "coloraxis": {
           "colorbar": {
            "outlinewidth": 0,
            "ticks": ""
           }
          },
          "colorscale": {
           "diverging": [
            [
             0,
             "#8e0152"
            ],
            [
             0.1,
             "#c51b7d"
            ],
            [
             0.2,
             "#de77ae"
            ],
            [
             0.3,
             "#f1b6da"
            ],
            [
             0.4,
             "#fde0ef"
            ],
            [
             0.5,
             "#f7f7f7"
            ],
            [
             0.6,
             "#e6f5d0"
            ],
            [
             0.7,
             "#b8e186"
            ],
            [
             0.8,
             "#7fbc41"
            ],
            [
             0.9,
             "#4d9221"
            ],
            [
             1,
             "#276419"
            ]
           ],
           "sequential": [
            [
             0,
             "#0d0887"
            ],
            [
             0.1111111111111111,
             "#46039f"
            ],
            [
             0.2222222222222222,
             "#7201a8"
            ],
            [
             0.3333333333333333,
             "#9c179e"
            ],
            [
             0.4444444444444444,
             "#bd3786"
            ],
            [
             0.5555555555555556,
             "#d8576b"
            ],
            [
             0.6666666666666666,
             "#ed7953"
            ],
            [
             0.7777777777777778,
             "#fb9f3a"
            ],
            [
             0.8888888888888888,
             "#fdca26"
            ],
            [
             1,
             "#f0f921"
            ]
           ],
           "sequentialminus": [
            [
             0,
             "#0d0887"
            ],
            [
             0.1111111111111111,
             "#46039f"
            ],
            [
             0.2222222222222222,
             "#7201a8"
            ],
            [
             0.3333333333333333,
             "#9c179e"
            ],
            [
             0.4444444444444444,
             "#bd3786"
            ],
            [
             0.5555555555555556,
             "#d8576b"
            ],
            [
             0.6666666666666666,
             "#ed7953"
            ],
            [
             0.7777777777777778,
             "#fb9f3a"
            ],
            [
             0.8888888888888888,
             "#fdca26"
            ],
            [
             1,
             "#f0f921"
            ]
           ]
          },
          "colorway": [
           "#636efa",
           "#EF553B",
           "#00cc96",
           "#ab63fa",
           "#FFA15A",
           "#19d3f3",
           "#FF6692",
           "#B6E880",
           "#FF97FF",
           "#FECB52"
          ],
          "font": {
           "color": "#2a3f5f"
          },
          "geo": {
           "bgcolor": "white",
           "lakecolor": "white",
           "landcolor": "white",
           "showlakes": true,
           "showland": true,
           "subunitcolor": "#C8D4E3"
          },
          "hoverlabel": {
           "align": "left"
          },
          "hovermode": "closest",
          "mapbox": {
           "style": "light"
          },
          "paper_bgcolor": "white",
          "plot_bgcolor": "white",
          "polar": {
           "angularaxis": {
            "gridcolor": "#EBF0F8",
            "linecolor": "#EBF0F8",
            "ticks": ""
           },
           "bgcolor": "white",
           "radialaxis": {
            "gridcolor": "#EBF0F8",
            "linecolor": "#EBF0F8",
            "ticks": ""
           }
          },
          "scene": {
           "xaxis": {
            "backgroundcolor": "white",
            "gridcolor": "#DFE8F3",
            "gridwidth": 2,
            "linecolor": "#EBF0F8",
            "showbackground": true,
            "ticks": "",
            "zerolinecolor": "#EBF0F8"
           },
           "yaxis": {
            "backgroundcolor": "white",
            "gridcolor": "#DFE8F3",
            "gridwidth": 2,
            "linecolor": "#EBF0F8",
            "showbackground": true,
            "ticks": "",
            "zerolinecolor": "#EBF0F8"
           },
           "zaxis": {
            "backgroundcolor": "white",
            "gridcolor": "#DFE8F3",
            "gridwidth": 2,
            "linecolor": "#EBF0F8",
            "showbackground": true,
            "ticks": "",
            "zerolinecolor": "#EBF0F8"
           }
          },
          "shapedefaults": {
           "line": {
            "color": "#2a3f5f"
           }
          },
          "ternary": {
           "aaxis": {
            "gridcolor": "#DFE8F3",
            "linecolor": "#A2B1C6",
            "ticks": ""
           },
           "baxis": {
            "gridcolor": "#DFE8F3",
            "linecolor": "#A2B1C6",
            "ticks": ""
           },
           "bgcolor": "white",
           "caxis": {
            "gridcolor": "#DFE8F3",
            "linecolor": "#A2B1C6",
            "ticks": ""
           }
          },
          "title": {
           "x": 0.05
          },
          "xaxis": {
           "automargin": true,
           "gridcolor": "#EBF0F8",
           "linecolor": "#EBF0F8",
           "ticks": "",
           "title": {
            "standoff": 15
           },
           "zerolinecolor": "#EBF0F8",
           "zerolinewidth": 2
          },
          "yaxis": {
           "automargin": true,
           "gridcolor": "#EBF0F8",
           "linecolor": "#EBF0F8",
           "ticks": "",
           "title": {
            "standoff": 15
           },
           "zerolinecolor": "#EBF0F8",
           "zerolinewidth": 2
          }
         }
        },
        "title": {
         "text": "Satellite Age Distribution by Orbit Shell"
        },
        "xaxis": {
         "anchor": "y",
         "categoryarray": [
          "LEO",
          "GEO",
          "UNKNOWN",
          "MEO"
         ],
         "categoryorder": "array",
         "domain": [
          0,
          1
         ],
         "title": {
          "text": "Orbit Shell"
         }
        },
        "yaxis": {
         "anchor": "x",
         "domain": [
          0,
          1
         ],
         "title": {
          "text": "Satellite Age (Years)"
         }
        }
       }
      }
     },
     "metadata": {},
     "output_type": "display_data"
    }
   ],
   "source": [
    "# Chart 4: Satellite Age Distribution by Orbit Shell\n",
    "import datetime\n",
    "current_year = datetime.datetime.now().year\n",
    "df['sat_age'] = current_year - df['launch_year']\n",
    "\n",
    "fig4 = px.box(\n",
    "    df.dropna(subset=['sat_age']),\n",
    "    x=\"orbit_shell\",\n",
    "    y=\"sat_age\",\n",
    "    color=\"orbit_shell\",\n",
    "    title=\"Satellite Age Distribution by Orbit Shell\",\n",
    "    color_discrete_sequence=px.colors.qualitative.Pastel2\n",
    ")\n",
    "fig4.update_layout(\n",
    "    yaxis_title=\"Satellite Age (Years)\",\n",
    "    xaxis_title=\"Orbit Shell\",\n",
    "    showlegend=False,\n",
    "    template=\"plotly_white\"\n",
    ")\n",
    "fig4.show()"
   ]
  },
  {
   "cell_type": "code",
   "execution_count": 75,
   "id": "76c197dc",
   "metadata": {},
   "outputs": [
    {
     "data": {
      "application/vnd.plotly.v1+json": {
       "config": {
        "plotlyServerURL": "https://plot.ly"
       },
       "data": [
        {
         "customdata": [
          [
           "US Navy"
          ],
          [
           "DoD/NOAA"
          ],
          [
           "PanAmSat (Intelsat S.A.)"
          ],
          [
           "ORBCOMM Inc."
          ],
          [
           "National Space Program Office (NSPO)/University Corporation for Atmospheric Research (UCAR) Boulder, CO"
          ],
          [
           "Riyadh Space Research Institute"
          ],
          [
           "Sirius XM Holdings"
          ],
          [
           "Armed Forces"
          ],
          [
           "US Air Force"
          ],
          [
           "DirecTV, Inc."
          ]
         ],
         "hovertemplate": "mean=%{marker.color}<br>operator_short=%{y}<br>operator=%{customdata[0]}<extra></extra>",
         "legendgroup": "",
         "marker": {
          "color": {
           "bdata": "VVVVVVXVPEAzMzMzMzM2QMdxHMdxHDZAfMVXfMVXNUAAAAAAAAAzQAAAAAAAADNA27Zt27ZtMUBJkiRJkiQxQO0ltJfQXjBAAAAAAAAAMEA=",
           "dtype": "f8"
          },
          "coloraxis": "coloraxis",
          "pattern": {
           "shape": ""
          }
         },
         "name": "",
         "orientation": "h",
         "showlegend": false,
         "text": {
          "bdata": "VVVVVVXVPEAzMzMzMzM2QMdxHMdxHDZAfMVXfMVXNUAAAAAAAAAzQAAAAAAAADNA27Zt27ZtMUBJkiRJkiQxQO0ltJfQXjBAAAAAAAAAMEA=",
          "dtype": "f8"
         },
         "textposition": "outside",
         "texttemplate": "%{text:.1f} yrs",
         "type": "bar",
         "x": {
          "bdata": "VVVVVVXVPEAzMzMzMzM2QMdxHMdxHDZAfMVXfMVXNUAAAAAAAAAzQAAAAAAAADNA27Zt27ZtMUBJkiRJkiQxQO0ltJfQXjBAAAAAAAAAMEA=",
          "dtype": "f8"
         },
         "xaxis": "x",
         "y": [
          "US Navy",
          "DoD/NOAA",
          "PanAmSat (Intelsat S.A.)",
          "ORBCOMM Inc.",
          "National Space Program Of...",
          "Riyadh Space Research Ins...",
          "Sirius XM Holdings",
          "Armed Forces",
          "US Air Force",
          "DirecTV, Inc."
         ],
         "yaxis": "y"
        }
       ],
       "layout": {
        "barmode": "relative",
        "coloraxis": {
         "colorbar": {
          "title": {
           "text": "mean"
          }
         },
         "colorscale": [
          [
           0,
           "rgb(0,0,0)"
          ],
          [
           0.25,
           "rgb(230,0,0)"
          ],
          [
           0.5,
           "rgb(230,210,0)"
          ],
          [
           0.75,
           "rgb(255,255,255)"
          ],
          [
           1,
           "rgb(160,200,255)"
          ]
         ],
         "showscale": false
        },
        "legend": {
         "tracegroupgap": 0
        },
        "margin": {
         "l": 200
        },
        "template": {
         "data": {
          "bar": [
           {
            "error_x": {
             "color": "#2a3f5f"
            },
            "error_y": {
             "color": "#2a3f5f"
            },
            "marker": {
             "line": {
              "color": "white",
              "width": 0.5
             },
             "pattern": {
              "fillmode": "overlay",
              "size": 10,
              "solidity": 0.2
             }
            },
            "type": "bar"
           }
          ],
          "barpolar": [
           {
            "marker": {
             "line": {
              "color": "white",
              "width": 0.5
             },
             "pattern": {
              "fillmode": "overlay",
              "size": 10,
              "solidity": 0.2
             }
            },
            "type": "barpolar"
           }
          ],
          "carpet": [
           {
            "aaxis": {
             "endlinecolor": "#2a3f5f",
             "gridcolor": "#C8D4E3",
             "linecolor": "#C8D4E3",
             "minorgridcolor": "#C8D4E3",
             "startlinecolor": "#2a3f5f"
            },
            "baxis": {
             "endlinecolor": "#2a3f5f",
             "gridcolor": "#C8D4E3",
             "linecolor": "#C8D4E3",
             "minorgridcolor": "#C8D4E3",
             "startlinecolor": "#2a3f5f"
            },
            "type": "carpet"
           }
          ],
          "choropleth": [
           {
            "colorbar": {
             "outlinewidth": 0,
             "ticks": ""
            },
            "type": "choropleth"
           }
          ],
          "contour": [
           {
            "colorbar": {
             "outlinewidth": 0,
             "ticks": ""
            },
            "colorscale": [
             [
              0,
              "#0d0887"
             ],
             [
              0.1111111111111111,
              "#46039f"
             ],
             [
              0.2222222222222222,
              "#7201a8"
             ],
             [
              0.3333333333333333,
              "#9c179e"
             ],
             [
              0.4444444444444444,
              "#bd3786"
             ],
             [
              0.5555555555555556,
              "#d8576b"
             ],
             [
              0.6666666666666666,
              "#ed7953"
             ],
             [
              0.7777777777777778,
              "#fb9f3a"
             ],
             [
              0.8888888888888888,
              "#fdca26"
             ],
             [
              1,
              "#f0f921"
             ]
            ],
            "type": "contour"
           }
          ],
          "contourcarpet": [
           {
            "colorbar": {
             "outlinewidth": 0,
             "ticks": ""
            },
            "type": "contourcarpet"
           }
          ],
          "heatmap": [
           {
            "colorbar": {
             "outlinewidth": 0,
             "ticks": ""
            },
            "colorscale": [
             [
              0,
              "#0d0887"
             ],
             [
              0.1111111111111111,
              "#46039f"
             ],
             [
              0.2222222222222222,
              "#7201a8"
             ],
             [
              0.3333333333333333,
              "#9c179e"
             ],
             [
              0.4444444444444444,
              "#bd3786"
             ],
             [
              0.5555555555555556,
              "#d8576b"
             ],
             [
              0.6666666666666666,
              "#ed7953"
             ],
             [
              0.7777777777777778,
              "#fb9f3a"
             ],
             [
              0.8888888888888888,
              "#fdca26"
             ],
             [
              1,
              "#f0f921"
             ]
            ],
            "type": "heatmap"
           }
          ],
          "histogram": [
           {
            "marker": {
             "pattern": {
              "fillmode": "overlay",
              "size": 10,
              "solidity": 0.2
             }
            },
            "type": "histogram"
           }
          ],
          "histogram2d": [
           {
            "colorbar": {
             "outlinewidth": 0,
             "ticks": ""
            },
            "colorscale": [
             [
              0,
              "#0d0887"
             ],
             [
              0.1111111111111111,
              "#46039f"
             ],
             [
              0.2222222222222222,
              "#7201a8"
             ],
             [
              0.3333333333333333,
              "#9c179e"
             ],
             [
              0.4444444444444444,
              "#bd3786"
             ],
             [
              0.5555555555555556,
              "#d8576b"
             ],
             [
              0.6666666666666666,
              "#ed7953"
             ],
             [
              0.7777777777777778,
              "#fb9f3a"
             ],
             [
              0.8888888888888888,
              "#fdca26"
             ],
             [
              1,
              "#f0f921"
             ]
            ],
            "type": "histogram2d"
           }
          ],
          "histogram2dcontour": [
           {
            "colorbar": {
             "outlinewidth": 0,
             "ticks": ""
            },
            "colorscale": [
             [
              0,
              "#0d0887"
             ],
             [
              0.1111111111111111,
              "#46039f"
             ],
             [
              0.2222222222222222,
              "#7201a8"
             ],
             [
              0.3333333333333333,
              "#9c179e"
             ],
             [
              0.4444444444444444,
              "#bd3786"
             ],
             [
              0.5555555555555556,
              "#d8576b"
             ],
             [
              0.6666666666666666,
              "#ed7953"
             ],
             [
              0.7777777777777778,
              "#fb9f3a"
             ],
             [
              0.8888888888888888,
              "#fdca26"
             ],
             [
              1,
              "#f0f921"
             ]
            ],
            "type": "histogram2dcontour"
           }
          ],
          "mesh3d": [
           {
            "colorbar": {
             "outlinewidth": 0,
             "ticks": ""
            },
            "type": "mesh3d"
           }
          ],
          "parcoords": [
           {
            "line": {
             "colorbar": {
              "outlinewidth": 0,
              "ticks": ""
             }
            },
            "type": "parcoords"
           }
          ],
          "pie": [
           {
            "automargin": true,
            "type": "pie"
           }
          ],
          "scatter": [
           {
            "fillpattern": {
             "fillmode": "overlay",
             "size": 10,
             "solidity": 0.2
            },
            "type": "scatter"
           }
          ],
          "scatter3d": [
           {
            "line": {
             "colorbar": {
              "outlinewidth": 0,
              "ticks": ""
             }
            },
            "marker": {
             "colorbar": {
              "outlinewidth": 0,
              "ticks": ""
             }
            },
            "type": "scatter3d"
           }
          ],
          "scattercarpet": [
           {
            "marker": {
             "colorbar": {
              "outlinewidth": 0,
              "ticks": ""
             }
            },
            "type": "scattercarpet"
           }
          ],
          "scattergeo": [
           {
            "marker": {
             "colorbar": {
              "outlinewidth": 0,
              "ticks": ""
             }
            },
            "type": "scattergeo"
           }
          ],
          "scattergl": [
           {
            "marker": {
             "colorbar": {
              "outlinewidth": 0,
              "ticks": ""
             }
            },
            "type": "scattergl"
           }
          ],
          "scattermap": [
           {
            "marker": {
             "colorbar": {
              "outlinewidth": 0,
              "ticks": ""
             }
            },
            "type": "scattermap"
           }
          ],
          "scattermapbox": [
           {
            "marker": {
             "colorbar": {
              "outlinewidth": 0,
              "ticks": ""
             }
            },
            "type": "scattermapbox"
           }
          ],
          "scatterpolar": [
           {
            "marker": {
             "colorbar": {
              "outlinewidth": 0,
              "ticks": ""
             }
            },
            "type": "scatterpolar"
           }
          ],
          "scatterpolargl": [
           {
            "marker": {
             "colorbar": {
              "outlinewidth": 0,
              "ticks": ""
             }
            },
            "type": "scatterpolargl"
           }
          ],
          "scatterternary": [
           {
            "marker": {
             "colorbar": {
              "outlinewidth": 0,
              "ticks": ""
             }
            },
            "type": "scatterternary"
           }
          ],
          "surface": [
           {
            "colorbar": {
             "outlinewidth": 0,
             "ticks": ""
            },
            "colorscale": [
             [
              0,
              "#0d0887"
             ],
             [
              0.1111111111111111,
              "#46039f"
             ],
             [
              0.2222222222222222,
              "#7201a8"
             ],
             [
              0.3333333333333333,
              "#9c179e"
             ],
             [
              0.4444444444444444,
              "#bd3786"
             ],
             [
              0.5555555555555556,
              "#d8576b"
             ],
             [
              0.6666666666666666,
              "#ed7953"
             ],
             [
              0.7777777777777778,
              "#fb9f3a"
             ],
             [
              0.8888888888888888,
              "#fdca26"
             ],
             [
              1,
              "#f0f921"
             ]
            ],
            "type": "surface"
           }
          ],
          "table": [
           {
            "cells": {
             "fill": {
              "color": "#EBF0F8"
             },
             "line": {
              "color": "white"
             }
            },
            "header": {
             "fill": {
              "color": "#C8D4E3"
             },
             "line": {
              "color": "white"
             }
            },
            "type": "table"
           }
          ]
         },
         "layout": {
          "annotationdefaults": {
           "arrowcolor": "#2a3f5f",
           "arrowhead": 0,
           "arrowwidth": 1
          },
          "autotypenumbers": "strict",
          "coloraxis": {
           "colorbar": {
            "outlinewidth": 0,
            "ticks": ""
           }
          },
          "colorscale": {
           "diverging": [
            [
             0,
             "#8e0152"
            ],
            [
             0.1,
             "#c51b7d"
            ],
            [
             0.2,
             "#de77ae"
            ],
            [
             0.3,
             "#f1b6da"
            ],
            [
             0.4,
             "#fde0ef"
            ],
            [
             0.5,
             "#f7f7f7"
            ],
            [
             0.6,
             "#e6f5d0"
            ],
            [
             0.7,
             "#b8e186"
            ],
            [
             0.8,
             "#7fbc41"
            ],
            [
             0.9,
             "#4d9221"
            ],
            [
             1,
             "#276419"
            ]
           ],
           "sequential": [
            [
             0,
             "#0d0887"
            ],
            [
             0.1111111111111111,
             "#46039f"
            ],
            [
             0.2222222222222222,
             "#7201a8"
            ],
            [
             0.3333333333333333,
             "#9c179e"
            ],
            [
             0.4444444444444444,
             "#bd3786"
            ],
            [
             0.5555555555555556,
             "#d8576b"
            ],
            [
             0.6666666666666666,
             "#ed7953"
            ],
            [
             0.7777777777777778,
             "#fb9f3a"
            ],
            [
             0.8888888888888888,
             "#fdca26"
            ],
            [
             1,
             "#f0f921"
            ]
           ],
           "sequentialminus": [
            [
             0,
             "#0d0887"
            ],
            [
             0.1111111111111111,
             "#46039f"
            ],
            [
             0.2222222222222222,
             "#7201a8"
            ],
            [
             0.3333333333333333,
             "#9c179e"
            ],
            [
             0.4444444444444444,
             "#bd3786"
            ],
            [
             0.5555555555555556,
             "#d8576b"
            ],
            [
             0.6666666666666666,
             "#ed7953"
            ],
            [
             0.7777777777777778,
             "#fb9f3a"
            ],
            [
             0.8888888888888888,
             "#fdca26"
            ],
            [
             1,
             "#f0f921"
            ]
           ]
          },
          "colorway": [
           "#636efa",
           "#EF553B",
           "#00cc96",
           "#ab63fa",
           "#FFA15A",
           "#19d3f3",
           "#FF6692",
           "#B6E880",
           "#FF97FF",
           "#FECB52"
          ],
          "font": {
           "color": "#2a3f5f"
          },
          "geo": {
           "bgcolor": "white",
           "lakecolor": "white",
           "landcolor": "white",
           "showlakes": true,
           "showland": true,
           "subunitcolor": "#C8D4E3"
          },
          "hoverlabel": {
           "align": "left"
          },
          "hovermode": "closest",
          "mapbox": {
           "style": "light"
          },
          "paper_bgcolor": "white",
          "plot_bgcolor": "white",
          "polar": {
           "angularaxis": {
            "gridcolor": "#EBF0F8",
            "linecolor": "#EBF0F8",
            "ticks": ""
           },
           "bgcolor": "white",
           "radialaxis": {
            "gridcolor": "#EBF0F8",
            "linecolor": "#EBF0F8",
            "ticks": ""
           }
          },
          "scene": {
           "xaxis": {
            "backgroundcolor": "white",
            "gridcolor": "#DFE8F3",
            "gridwidth": 2,
            "linecolor": "#EBF0F8",
            "showbackground": true,
            "ticks": "",
            "zerolinecolor": "#EBF0F8"
           },
           "yaxis": {
            "backgroundcolor": "white",
            "gridcolor": "#DFE8F3",
            "gridwidth": 2,
            "linecolor": "#EBF0F8",
            "showbackground": true,
            "ticks": "",
            "zerolinecolor": "#EBF0F8"
           },
           "zaxis": {
            "backgroundcolor": "white",
            "gridcolor": "#DFE8F3",
            "gridwidth": 2,
            "linecolor": "#EBF0F8",
            "showbackground": true,
            "ticks": "",
            "zerolinecolor": "#EBF0F8"
           }
          },
          "shapedefaults": {
           "line": {
            "color": "#2a3f5f"
           }
          },
          "ternary": {
           "aaxis": {
            "gridcolor": "#DFE8F3",
            "linecolor": "#A2B1C6",
            "ticks": ""
           },
           "baxis": {
            "gridcolor": "#DFE8F3",
            "linecolor": "#A2B1C6",
            "ticks": ""
           },
           "bgcolor": "white",
           "caxis": {
            "gridcolor": "#DFE8F3",
            "linecolor": "#A2B1C6",
            "ticks": ""
           }
          },
          "title": {
           "x": 0.05
          },
          "xaxis": {
           "automargin": true,
           "gridcolor": "#EBF0F8",
           "linecolor": "#EBF0F8",
           "ticks": "",
           "title": {
            "standoff": 15
           },
           "zerolinecolor": "#EBF0F8",
           "zerolinewidth": 2
          },
          "yaxis": {
           "automargin": true,
           "gridcolor": "#EBF0F8",
           "linecolor": "#EBF0F8",
           "ticks": "",
           "title": {
            "standoff": 15
           },
           "zerolinecolor": "#EBF0F8",
           "zerolinewidth": 2
          }
         }
        },
        "title": {
         "text": "Average Satellite Age by Operator (Top Operators)"
        },
        "xaxis": {
         "anchor": "y",
         "domain": [
          0,
          1
         ],
         "title": {
          "text": "Average Age (Years)"
         }
        },
        "yaxis": {
         "anchor": "x",
         "domain": [
          0,
          1
         ],
         "title": {
          "text": "Operator"
         }
        }
       }
      }
     },
     "metadata": {},
     "output_type": "display_data"
    }
   ],
   "source": [
    "# Chart 5: Average Satellite Age by Operator\n",
    "op_age['operator_short'] = op_age['operator'].apply(lambda x: x if len(x) <= 25 else x[:25] + \"...\")\n",
    "\n",
    "fig5 = px.bar(\n",
    "    op_age,\n",
    "    x = 'mean',\n",
    "    y = 'operator_short',  \n",
    "    orientation = 'h',\n",
    "    text = 'mean',\n",
    "    color = 'mean',\n",
    "    color_continuous_scale = 'Blackbody',\n",
    "    title = 'Average Satellite Age by Operator (Top Operators)',\n",
    "    hover_data = {'operator': True, 'mean': True}  \n",
    ")\n",
    "fig5.update_traces(texttemplate = '%{text:.1f} yrs', textposition = 'outside')\n",
    "\n",
    "fig5.update_layout(\n",
    "    xaxis_title = 'Average Age (Years)',\n",
    "    yaxis_title = 'Operator',\n",
    "    template = 'plotly_white',\n",
    "    coloraxis_showscale = False,\n",
    "    margin = dict(l = 200)  \n",
    ")\n",
    "fig5.show()"
   ]
  },
  {
   "cell_type": "code",
   "execution_count": 78,
   "id": "333b6dd1",
   "metadata": {},
   "outputs": [
    {
     "name": "stderr",
     "output_type": "stream",
     "text": [
      "/var/folders/nt/4rp641zs5lg7_234f6d1h4_00000gn/T/ipykernel_16756/3146790279.py:2: FutureWarning:\n",
      "\n",
      "DataFrameGroupBy.apply operated on the grouping columns. This behavior is deprecated, and in a future version of pandas the grouping columns will be excluded from the operation. Either pass `include_groups=False` to exclude the groupings or explicitly select the grouping columns after groupby to silence this warning.\n",
      "\n"
     ]
    },
    {
     "data": {
      "application/vnd.plotly.v1+json": {
       "config": {
        "plotlyServerURL": "https://plot.ly"
       },
       "data": [
        {
         "hovertemplate": "orbit_shell=%{x}<br>pct_old=%{marker.color}<extra></extra>",
         "legendgroup": "",
         "marker": {
          "color": {
           "bdata": "DSd1Xx5bP0DcYy1DB+wEQC0pB0SGezFAWxE0nNR9Q0A=",
           "dtype": "f8"
          },
          "coloraxis": "coloraxis",
          "pattern": {
           "shape": ""
          }
         },
         "name": "",
         "orientation": "v",
         "showlegend": false,
         "text": {
          "bdata": "DSd1Xx5bP0DcYy1DB+wEQC0pB0SGezFAWxE0nNR9Q0A=",
          "dtype": "f8"
         },
         "textposition": "outside",
         "texttemplate": "%{text:.1f}%",
         "type": "bar",
         "x": [
          "GEO",
          "LEO",
          "MEO",
          "UNKNOWN"
         ],
         "xaxis": "x",
         "y": {
          "bdata": "DSd1Xx5bP0DcYy1DB+wEQC0pB0SGezFAWxE0nNR9Q0A=",
          "dtype": "f8"
         },
         "yaxis": "y"
        }
       ],
       "layout": {
        "barmode": "relative",
        "coloraxis": {
         "colorbar": {
          "title": {
           "text": "pct_old"
          }
         },
         "colorscale": [
          [
           0,
           "rgb(150,0,90)"
          ],
          [
           0.125,
           "rgb(0,0,200)"
          ],
          [
           0.25,
           "rgb(0,25,255)"
          ],
          [
           0.375,
           "rgb(0,152,255)"
          ],
          [
           0.5,
           "rgb(44,255,150)"
          ],
          [
           0.625,
           "rgb(151,255,0)"
          ],
          [
           0.75,
           "rgb(255,234,0)"
          ],
          [
           0.875,
           "rgb(255,111,0)"
          ],
          [
           1,
           "rgb(255,0,0)"
          ]
         ],
         "showscale": false
        },
        "font": {
         "size": 10
        },
        "legend": {
         "tracegroupgap": 0
        },
        "template": {
         "data": {
          "bar": [
           {
            "error_x": {
             "color": "#2a3f5f"
            },
            "error_y": {
             "color": "#2a3f5f"
            },
            "marker": {
             "line": {
              "color": "white",
              "width": 0.5
             },
             "pattern": {
              "fillmode": "overlay",
              "size": 10,
              "solidity": 0.2
             }
            },
            "type": "bar"
           }
          ],
          "barpolar": [
           {
            "marker": {
             "line": {
              "color": "white",
              "width": 0.5
             },
             "pattern": {
              "fillmode": "overlay",
              "size": 10,
              "solidity": 0.2
             }
            },
            "type": "barpolar"
           }
          ],
          "carpet": [
           {
            "aaxis": {
             "endlinecolor": "#2a3f5f",
             "gridcolor": "#C8D4E3",
             "linecolor": "#C8D4E3",
             "minorgridcolor": "#C8D4E3",
             "startlinecolor": "#2a3f5f"
            },
            "baxis": {
             "endlinecolor": "#2a3f5f",
             "gridcolor": "#C8D4E3",
             "linecolor": "#C8D4E3",
             "minorgridcolor": "#C8D4E3",
             "startlinecolor": "#2a3f5f"
            },
            "type": "carpet"
           }
          ],
          "choropleth": [
           {
            "colorbar": {
             "outlinewidth": 0,
             "ticks": ""
            },
            "type": "choropleth"
           }
          ],
          "contour": [
           {
            "colorbar": {
             "outlinewidth": 0,
             "ticks": ""
            },
            "colorscale": [
             [
              0,
              "#0d0887"
             ],
             [
              0.1111111111111111,
              "#46039f"
             ],
             [
              0.2222222222222222,
              "#7201a8"
             ],
             [
              0.3333333333333333,
              "#9c179e"
             ],
             [
              0.4444444444444444,
              "#bd3786"
             ],
             [
              0.5555555555555556,
              "#d8576b"
             ],
             [
              0.6666666666666666,
              "#ed7953"
             ],
             [
              0.7777777777777778,
              "#fb9f3a"
             ],
             [
              0.8888888888888888,
              "#fdca26"
             ],
             [
              1,
              "#f0f921"
             ]
            ],
            "type": "contour"
           }
          ],
          "contourcarpet": [
           {
            "colorbar": {
             "outlinewidth": 0,
             "ticks": ""
            },
            "type": "contourcarpet"
           }
          ],
          "heatmap": [
           {
            "colorbar": {
             "outlinewidth": 0,
             "ticks": ""
            },
            "colorscale": [
             [
              0,
              "#0d0887"
             ],
             [
              0.1111111111111111,
              "#46039f"
             ],
             [
              0.2222222222222222,
              "#7201a8"
             ],
             [
              0.3333333333333333,
              "#9c179e"
             ],
             [
              0.4444444444444444,
              "#bd3786"
             ],
             [
              0.5555555555555556,
              "#d8576b"
             ],
             [
              0.6666666666666666,
              "#ed7953"
             ],
             [
              0.7777777777777778,
              "#fb9f3a"
             ],
             [
              0.8888888888888888,
              "#fdca26"
             ],
             [
              1,
              "#f0f921"
             ]
            ],
            "type": "heatmap"
           }
          ],
          "histogram": [
           {
            "marker": {
             "pattern": {
              "fillmode": "overlay",
              "size": 10,
              "solidity": 0.2
             }
            },
            "type": "histogram"
           }
          ],
          "histogram2d": [
           {
            "colorbar": {
             "outlinewidth": 0,
             "ticks": ""
            },
            "colorscale": [
             [
              0,
              "#0d0887"
             ],
             [
              0.1111111111111111,
              "#46039f"
             ],
             [
              0.2222222222222222,
              "#7201a8"
             ],
             [
              0.3333333333333333,
              "#9c179e"
             ],
             [
              0.4444444444444444,
              "#bd3786"
             ],
             [
              0.5555555555555556,
              "#d8576b"
             ],
             [
              0.6666666666666666,
              "#ed7953"
             ],
             [
              0.7777777777777778,
              "#fb9f3a"
             ],
             [
              0.8888888888888888,
              "#fdca26"
             ],
             [
              1,
              "#f0f921"
             ]
            ],
            "type": "histogram2d"
           }
          ],
          "histogram2dcontour": [
           {
            "colorbar": {
             "outlinewidth": 0,
             "ticks": ""
            },
            "colorscale": [
             [
              0,
              "#0d0887"
             ],
             [
              0.1111111111111111,
              "#46039f"
             ],
             [
              0.2222222222222222,
              "#7201a8"
             ],
             [
              0.3333333333333333,
              "#9c179e"
             ],
             [
              0.4444444444444444,
              "#bd3786"
             ],
             [
              0.5555555555555556,
              "#d8576b"
             ],
             [
              0.6666666666666666,
              "#ed7953"
             ],
             [
              0.7777777777777778,
              "#fb9f3a"
             ],
             [
              0.8888888888888888,
              "#fdca26"
             ],
             [
              1,
              "#f0f921"
             ]
            ],
            "type": "histogram2dcontour"
           }
          ],
          "mesh3d": [
           {
            "colorbar": {
             "outlinewidth": 0,
             "ticks": ""
            },
            "type": "mesh3d"
           }
          ],
          "parcoords": [
           {
            "line": {
             "colorbar": {
              "outlinewidth": 0,
              "ticks": ""
             }
            },
            "type": "parcoords"
           }
          ],
          "pie": [
           {
            "automargin": true,
            "type": "pie"
           }
          ],
          "scatter": [
           {
            "fillpattern": {
             "fillmode": "overlay",
             "size": 10,
             "solidity": 0.2
            },
            "type": "scatter"
           }
          ],
          "scatter3d": [
           {
            "line": {
             "colorbar": {
              "outlinewidth": 0,
              "ticks": ""
             }
            },
            "marker": {
             "colorbar": {
              "outlinewidth": 0,
              "ticks": ""
             }
            },
            "type": "scatter3d"
           }
          ],
          "scattercarpet": [
           {
            "marker": {
             "colorbar": {
              "outlinewidth": 0,
              "ticks": ""
             }
            },
            "type": "scattercarpet"
           }
          ],
          "scattergeo": [
           {
            "marker": {
             "colorbar": {
              "outlinewidth": 0,
              "ticks": ""
             }
            },
            "type": "scattergeo"
           }
          ],
          "scattergl": [
           {
            "marker": {
             "colorbar": {
              "outlinewidth": 0,
              "ticks": ""
             }
            },
            "type": "scattergl"
           }
          ],
          "scattermap": [
           {
            "marker": {
             "colorbar": {
              "outlinewidth": 0,
              "ticks": ""
             }
            },
            "type": "scattermap"
           }
          ],
          "scattermapbox": [
           {
            "marker": {
             "colorbar": {
              "outlinewidth": 0,
              "ticks": ""
             }
            },
            "type": "scattermapbox"
           }
          ],
          "scatterpolar": [
           {
            "marker": {
             "colorbar": {
              "outlinewidth": 0,
              "ticks": ""
             }
            },
            "type": "scatterpolar"
           }
          ],
          "scatterpolargl": [
           {
            "marker": {
             "colorbar": {
              "outlinewidth": 0,
              "ticks": ""
             }
            },
            "type": "scatterpolargl"
           }
          ],
          "scatterternary": [
           {
            "marker": {
             "colorbar": {
              "outlinewidth": 0,
              "ticks": ""
             }
            },
            "type": "scatterternary"
           }
          ],
          "surface": [
           {
            "colorbar": {
             "outlinewidth": 0,
             "ticks": ""
            },
            "colorscale": [
             [
              0,
              "#0d0887"
             ],
             [
              0.1111111111111111,
              "#46039f"
             ],
             [
              0.2222222222222222,
              "#7201a8"
             ],
             [
              0.3333333333333333,
              "#9c179e"
             ],
             [
              0.4444444444444444,
              "#bd3786"
             ],
             [
              0.5555555555555556,
              "#d8576b"
             ],
             [
              0.6666666666666666,
              "#ed7953"
             ],
             [
              0.7777777777777778,
              "#fb9f3a"
             ],
             [
              0.8888888888888888,
              "#fdca26"
             ],
             [
              1,
              "#f0f921"
             ]
            ],
            "type": "surface"
           }
          ],
          "table": [
           {
            "cells": {
             "fill": {
              "color": "#EBF0F8"
             },
             "line": {
              "color": "white"
             }
            },
            "header": {
             "fill": {
              "color": "#C8D4E3"
             },
             "line": {
              "color": "white"
             }
            },
            "type": "table"
           }
          ]
         },
         "layout": {
          "annotationdefaults": {
           "arrowcolor": "#2a3f5f",
           "arrowhead": 0,
           "arrowwidth": 1
          },
          "autotypenumbers": "strict",
          "coloraxis": {
           "colorbar": {
            "outlinewidth": 0,
            "ticks": ""
           }
          },
          "colorscale": {
           "diverging": [
            [
             0,
             "#8e0152"
            ],
            [
             0.1,
             "#c51b7d"
            ],
            [
             0.2,
             "#de77ae"
            ],
            [
             0.3,
             "#f1b6da"
            ],
            [
             0.4,
             "#fde0ef"
            ],
            [
             0.5,
             "#f7f7f7"
            ],
            [
             0.6,
             "#e6f5d0"
            ],
            [
             0.7,
             "#b8e186"
            ],
            [
             0.8,
             "#7fbc41"
            ],
            [
             0.9,
             "#4d9221"
            ],
            [
             1,
             "#276419"
            ]
           ],
           "sequential": [
            [
             0,
             "#0d0887"
            ],
            [
             0.1111111111111111,
             "#46039f"
            ],
            [
             0.2222222222222222,
             "#7201a8"
            ],
            [
             0.3333333333333333,
             "#9c179e"
            ],
            [
             0.4444444444444444,
             "#bd3786"
            ],
            [
             0.5555555555555556,
             "#d8576b"
            ],
            [
             0.6666666666666666,
             "#ed7953"
            ],
            [
             0.7777777777777778,
             "#fb9f3a"
            ],
            [
             0.8888888888888888,
             "#fdca26"
            ],
            [
             1,
             "#f0f921"
            ]
           ],
           "sequentialminus": [
            [
             0,
             "#0d0887"
            ],
            [
             0.1111111111111111,
             "#46039f"
            ],
            [
             0.2222222222222222,
             "#7201a8"
            ],
            [
             0.3333333333333333,
             "#9c179e"
            ],
            [
             0.4444444444444444,
             "#bd3786"
            ],
            [
             0.5555555555555556,
             "#d8576b"
            ],
            [
             0.6666666666666666,
             "#ed7953"
            ],
            [
             0.7777777777777778,
             "#fb9f3a"
            ],
            [
             0.8888888888888888,
             "#fdca26"
            ],
            [
             1,
             "#f0f921"
            ]
           ]
          },
          "colorway": [
           "#636efa",
           "#EF553B",
           "#00cc96",
           "#ab63fa",
           "#FFA15A",
           "#19d3f3",
           "#FF6692",
           "#B6E880",
           "#FF97FF",
           "#FECB52"
          ],
          "font": {
           "color": "#2a3f5f"
          },
          "geo": {
           "bgcolor": "white",
           "lakecolor": "white",
           "landcolor": "white",
           "showlakes": true,
           "showland": true,
           "subunitcolor": "#C8D4E3"
          },
          "hoverlabel": {
           "align": "left"
          },
          "hovermode": "closest",
          "mapbox": {
           "style": "light"
          },
          "paper_bgcolor": "white",
          "plot_bgcolor": "white",
          "polar": {
           "angularaxis": {
            "gridcolor": "#EBF0F8",
            "linecolor": "#EBF0F8",
            "ticks": ""
           },
           "bgcolor": "white",
           "radialaxis": {
            "gridcolor": "#EBF0F8",
            "linecolor": "#EBF0F8",
            "ticks": ""
           }
          },
          "scene": {
           "xaxis": {
            "backgroundcolor": "white",
            "gridcolor": "#DFE8F3",
            "gridwidth": 2,
            "linecolor": "#EBF0F8",
            "showbackground": true,
            "ticks": "",
            "zerolinecolor": "#EBF0F8"
           },
           "yaxis": {
            "backgroundcolor": "white",
            "gridcolor": "#DFE8F3",
            "gridwidth": 2,
            "linecolor": "#EBF0F8",
            "showbackground": true,
            "ticks": "",
            "zerolinecolor": "#EBF0F8"
           },
           "zaxis": {
            "backgroundcolor": "white",
            "gridcolor": "#DFE8F3",
            "gridwidth": 2,
            "linecolor": "#EBF0F8",
            "showbackground": true,
            "ticks": "",
            "zerolinecolor": "#EBF0F8"
           }
          },
          "shapedefaults": {
           "line": {
            "color": "#2a3f5f"
           }
          },
          "ternary": {
           "aaxis": {
            "gridcolor": "#DFE8F3",
            "linecolor": "#A2B1C6",
            "ticks": ""
           },
           "baxis": {
            "gridcolor": "#DFE8F3",
            "linecolor": "#A2B1C6",
            "ticks": ""
           },
           "bgcolor": "white",
           "caxis": {
            "gridcolor": "#DFE8F3",
            "linecolor": "#A2B1C6",
            "ticks": ""
           }
          },
          "title": {
           "x": 0.05
          },
          "xaxis": {
           "automargin": true,
           "gridcolor": "#EBF0F8",
           "linecolor": "#EBF0F8",
           "ticks": "",
           "title": {
            "standoff": 15
           },
           "zerolinecolor": "#EBF0F8",
           "zerolinewidth": 2
          },
          "yaxis": {
           "automargin": true,
           "gridcolor": "#EBF0F8",
           "linecolor": "#EBF0F8",
           "ticks": "",
           "title": {
            "standoff": 15
           },
           "zerolinecolor": "#EBF0F8",
           "zerolinewidth": 2
          }
         }
        },
        "title": {
         "text": "Incidence of Old Hardware by Orbit Shell"
        },
        "xaxis": {
         "anchor": "y",
         "domain": [
          0,
          1
         ],
         "title": {
          "text": "Orbit Shell"
         }
        },
        "yaxis": {
         "anchor": "x",
         "domain": [
          0,
          1
         ],
         "title": {
          "text": "Percent of Old Satellites"
         }
        }
       }
      }
     },
     "metadata": {},
     "output_type": "display_data"
    }
   ],
   "source": [
    "# Chart 6: Incidence of Old Hardware\n",
    "old_hw = df.groupby('orbit_shell').apply(\n",
    "    lambda x: (x['sat_age'] > 15).mean()*100\n",
    ").reset_index(name = 'pct_old')\n",
    "\n",
    "fig6 = px.bar(\n",
    "    old_hw,\n",
    "    x = 'orbit_shell',\n",
    "    y = 'pct_old',\n",
    "    text = 'pct_old',\n",
    "    color = 'pct_old',\n",
    "    color_continuous_scale = 'Rainbow',\n",
    "    title = 'Incidence of Old Hardware by Orbit Shell'\n",
    ")\n",
    "\n",
    "fig6.update_traces(texttemplate = '%{text:.1f}%', textposition = 'outside')\n",
    "fig6.update_layout(\n",
    "    xaxis_title = 'Orbit Shell',\n",
    "    yaxis_title = 'Percent of Old Satellites',\n",
    "    template = 'plotly_white',\n",
    "    coloraxis_showscale = False,\n",
    "    font=dict(size=10)\n",
    ")\n",
    "fig6.show()"
   ]
  },
  {
   "cell_type": "code",
   "execution_count": 81,
   "id": "b00bce16",
   "metadata": {},
   "outputs": [
    {
     "name": "stderr",
     "output_type": "stream",
     "text": [
      "/var/folders/nt/4rp641zs5lg7_234f6d1h4_00000gn/T/ipykernel_16756/2983319651.py:6: DeprecationWarning:\n",
      "\n",
      "The library used by the *country names* `locationmode` option is changing in an upcoming version. Country names in existing plots may not work in the new version. To ensure consistent behavior, consider setting `locationmode` to *ISO-3*.\n",
      "\n"
     ]
    },
    {
     "data": {
      "application/vnd.plotly.v1+json": {
       "config": {
        "plotlyServerURL": "https://plot.ly"
       },
       "data": [
        {
         "colorscale": [
          [
           0,
           "rgb(251,180,174)"
          ],
          [
           1,
           "rgb(251,180,174)"
          ]
         ],
         "geo": "geo",
         "hovertemplate": "orbit_shell=LEO<br>country_operator=%{location}<extra></extra>",
         "locationmode": "country names",
         "locations": [
          "Algeria",
          "Angola",
          "Argentina",
          "Australia",
          "Austria",
          "Belgium",
          "Canada",
          "Chile",
          "China",
          "China ",
          "China/Brazil",
          "China/France",
          "China/Italy",
          "Colombia",
          "Czech Republic",
          "Denmark",
          "ESA",
          "Ecuador",
          "Egypt",
          "Estonia",
          "Ethiopia",
          "Finland",
          "France",
          "France/Belgium/Sweden",
          "France/Israel",
          "France/Italy/Belgium/Spain/Greece",
          "Germany",
          "Hungary",
          "India",
          "India/Canada",
          "India/France",
          "Iran",
          "Iraq",
          "Israel",
          "Italy",
          "Japan",
          "Jordan",
          "Kazakhstan",
          "Kenya",
          "Kuwait",
          "Lithuania",
          "Mexico",
          "Monaco",
          "Morocco",
          "Morocco/Germany",
          "Nepal",
          "Netherlands",
          "New Zealand",
          "Nigeria",
          "Norway",
          "Pakistan",
          "Peru",
          "Poland",
          "Poland/UK",
          "Russia",
          "Saudi Arabia",
          "Sinapore",
          "Singapore",
          "Slovenia",
          "South Africa",
          "South Korea",
          "Spain",
          "Sudan",
          "Sweden",
          "Switzerland",
          "Taiwan",
          "Thailand",
          "Tunisia",
          "Turkey",
          "USA",
          "USA/Argentina",
          "USA/Canada/Japan",
          "USA/France",
          "USA/Germany",
          "USA/India/Singapore/Taiwan",
          "USA/Japan/Brazil",
          "USA/Poland",
          "USA/United Kingdom/Italy",
          "Ukraine",
          "United Arab Emirates",
          "United Kingdom",
          "United Kingdom/Netherlands",
          "Venezuela"
         ],
         "name": "LEO",
         "showlegend": true,
         "showscale": false,
         "type": "choropleth",
         "z": [
          1,
          1,
          1,
          1,
          1,
          1,
          1,
          1,
          1,
          1,
          1,
          1,
          1,
          1,
          1,
          1,
          1,
          1,
          1,
          1,
          1,
          1,
          1,
          1,
          1,
          1,
          1,
          1,
          1,
          1,
          1,
          1,
          1,
          1,
          1,
          1,
          1,
          1,
          1,
          1,
          1,
          1,
          1,
          1,
          1,
          1,
          1,
          1,
          1,
          1,
          1,
          1,
          1,
          1,
          1,
          1,
          1,
          1,
          1,
          1,
          1,
          1,
          1,
          1,
          1,
          1,
          1,
          1,
          1,
          1,
          1,
          1,
          1,
          1,
          1,
          1,
          1,
          1,
          1,
          1,
          1,
          1,
          1
         ]
        },
        {
         "colorscale": [
          [
           0,
           "rgb(179,205,227)"
          ],
          [
           1,
           "rgb(179,205,227)"
          ]
         ],
         "geo": "geo",
         "hovertemplate": "orbit_shell=GEO<br>country_operator=%{location}<extra></extra>",
         "locationmode": "country names",
         "locations": [
          "Azerbaijan",
          "Bangladesh",
          "Belarus",
          "Bolivia",
          "Brazil",
          "Bulgaria",
          "France/Italy",
          "Greece",
          "Greece/United Kingdom",
          "Indonesia",
          "Japan/Singapore",
          "Laos",
          "Luxembourg",
          "Malaysia",
          "Multinational",
          "Singapore/Taiwan",
          "Turkmenistan/Monaco",
          "USA/Canada",
          "USA/Japan",
          "United Kingdom/ESA",
          "Vietnam"
         ],
         "name": "GEO",
         "showlegend": true,
         "showscale": false,
         "type": "choropleth",
         "z": [
          1,
          1,
          1,
          1,
          1,
          1,
          1,
          1,
          1,
          1,
          1,
          1,
          1,
          1,
          1,
          1,
          1,
          1,
          1,
          1,
          1
         ]
        },
        {
         "colorscale": [
          [
           0,
           "rgb(204,235,197)"
          ],
          [
           1,
           "rgb(204,235,197)"
          ]
         ],
         "geo": "geo",
         "hovertemplate": "orbit_shell=UNKNOWN<br>country_operator=%{location}<extra></extra>",
         "locationmode": "country names",
         "locations": [
          "ESA/Russia"
         ],
         "name": "UNKNOWN",
         "showlegend": true,
         "showscale": false,
         "type": "choropleth",
         "z": [
          1
         ]
        }
       ],
       "layout": {
        "geo": {
         "center": {},
         "domain": {
          "x": [
           0,
           1
          ],
          "y": [
           0,
           1
          ]
         }
        },
        "legend": {
         "title": {
          "text": "orbit_shell"
         },
         "tracegroupgap": 0
        },
        "template": {
         "data": {
          "bar": [
           {
            "error_x": {
             "color": "#2a3f5f"
            },
            "error_y": {
             "color": "#2a3f5f"
            },
            "marker": {
             "line": {
              "color": "white",
              "width": 0.5
             },
             "pattern": {
              "fillmode": "overlay",
              "size": 10,
              "solidity": 0.2
             }
            },
            "type": "bar"
           }
          ],
          "barpolar": [
           {
            "marker": {
             "line": {
              "color": "white",
              "width": 0.5
             },
             "pattern": {
              "fillmode": "overlay",
              "size": 10,
              "solidity": 0.2
             }
            },
            "type": "barpolar"
           }
          ],
          "carpet": [
           {
            "aaxis": {
             "endlinecolor": "#2a3f5f",
             "gridcolor": "#C8D4E3",
             "linecolor": "#C8D4E3",
             "minorgridcolor": "#C8D4E3",
             "startlinecolor": "#2a3f5f"
            },
            "baxis": {
             "endlinecolor": "#2a3f5f",
             "gridcolor": "#C8D4E3",
             "linecolor": "#C8D4E3",
             "minorgridcolor": "#C8D4E3",
             "startlinecolor": "#2a3f5f"
            },
            "type": "carpet"
           }
          ],
          "choropleth": [
           {
            "colorbar": {
             "outlinewidth": 0,
             "ticks": ""
            },
            "type": "choropleth"
           }
          ],
          "contour": [
           {
            "colorbar": {
             "outlinewidth": 0,
             "ticks": ""
            },
            "colorscale": [
             [
              0,
              "#0d0887"
             ],
             [
              0.1111111111111111,
              "#46039f"
             ],
             [
              0.2222222222222222,
              "#7201a8"
             ],
             [
              0.3333333333333333,
              "#9c179e"
             ],
             [
              0.4444444444444444,
              "#bd3786"
             ],
             [
              0.5555555555555556,
              "#d8576b"
             ],
             [
              0.6666666666666666,
              "#ed7953"
             ],
             [
              0.7777777777777778,
              "#fb9f3a"
             ],
             [
              0.8888888888888888,
              "#fdca26"
             ],
             [
              1,
              "#f0f921"
             ]
            ],
            "type": "contour"
           }
          ],
          "contourcarpet": [
           {
            "colorbar": {
             "outlinewidth": 0,
             "ticks": ""
            },
            "type": "contourcarpet"
           }
          ],
          "heatmap": [
           {
            "colorbar": {
             "outlinewidth": 0,
             "ticks": ""
            },
            "colorscale": [
             [
              0,
              "#0d0887"
             ],
             [
              0.1111111111111111,
              "#46039f"
             ],
             [
              0.2222222222222222,
              "#7201a8"
             ],
             [
              0.3333333333333333,
              "#9c179e"
             ],
             [
              0.4444444444444444,
              "#bd3786"
             ],
             [
              0.5555555555555556,
              "#d8576b"
             ],
             [
              0.6666666666666666,
              "#ed7953"
             ],
             [
              0.7777777777777778,
              "#fb9f3a"
             ],
             [
              0.8888888888888888,
              "#fdca26"
             ],
             [
              1,
              "#f0f921"
             ]
            ],
            "type": "heatmap"
           }
          ],
          "histogram": [
           {
            "marker": {
             "pattern": {
              "fillmode": "overlay",
              "size": 10,
              "solidity": 0.2
             }
            },
            "type": "histogram"
           }
          ],
          "histogram2d": [
           {
            "colorbar": {
             "outlinewidth": 0,
             "ticks": ""
            },
            "colorscale": [
             [
              0,
              "#0d0887"
             ],
             [
              0.1111111111111111,
              "#46039f"
             ],
             [
              0.2222222222222222,
              "#7201a8"
             ],
             [
              0.3333333333333333,
              "#9c179e"
             ],
             [
              0.4444444444444444,
              "#bd3786"
             ],
             [
              0.5555555555555556,
              "#d8576b"
             ],
             [
              0.6666666666666666,
              "#ed7953"
             ],
             [
              0.7777777777777778,
              "#fb9f3a"
             ],
             [
              0.8888888888888888,
              "#fdca26"
             ],
             [
              1,
              "#f0f921"
             ]
            ],
            "type": "histogram2d"
           }
          ],
          "histogram2dcontour": [
           {
            "colorbar": {
             "outlinewidth": 0,
             "ticks": ""
            },
            "colorscale": [
             [
              0,
              "#0d0887"
             ],
             [
              0.1111111111111111,
              "#46039f"
             ],
             [
              0.2222222222222222,
              "#7201a8"
             ],
             [
              0.3333333333333333,
              "#9c179e"
             ],
             [
              0.4444444444444444,
              "#bd3786"
             ],
             [
              0.5555555555555556,
              "#d8576b"
             ],
             [
              0.6666666666666666,
              "#ed7953"
             ],
             [
              0.7777777777777778,
              "#fb9f3a"
             ],
             [
              0.8888888888888888,
              "#fdca26"
             ],
             [
              1,
              "#f0f921"
             ]
            ],
            "type": "histogram2dcontour"
           }
          ],
          "mesh3d": [
           {
            "colorbar": {
             "outlinewidth": 0,
             "ticks": ""
            },
            "type": "mesh3d"
           }
          ],
          "parcoords": [
           {
            "line": {
             "colorbar": {
              "outlinewidth": 0,
              "ticks": ""
             }
            },
            "type": "parcoords"
           }
          ],
          "pie": [
           {
            "automargin": true,
            "type": "pie"
           }
          ],
          "scatter": [
           {
            "fillpattern": {
             "fillmode": "overlay",
             "size": 10,
             "solidity": 0.2
            },
            "type": "scatter"
           }
          ],
          "scatter3d": [
           {
            "line": {
             "colorbar": {
              "outlinewidth": 0,
              "ticks": ""
             }
            },
            "marker": {
             "colorbar": {
              "outlinewidth": 0,
              "ticks": ""
             }
            },
            "type": "scatter3d"
           }
          ],
          "scattercarpet": [
           {
            "marker": {
             "colorbar": {
              "outlinewidth": 0,
              "ticks": ""
             }
            },
            "type": "scattercarpet"
           }
          ],
          "scattergeo": [
           {
            "marker": {
             "colorbar": {
              "outlinewidth": 0,
              "ticks": ""
             }
            },
            "type": "scattergeo"
           }
          ],
          "scattergl": [
           {
            "marker": {
             "colorbar": {
              "outlinewidth": 0,
              "ticks": ""
             }
            },
            "type": "scattergl"
           }
          ],
          "scattermap": [
           {
            "marker": {
             "colorbar": {
              "outlinewidth": 0,
              "ticks": ""
             }
            },
            "type": "scattermap"
           }
          ],
          "scattermapbox": [
           {
            "marker": {
             "colorbar": {
              "outlinewidth": 0,
              "ticks": ""
             }
            },
            "type": "scattermapbox"
           }
          ],
          "scatterpolar": [
           {
            "marker": {
             "colorbar": {
              "outlinewidth": 0,
              "ticks": ""
             }
            },
            "type": "scatterpolar"
           }
          ],
          "scatterpolargl": [
           {
            "marker": {
             "colorbar": {
              "outlinewidth": 0,
              "ticks": ""
             }
            },
            "type": "scatterpolargl"
           }
          ],
          "scatterternary": [
           {
            "marker": {
             "colorbar": {
              "outlinewidth": 0,
              "ticks": ""
             }
            },
            "type": "scatterternary"
           }
          ],
          "surface": [
           {
            "colorbar": {
             "outlinewidth": 0,
             "ticks": ""
            },
            "colorscale": [
             [
              0,
              "#0d0887"
             ],
             [
              0.1111111111111111,
              "#46039f"
             ],
             [
              0.2222222222222222,
              "#7201a8"
             ],
             [
              0.3333333333333333,
              "#9c179e"
             ],
             [
              0.4444444444444444,
              "#bd3786"
             ],
             [
              0.5555555555555556,
              "#d8576b"
             ],
             [
              0.6666666666666666,
              "#ed7953"
             ],
             [
              0.7777777777777778,
              "#fb9f3a"
             ],
             [
              0.8888888888888888,
              "#fdca26"
             ],
             [
              1,
              "#f0f921"
             ]
            ],
            "type": "surface"
           }
          ],
          "table": [
           {
            "cells": {
             "fill": {
              "color": "#EBF0F8"
             },
             "line": {
              "color": "white"
             }
            },
            "header": {
             "fill": {
              "color": "#C8D4E3"
             },
             "line": {
              "color": "white"
             }
            },
            "type": "table"
           }
          ]
         },
         "layout": {
          "annotationdefaults": {
           "arrowcolor": "#2a3f5f",
           "arrowhead": 0,
           "arrowwidth": 1
          },
          "autotypenumbers": "strict",
          "coloraxis": {
           "colorbar": {
            "outlinewidth": 0,
            "ticks": ""
           }
          },
          "colorscale": {
           "diverging": [
            [
             0,
             "#8e0152"
            ],
            [
             0.1,
             "#c51b7d"
            ],
            [
             0.2,
             "#de77ae"
            ],
            [
             0.3,
             "#f1b6da"
            ],
            [
             0.4,
             "#fde0ef"
            ],
            [
             0.5,
             "#f7f7f7"
            ],
            [
             0.6,
             "#e6f5d0"
            ],
            [
             0.7,
             "#b8e186"
            ],
            [
             0.8,
             "#7fbc41"
            ],
            [
             0.9,
             "#4d9221"
            ],
            [
             1,
             "#276419"
            ]
           ],
           "sequential": [
            [
             0,
             "#0d0887"
            ],
            [
             0.1111111111111111,
             "#46039f"
            ],
            [
             0.2222222222222222,
             "#7201a8"
            ],
            [
             0.3333333333333333,
             "#9c179e"
            ],
            [
             0.4444444444444444,
             "#bd3786"
            ],
            [
             0.5555555555555556,
             "#d8576b"
            ],
            [
             0.6666666666666666,
             "#ed7953"
            ],
            [
             0.7777777777777778,
             "#fb9f3a"
            ],
            [
             0.8888888888888888,
             "#fdca26"
            ],
            [
             1,
             "#f0f921"
            ]
           ],
           "sequentialminus": [
            [
             0,
             "#0d0887"
            ],
            [
             0.1111111111111111,
             "#46039f"
            ],
            [
             0.2222222222222222,
             "#7201a8"
            ],
            [
             0.3333333333333333,
             "#9c179e"
            ],
            [
             0.4444444444444444,
             "#bd3786"
            ],
            [
             0.5555555555555556,
             "#d8576b"
            ],
            [
             0.6666666666666666,
             "#ed7953"
            ],
            [
             0.7777777777777778,
             "#fb9f3a"
            ],
            [
             0.8888888888888888,
             "#fdca26"
            ],
            [
             1,
             "#f0f921"
            ]
           ]
          },
          "colorway": [
           "#636efa",
           "#EF553B",
           "#00cc96",
           "#ab63fa",
           "#FFA15A",
           "#19d3f3",
           "#FF6692",
           "#B6E880",
           "#FF97FF",
           "#FECB52"
          ],
          "font": {
           "color": "#2a3f5f"
          },
          "geo": {
           "bgcolor": "white",
           "lakecolor": "white",
           "landcolor": "white",
           "showlakes": true,
           "showland": true,
           "subunitcolor": "#C8D4E3"
          },
          "hoverlabel": {
           "align": "left"
          },
          "hovermode": "closest",
          "mapbox": {
           "style": "light"
          },
          "paper_bgcolor": "white",
          "plot_bgcolor": "white",
          "polar": {
           "angularaxis": {
            "gridcolor": "#EBF0F8",
            "linecolor": "#EBF0F8",
            "ticks": ""
           },
           "bgcolor": "white",
           "radialaxis": {
            "gridcolor": "#EBF0F8",
            "linecolor": "#EBF0F8",
            "ticks": ""
           }
          },
          "scene": {
           "xaxis": {
            "backgroundcolor": "white",
            "gridcolor": "#DFE8F3",
            "gridwidth": 2,
            "linecolor": "#EBF0F8",
            "showbackground": true,
            "ticks": "",
            "zerolinecolor": "#EBF0F8"
           },
           "yaxis": {
            "backgroundcolor": "white",
            "gridcolor": "#DFE8F3",
            "gridwidth": 2,
            "linecolor": "#EBF0F8",
            "showbackground": true,
            "ticks": "",
            "zerolinecolor": "#EBF0F8"
           },
           "zaxis": {
            "backgroundcolor": "white",
            "gridcolor": "#DFE8F3",
            "gridwidth": 2,
            "linecolor": "#EBF0F8",
            "showbackground": true,
            "ticks": "",
            "zerolinecolor": "#EBF0F8"
           }
          },
          "shapedefaults": {
           "line": {
            "color": "#2a3f5f"
           }
          },
          "ternary": {
           "aaxis": {
            "gridcolor": "#DFE8F3",
            "linecolor": "#A2B1C6",
            "ticks": ""
           },
           "baxis": {
            "gridcolor": "#DFE8F3",
            "linecolor": "#A2B1C6",
            "ticks": ""
           },
           "bgcolor": "white",
           "caxis": {
            "gridcolor": "#DFE8F3",
            "linecolor": "#A2B1C6",
            "ticks": ""
           }
          },
          "title": {
           "x": 0.05
          },
          "xaxis": {
           "automargin": true,
           "gridcolor": "#EBF0F8",
           "linecolor": "#EBF0F8",
           "ticks": "",
           "title": {
            "standoff": 15
           },
           "zerolinecolor": "#EBF0F8",
           "zerolinewidth": 2
          },
          "yaxis": {
           "automargin": true,
           "gridcolor": "#EBF0F8",
           "linecolor": "#EBF0F8",
           "ticks": "",
           "title": {
            "standoff": 15
           },
           "zerolinecolor": "#EBF0F8",
           "zerolinewidth": 2
          }
         }
        },
        "title": {
         "text": "Dominant Orbit Shell by Country"
        }
       }
      }
     },
     "metadata": {},
     "output_type": "display_data"
    }
   ],
   "source": [
    "# Chart 7: Dominant Orbit Shell by Country\n",
    "# Getting dominant orbit per country\n",
    "dom_shell = df.groupby(['country_operator','orbit_shell']).size().reset_index(name = 'count')\n",
    "dom_shell = dom_shell.loc[dom_shell.groupby('country_operator')['count'].idxmax()]\n",
    "\n",
    "fig7 = px.choropleth(\n",
    "    dom_shell,\n",
    "    locations = 'country_operator',\n",
    "    locationmode = 'country names',\n",
    "    color = 'orbit_shell',\n",
    "    title = 'Dominant Orbit Shell by Country',\n",
    "    color_discrete_sequence = px.colors.qualitative.Pastel1\n",
    ")\n",
    "fig7.update_layout(template = 'plotly_white')\n",
    "fig7.show()\n"
   ]
  }
 ],
 "metadata": {
  "kernelspec": {
   "display_name": "Python 3",
   "language": "python",
   "name": "python3"
  },
  "language_info": {
   "codemirror_mode": {
    "name": "ipython",
    "version": 3
   },
   "file_extension": ".py",
   "mimetype": "text/x-python",
   "name": "python",
   "nbconvert_exporter": "python",
   "pygments_lexer": "ipython3",
   "version": "3.13.7"
  }
 },
 "nbformat": 4,
 "nbformat_minor": 5
}
